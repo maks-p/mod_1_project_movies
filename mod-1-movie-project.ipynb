{
 "cells": [
  {
   "cell_type": "code",
   "execution_count": null,
   "metadata": {},
   "outputs": [],
   "source": [
    "import pandas as pd\n",
    "import requests\n",
    "from bs4 import BeautifulSoup\n",
    "\n",
    "# url = 'https://www.lionsgate.com/movies'\n",
    "# url = 'https://www.lionsgate.com/js/main.cade37ec53e0f21eb415.js'\n",
    "url = 'https://www.lionsgate.com/movies?_api=true'\n",
    "\n",
    "headers = {\n",
    "    'user-agent': 'Mozilla/5.0 (Macintosh; Intel Mac OS X 10_11_6) AppleWebKit/537.36 (KHTML, like Gecko) Chrome/53.0.2785.143 Safari/537.36'}\n",
    "r = requests.get(url, headers=headers, timeout=5)\n",
    "c = r.content\n",
    "soup = BeautifulSoup(c, 'html.parser')\n",
    "print(type(soup))"
   ]
  },
  {
   "cell_type": "code",
   "execution_count": 63,
   "metadata": {},
   "outputs": [
    {
     "name": "stdout",
     "output_type": "stream",
     "text": [
      "dict_values(['Page', [{'_type': 'Image', 'alt': 'default_clouds_bg_01.jpg', 'original': {'_type': 'ImageSize', 'uri': 'https://lionsgate.brightspotcdn.com/ca/44/eec563fb408386ea41b03a244cab/default-clouds-bg-01.jpg'}, 'styleImage': {'_type': 'ImageSize', 'height': 810, 'uri': 'https://lionsgate.brightspotcdn.com/dims4/default/8779887/2147483647/strip/true/crop/1920x1080+0+0/resize/1440x810!/quality/90/?url=https%3A%2F%2Flionsgate.brightspotcdn.com%2Fca%2F44%2Feec563fb408386ea41b03a244cab%2Fdefault-clouds-bg-01.jpg', 'width': 1440}, 'seo': {'_type': 'Seo'}}], [{'_type': 'Image', 'alt': 'default_clouds_bg_01.jpg', 'original': {'_type': 'ImageSize', 'uri': 'https://lionsgate.brightspotcdn.com/ca/44/eec563fb408386ea41b03a244cab/default-clouds-bg-01.jpg'}, 'styleImage': {'_type': 'ImageSize', 'height': 1080, 'uri': 'https://lionsgate.brightspotcdn.com/dims4/default/ef6d23f/2147483647/strip/true/crop/780x1080+570+0/resize/780x1080!/quality/90/?url=https%3A%2F%2Flionsgate.brightspotcdn.com%2Fca%2F44%2Feec563fb408386ea41b03a244cab%2Fdefault-clouds-bg-01.jpg', 'width': 780}, 'seo': {'_type': 'Seo'}}], 'https://www.lionsgate.com/movies', [{'_type': 'List', 'items': [{'_type': 'Promo', 'canonicalUri': 'https://www.lionsgate.com/movies/hellboy', 'category': 'Movies', 'categoryUri': 'https://www.lionsgate.com/movies', 'description': 'Get Tickets Now!', 'media': {'_type': 'Image', 'alt': 'hellboy_movies_promo_grid_widefeature_01.jpg', 'original': {'_type': 'ImageSize', 'uri': 'https://lionsgate.brightspotcdn.com/3e/c2/3f65e9ca433e931b5c98ddeb697c/hellboy-movies-promo-grid-widefeature-01.jpg'}, 'overlayVideo': {'_type': 'VideoPlayer', 'metadata': {'_type': 'VideoMetadata', 'sources': [{'_type': 'VideoSource', 'uri': 'https://lionsgate.brightspotcdn.com/09/7a/d45433b244d9a6e2ba91f0534ffa/hellboy-trailer-home-promo-widefeature-video-01.mp4', 'type': 'video/mp4'}]}, 'options': {'_type': 'VideoPlayerOptions'}, 'playerId': 'fe3044184054b4521b4e4534c6b4c4a2a', 'provider': 'html5', 'videoId': 's3:09/7a/d45433b244d9a6e2ba91f0534ffa/hellboy-trailer-home-promo-widefeature-video-01.mp4', 'videoTitle': 'hellboy_trailer_home_promo_widefeature_video_01.mp4'}, 'styleImage': {'_type': 'ImageSize', 'height': 466, 'uri': 'https://lionsgate.brightspotcdn.com/dims4/default/e7c8216/2147483647/strip/true/crop/713x480+0+0/resize/692x466!/quality/90/?url=https%3A%2F%2Flionsgate.brightspotcdn.com%2F3e%2Fc2%2F3f65e9ca433e931b5c98ddeb697c%2Fhellboy-movies-promo-grid-widefeature-01.jpg', 'width': 692}, 'seo': {'_type': 'Seo'}}, 'promoType': 'oneOffPage', 'publishDate': 'September 20, 2018 07:59 PM', 'title': 'Hellboy', 'uid': '00000165-f96b-d325-af7d-fb7fb3ea0000'}, {'_type': 'Promo', 'canonicalUri': 'https://www.lionsgate.com/movies/long-shot', 'category': 'Movies', 'categoryUri': 'https://www.lionsgate.com/movies', 'description': 'In Theaters May 3', 'media': {'_type': 'Image', 'alt': 'longshot_movies_promo_grid_widefeature_01.jpg', 'original': {'_type': 'ImageSize', 'uri': 'https://lionsgate.brightspotcdn.com/b9/f2/0dab9ccb403cac33d67194899ab8/longshot-movies-promo-grid-widefeature-01.jpg'}, 'overlayVideo': {'_type': 'VideoPlayer', 'metadata': {'_type': 'VideoMetadata', 'sources': [{'_type': 'VideoSource', 'uri': 'https://lionsgate.brightspotcdn.com/9e/12/fd304603469c80d784b73c9fc54f/long-shot-home-promo-widefeature-video-01.mp4', 'type': 'video/mp4'}]}, 'options': {'_type': 'VideoPlayerOptions'}, 'playerId': 'f953d519ef7c0431289c68fcb97699a9b', 'provider': 'html5', 'videoId': 's3:9e/12/fd304603469c80d784b73c9fc54f/long-shot-home-promo-widefeature-video-01.mp4', 'videoTitle': 'long-shot_home_promo_widefeature_video_01.mp4'}, 'styleImage': {'_type': 'ImageSize', 'height': 466, 'uri': 'https://lionsgate.brightspotcdn.com/dims4/default/1cca261/2147483647/strip/true/crop/713x480+0+0/resize/692x466!/quality/90/?url=https%3A%2F%2Flionsgate.brightspotcdn.com%2Fb9%2Ff2%2F0dab9ccb403cac33d67194899ab8%2Flongshot-movies-promo-grid-widefeature-01.jpg', 'width': 692}, 'seo': {'_type': 'Seo'}}, 'promoType': 'oneOffPage', 'publishDate': 'February 15, 2019 05:38 PM', 'title': 'Long Shot ', 'uid': '00000168-e968-d538-a1e8-fd78eab90000'}], 'style': 'featured-content', 'title': 'Featured Movies'}, {'_type': 'List', 'items': [{'_type': 'Promo', 'canonicalUri': 'https://www.lionsgate.com/movies/hellboy', 'category': 'Movies', 'categoryUri': 'https://www.lionsgate.com/movies', 'description': 'Coming Soon', 'media': {'_type': 'Image', 'alt': 'hellboy_movies_poster_01.jpg', 'original': {'_type': 'ImageSize', 'uri': 'https://lionsgate.brightspotcdn.com/cc/0b/5ea2f20b4a0a9a0c250d6f22f51c/hellboy-movies-poster-01.jpg'}, 'styleImage': {'_type': 'ImageSize', 'height': 226, 'uri': 'https://lionsgate.brightspotcdn.com/dims4/default/83ac939/2147483647/strip/true/crop/350x517+0+1/resize/153x226!/quality/90/?url=https%3A%2F%2Flionsgate.brightspotcdn.com%2Fcc%2F0b%2F5ea2f20b4a0a9a0c250d6f22f51c%2Fhellboy-movies-poster-01.jpg', 'width': 153}, 'seo': {'_type': 'Seo'}}, 'promoType': 'oneOffPage', 'publishDate': 'September 20, 2018 07:59 PM', 'title': 'HELLBOY', 'uid': '00000165-f96b-d325-af7d-fb7fb3ea0000'}, {'_type': 'Promo', 'canonicalUri': 'https://www.lionsgate.com/movies/long-shot', 'category': 'Movies', 'categoryUri': 'https://www.lionsgate.com/movies', 'media': {'_type': 'Image', 'alt': 'longshot_movies_poster_01.jpg', 'original': {'_type': 'ImageSize', 'uri': 'https://lionsgate.brightspotcdn.com/18/ad/9445b6e5414ebcd0aae8a97ecee1/longshot-movies-poster-01.jpg'}, 'styleImage': {'_type': 'ImageSize', 'height': 226, 'uri': 'https://lionsgate.brightspotcdn.com/dims4/default/9943eb3/2147483647/strip/true/crop/350x517+0+1/resize/153x226!/quality/90/?url=https%3A%2F%2Flionsgate.brightspotcdn.com%2F18%2Fad%2F9445b6e5414ebcd0aae8a97ecee1%2Flongshot-movies-poster-01.jpg', 'width': 153}, 'seo': {'_type': 'Seo'}}, 'promoType': 'oneOffPage', 'publishDate': 'February 15, 2019 05:38 PM', 'title': 'LONG SHOT', 'uid': '00000168-e968-d538-a1e8-fd78eab90000'}, {'_type': 'Promo', 'canonicalUri': 'https://www.lionsgate.com/movies/john-wick-chapter-3-parabellum', 'category': 'Movies', 'categoryUri': 'https://www.lionsgate.com/movies', 'media': {'_type': 'Image', 'alt': 'john-wick-chapter-3-parabellum_movies_poster_01.jpg', 'original': {'_type': 'ImageSize', 'uri': 'https://lionsgate.brightspotcdn.com/13/bd/27c57a86432ca6b5dedf165fe997/john-wick-chapter-3-parabellum-movies-poster-01.jpg'}, 'styleImage': {'_type': 'ImageSize', 'height': 226, 'uri': 'https://lionsgate.brightspotcdn.com/dims4/default/7c2614e/2147483647/strip/true/crop/350x517+0+1/resize/153x226!/quality/90/?url=https%3A%2F%2Flionsgate.brightspotcdn.com%2F13%2Fbd%2F27c57a86432ca6b5dedf165fe997%2Fjohn-wick-chapter-3-parabellum-movies-poster-01.jpg', 'width': 153}, 'seo': {'_type': 'Seo'}}, 'promoType': 'oneOffPage', 'publishDate': 'January 15, 2019 10:00 AM', 'title': 'JOHN WICK: CHAPTER 3 - PARABELLUM', 'uid': '00000168-4f09-dc52-a77c-cf2b25030000'}], 'style': 'content-tray-with-vertical-posters', 'title': 'Coming Soon to Theaters'}, {'_type': 'List', 'items': [{'_type': 'Promo', 'canonicalUri': 'https://www.lionsgate.com/videos/the-kid-2019-movie-official-trailer-ethan-hawke-dane-dehaan-jake-schur', 'duration': '2:11', 'provider': 'youtube', 'videoId': 'qpMyCaQGlqU', 'media': {'_type': 'Image', 'alt': 'THE KID Thumb.jpg', 'original': {'_type': 'ImageSize', 'uri': 'https://lionsgate.brightspotcdn.com/f6/8e/ac32cbd943508e00c1ac927bf0d9/the-kid-thumb.jpg'}, 'styleImage': {'_type': 'ImageSize', 'height': 190, 'uri': 'https://lionsgate.brightspotcdn.com/dims4/default/bae9e31/2147483647/strip/true/crop/342x192+0+0/resize/338x190!/quality/90/?url=https%3A%2F%2Flionsgate.brightspotcdn.com%2Ff6%2F8e%2Fac32cbd943508e00c1ac927bf0d9%2Fthe-kid-thumb.jpg', 'width': 338}, 'seo': {'_type': 'Seo'}}, 'promoType': 'video', 'publishDate': 'February 22, 2019 07:31 PM', 'title': 'THE KID (2019 Movie) Official Trailer – Ethan Hawke, Dane DeHaan, Jake Schur', 'uid': '00000169-17c2-da3f-a57b-97cfde380001'}, {'_type': 'Promo', 'canonicalUri': 'https://www.lionsgate.com/videos/hellboy-official-trailer', 'duration': '2:30', 'provider': 'youtube', 'videoId': 'dt5g5_1cKVk', 'media': {'_type': 'Image', 'alt': 'hellboy-trailer_movies_promo_horizontal_01.jpg', 'original': {'_type': 'ImageSize', 'uri': 'https://lionsgate.brightspotcdn.com/a9/e4/8b8c636f47539af4c24d3b6c4a48/hellboy-trailer-movies-promo-horizontal-01.jpg'}, 'styleImage': {'_type': 'ImageSize', 'height': 190, 'uri': 'https://lionsgate.brightspotcdn.com/dims4/default/94e578e/2147483647/strip/true/crop/342x192+0+0/resize/338x190!/quality/90/?url=https%3A%2F%2Flionsgate.brightspotcdn.com%2Fa9%2Fe4%2F8b8c636f47539af4c24d3b6c4a48%2Fhellboy-trailer-movies-promo-horizontal-01.jpg', 'width': 338}, 'seo': {'_type': 'Seo'}}, 'promoType': 'video', 'publishDate': 'December 19, 2018 02:00 PM', 'title': 'HELLBOY Official Trailer', 'uid': '00000167-c7a0-d352-af6f-fff13a710001'}, {'_type': 'Promo', 'canonicalUri': 'https://www.lionsgate.com/videos/long-shot-official-trailer', 'duration': '2:42', 'provider': 'youtube', 'videoId': 'ZKsc2I4Tgsk', 'media': {'_type': 'Image', 'alt': 'long-shot_movies_videos_promo_horizontal_TrailerThumbnail.jpg', 'original': {'_type': 'ImageSize', 'uri': 'https://lionsgate.brightspotcdn.com/87/2e/5e8349e94ac5aac6997bb5a74754/long-shot-movies-videos-promo-horizontal-trailerthumbnail.jpg'}, 'styleImage': {'_type': 'ImageSize', 'height': 190, 'uri': 'https://lionsgate.brightspotcdn.com/dims4/default/249554e/2147483647/strip/true/crop/342x192+0+0/resize/338x190!/quality/90/?url=https%3A%2F%2Flionsgate.brightspotcdn.com%2F87%2F2e%2F5e8349e94ac5aac6997bb5a74754%2Flong-shot-movies-videos-promo-horizontal-trailerthumbnail.jpg', 'width': 338}, 'seo': {'_type': 'Seo'}}, 'promoType': 'video', 'publishDate': 'February 15, 2019 01:39 PM', 'title': 'LONG SHOT Official Trailer', 'uid': '00000168-f259-d64f-afe9-fa5df3780001'}, {'_type': 'Promo', 'canonicalUri': 'https://www.lionsgate.com/videos/tyler-perrys-a-madea-family-funeral-2019-movie-official-trailer-tyler-perry-cassi-davis', 'duration': '1:56', 'provider': 'youtube', 'videoId': 'id61hcbdMZA', 'media': {'_type': 'Image', 'alt': 'a-madea-family-funeral_movies_videos_videostill_Trailer1-2_dark.jpg', 'original': {'_type': 'ImageSize', 'uri': 'https://lionsgate.brightspotcdn.com/bb/7a/64b670f14bcbb44e5ed00efa862b/a-madea-family-funeral-movies-videos-videostill-trailer1-2-dark.jpg'}, 'styleImage': {'_type': 'ImageSize', 'height': 190, 'uri': 'https://lionsgate.brightspotcdn.com/dims4/default/3d79ca6/2147483647/strip/true/crop/1400x787+0+1/resize/338x190!/quality/90/?url=https%3A%2F%2Flionsgate.brightspotcdn.com%2Fbb%2F7a%2F64b670f14bcbb44e5ed00efa862b%2Fa-madea-family-funeral-movies-videos-videostill-trailer1-2-dark.jpg', 'width': 338}, 'seo': {'_type': 'Seo'}}, 'promoType': 'video', 'publishDate': 'October 31, 2018 05:29 PM', 'title': 'A MADEA FAMILY FUNERAL Official Trailer', 'uid': '00000166-cc06-d21f-a176-ffc6bb7c0001'}, {'_type': 'Promo', 'canonicalUri': 'https://www.lionsgate.com/videos/cold-pursuit-2019-movie-official-trailer-liam-neeson-laura-dern-emmy-rossum', 'duration': '2:31', 'provider': 'youtube', 'videoId': '0phuNQQ_gHI', 'media': {'_type': 'Image', 'alt': 'cold-pursuit_ movies_videos_promo_horizontal_OfficialTrailerThumbnail.jpg', 'original': {'_type': 'ImageSize', 'uri': 'https://lionsgate.brightspotcdn.com/fd/d5/cb3f5d1c493f90b855ac9161a261/cold-pursuit-movies-videos-promo-horizontal-officialtrailerthumbnail.jpg'}, 'styleImage': {'_type': 'ImageSize', 'height': 190, 'uri': 'https://lionsgate.brightspotcdn.com/dims4/default/b5ab7c7/2147483647/strip/true/crop/342x192+0+0/resize/338x190!/quality/90/?url=https%3A%2F%2Flionsgate.brightspotcdn.com%2Ffd%2Fd5%2Fcb3f5d1c493f90b855ac9161a261%2Fcold-pursuit-movies-videos-promo-horizontal-officialtrailerthumbnail.jpg', 'width': 338}, 'seo': {'_type': 'Seo'}}, 'promoType': 'video', 'publishDate': 'October 31, 2018 05:51 PM', 'title': 'COLD PURSUIT Official Trailer', 'uid': '00000166-cc1b-de56-a566-cddbd2d40001'}, {'_type': 'Promo', 'canonicalUri': 'https://www.lionsgate.com/videos/the-spy-who-dumped-me-2018-movie-official-trailer-mila-kunis-kate-mckinnon-sam-heughan', 'duration': '2:30', 'provider': 'youtube', 'videoId': 'CXkUaaVrB_s', 'media': {'_type': 'Image', 'alt': 'the-spy-who-dumped-me_movies_trailerthumb_01.jpg', 'original': {'_type': 'ImageSize', 'uri': 'https://lionsgate.brightspotcdn.com/5f/e9/187dcce1413cb2d124602345fa59/the-spy-who-dumped-me-movies-trailerthumb-01.jpg'}, 'styleImage': {'_type': 'ImageSize', 'height': 190, 'uri': 'https://lionsgate.brightspotcdn.com/dims4/default/26cd071/2147483647/strip/true/crop/342x192+0+0/resize/338x190!/quality/90/?url=https%3A%2F%2Flionsgate.brightspotcdn.com%2F5f%2Fe9%2F187dcce1413cb2d124602345fa59%2Fthe-spy-who-dumped-me-movies-trailerthumb-01.jpg', 'width': 338}, 'seo': {'_type': 'Seo'}}, 'promoType': 'video', 'publishDate': 'September 19, 2018 02:40 AM', 'title': 'THE SPY WHO DUMPED ME Official Trailer', 'uid': '00000165-f08e-d7ff-a97f-f39fcbed0001'}, {'_type': 'Promo', 'canonicalUri': 'https://www.lionsgate.com/videos/blindspotting-2018-movie-official-trailer-daveed-diggs-rafael-casal', 'duration': '2:34', 'provider': 'youtube', 'videoId': '-9-HBqVbtTo', 'media': {'_type': 'Image', 'alt': 'blindspotting_movies_trailer_still_01.jpg', 'original': {'_type': 'ImageSize', 'uri': 'https://lionsgate.brightspotcdn.com/45/bf/9b8696d74837833ec0bdd59d8747/blindspotting-movies-trailer-still-01.jpg'}, 'styleImage': {'_type': 'ImageSize', 'height': 190, 'uri': 'https://lionsgate.brightspotcdn.com/dims4/default/310b63d/2147483647/strip/true/crop/1400x787+0+1/resize/338x190!/quality/90/?url=https%3A%2F%2Flionsgate.brightspotcdn.com%2F45%2Fbf%2F9b8696d74837833ec0bdd59d8747%2Fblindspotting-movies-trailer-still-01.jpg', 'width': 338}, 'seo': {'_type': 'Seo'}}, 'promoType': 'video', 'publishDate': 'October 04, 2018 06:33 PM', 'title': 'BLINDSPOTTING Official Trailer', 'uid': '00000166-4136-d654-a97e-5777a9350001'}, {'_type': 'Promo', 'canonicalUri': 'https://www.lionsgate.com/videos/hunter-killer-official-home-entertainment-trailer', 'duration': '1:01', 'provider': 'youtube', 'videoId': '-fHClhjhTOM', 'media': {'_type': 'Image', 'alt': 'hunter-killer_ movies_videos_promo_horizontal_OfficialTrailerThumbnail.jpg', 'original': {'_type': 'ImageSize', 'uri': 'https://lionsgate.brightspotcdn.com/4e/a7/9146930345dab1917cea2b15c68c/hunter-killer-movies-videos-promo-horizontal-officialtrailerthumbnail.jpg'}, 'styleImage': {'_type': 'ImageSize', 'height': 190, 'uri': 'https://lionsgate.brightspotcdn.com/dims4/default/df964e1/2147483647/strip/true/crop/342x192+0+0/resize/338x190!/quality/90/?url=https%3A%2F%2Flionsgate.brightspotcdn.com%2F4e%2Fa7%2F9146930345dab1917cea2b15c68c%2Fhunter-killer-movies-videos-promo-horizontal-officialtrailerthumbnail.jpg', 'width': 338}, 'seo': {'_type': 'Seo'}}, 'promoType': 'video', 'publishDate': 'December 11, 2018 11:59 AM', 'title': 'HUNTER KILLER - Official Home Entertainment Trailer ', 'uid': '00000167-9abd-dc16-afe7-9fbd7e390001'}, {'_type': 'Promo', 'canonicalUri': 'https://www.lionsgate.com/videos/a-simple-favor-2018-movie-official-trailer-anna-kendrick-blake-lively-henry-golding', 'duration': '1:30', 'provider': 'youtube', 'videoId': 'OnlwE_f32T8', 'media': {'_type': 'Image', 'alt': 'ASimpleFavor_section_Promo_Horizontal_03.jpg', 'original': {'_type': 'ImageSize', 'uri': 'https://lionsgate.brightspotcdn.com/4b/8a/08068e534826a376a4342929ee1d/asimplefavor-section-promo-horizontal-03.jpg'}, 'styleImage': {'_type': 'ImageSize', 'height': 190, 'uri': 'https://lionsgate.brightspotcdn.com/dims4/default/6ce8970/2147483647/strip/true/crop/342x192+0+0/resize/338x190!/quality/90/?url=https%3A%2F%2Flionsgate.brightspotcdn.com%2F4b%2F8a%2F08068e534826a376a4342929ee1d%2Fasimplefavor-section-promo-horizontal-03.jpg', 'width': 338}, 'seo': {'_type': 'Seo'}}, 'promoType': 'video', 'publishDate': 'September 16, 2018 02:37 PM', 'title': 'A SIMPLE FAVOR Official Trailer', 'uid': '00000165-e3a8-dedd-aff7-f3f829e90001'}, {'_type': 'Promo', 'canonicalUri': 'https://www.lionsgate.com/videos/uncle-drew-2018-movie-official-trailer-kyrie-irving-shaq-lil-rel-tiffany-haddish', 'duration': '2:36', 'provider': 'youtube', 'videoId': '9H2SSvQ8ihA', 'media': {'_type': 'Image', 'alt': 'uncle-drew-videothumb_official_trailer.jpg', 'original': {'_type': 'ImageSize', 'uri': 'https://lionsgate.brightspotcdn.com/b3/4a/1796e6194eef88ce9c233efb8105/uncle-drew-videothumb-official-trailer.jpg'}, 'styleImage': {'_type': 'ImageSize', 'height': 190, 'uri': 'https://lionsgate.brightspotcdn.com/dims4/default/06e4559/2147483647/strip/true/crop/342x192+0+0/resize/338x190!/quality/90/?url=https%3A%2F%2Flionsgate.brightspotcdn.com%2Fb3%2F4a%2F1796e6194eef88ce9c233efb8105%2Funcle-drew-videothumb-official-trailer.jpg', 'width': 338}, 'seo': {'_type': 'Seo'}}, 'promoType': 'video', 'publishDate': 'October 05, 2018 02:18 PM', 'title': 'UNCLE DREW Official Trailer', 'uid': '00000166-4573-d654-a97e-577350590001'}, {'_type': 'Promo', 'canonicalUri': 'https://www.lionsgate.com/videos/kin-2018-movie-official-trailer-dennis-quaid-zoe-kravitz', 'duration': '2:39', 'provider': 'youtube', 'videoId': 'Ac5wrM2uYbk', 'media': {'_type': 'Image', 'alt': 'kin-content_tray_horizontal_thumbnai.jpg', 'original': {'_type': 'ImageSize', 'uri': 'https://lionsgate.brightspotcdn.com/b6/c7/bc8d81544aa3958ba86d100b5e21/kin-content-tray-horizontal-thumbnai.jpg'}, 'styleImage': {'_type': 'ImageSize', 'height': 190, 'uri': 'https://lionsgate.brightspotcdn.com/dims4/default/fc56582/2147483647/strip/true/crop/342x192+0+0/resize/338x190!/quality/90/?url=https%3A%2F%2Flionsgate.brightspotcdn.com%2Fb6%2Fc7%2Fbc8d81544aa3958ba86d100b5e21%2Fkin-content-tray-horizontal-thumbnai.jpg', 'width': 338}, 'seo': {'_type': 'Seo'}}, 'promoType': 'video', 'publishDate': 'October 02, 2018 07:26 PM', 'title': 'KIN Official Trailer', 'uid': '00000166-371a-d55b-a7fe-bf9aa6540001'}], 'style': 'video-content-tray-with-horizontal-thumbnails', 'title': 'Watch Trailers'}, {'_type': 'List', 'items': [{'_type': 'Promo', 'canonicalUri': 'https://www.lionsgate.com/movies/hunter-killer', 'category': 'Movies', 'categoryUri': 'https://www.lionsgate.com/movies', 'description': 'Available on Digital January 15, and on 4K Ultra HD, Blu-Ray™ and DVD January 29', 'media': {'_type': 'Image', 'alt': 'Hunter-Killer_movies-poster-02.jpg', 'original': {'_type': 'ImageSize', 'uri': 'https://lionsgate.brightspotcdn.com/16/bb/b51e3a70457ca6a06c09a7589e7e/hunterkiller-poster-01.jpg'}, 'styleImage': {'_type': 'ImageSize', 'height': 226, 'uri': 'https://lionsgate.brightspotcdn.com/dims4/default/f62778e/2147483647/strip/true/crop/350x517+0+4/resize/153x226!/quality/90/?url=https%3A%2F%2Flionsgate.brightspotcdn.com%2F16%2Fbb%2Fb51e3a70457ca6a06c09a7589e7e%2Fhunterkiller-poster-01.jpg', 'width': 153}, 'seo': {'_type': 'Seo'}}, 'promoType': 'oneOffPage', 'publishDate': 'August 16, 2018 02:04 AM', 'title': 'HUNTER KILLER', 'uid': '00000165-4155-d038-abed-e9d5f1390000'}, {'_type': 'Promo', 'canonicalUri': 'https://www.lionsgate.com/movies/a-simple-favor', 'category': 'Movies', 'categoryUri': 'https://www.lionsgate.com/movies', 'media': {'_type': 'Image', 'alt': 'ASimpleFavor_poster_01.jpg', 'original': {'_type': 'ImageSize', 'uri': 'https://lionsgate.brightspotcdn.com/4c/b2/0c0bd1164b6da5c466ea47696fa3/asimplefavor-poster-01.jpg'}, 'styleImage': {'_type': 'ImageSize', 'height': 226, 'uri': 'https://lionsgate.brightspotcdn.com/dims4/default/a1b73ec/2147483647/strip/true/crop/350x517+0+4/resize/153x226!/quality/90/?url=https%3A%2F%2Flionsgate.brightspotcdn.com%2F4c%2Fb2%2F0c0bd1164b6da5c466ea47696fa3%2Fasimplefavor-poster-01.jpg', 'width': 153}, 'seo': {'_type': 'Seo'}}, 'promoType': 'oneOffPage', 'publishDate': 'December 17, 2018 11:59 PM', 'title': 'A SIMPLE FAVOR', 'uid': '00000165-3a6f-d038-abed-fbff959a0000'}, {'_type': 'Promo', 'canonicalUri': 'https://www.lionsgate.com/movies/robin-hood', 'category': 'Movies', 'categoryUri': 'https://www.lionsgate.com/movies', 'media': {'_type': 'Image', 'alt': 'RobinHood_Ocard_poster_01.jpg', 'original': {'_type': 'ImageSize', 'uri': 'https://lionsgate.brightspotcdn.com/0c/12/b6efd07a4e6e8558adcb1d5fa338/robinhood-ocard-poster-01.jpg'}, 'styleImage': {'_type': 'ImageSize', 'height': 226, 'uri': 'https://lionsgate.brightspotcdn.com/dims4/default/ef7a96b/2147483647/strip/true/crop/350x517+0+2/resize/153x226!/quality/90/?url=https%3A%2F%2Flionsgate.brightspotcdn.com%2F0c%2F12%2Fb6efd07a4e6e8558adcb1d5fa338%2Frobinhood-ocard-poster-01.jpg', 'width': 153}, 'seo': {'_type': 'Seo'}}, 'promoType': 'oneOffPage', 'publishDate': 'August 16, 2018 02:12 AM', 'title': 'ROBIN HOOD', 'uid': '00000165-415c-d038-abed-e9dda4460000'}, {'_type': 'Promo', 'canonicalUri': 'https://www.lionsgate.com/movies/john-wick-chapter-2', 'category': 'Movies', 'categoryUri': 'https://www.lionsgate.com/movies', 'media': {'_type': 'Image', 'alt': 'JohnWick2_poster_01.jpg', 'original': {'_type': 'ImageSize', 'uri': 'https://lionsgate.brightspotcdn.com/99/8e/ee6b2ab34a07a194dac0a05008c1/johnwick2-poster-01.jpg'}, 'styleImage': {'_type': 'ImageSize', 'height': 226, 'uri': 'https://lionsgate.brightspotcdn.com/dims4/default/7150b43/2147483647/strip/true/crop/350x517+0+4/resize/153x226!/quality/90/?url=https%3A%2F%2Flionsgate.brightspotcdn.com%2F99%2F8e%2Fee6b2ab34a07a194dac0a05008c1%2Fjohnwick2-poster-01.jpg', 'width': 153}, 'seo': {'_type': 'Seo'}}, 'promoType': 'oneOffPage', 'publishDate': 'August 14, 2018 05:02 PM', 'title': 'JOHN WICK: CHAPTER 2', 'uid': '00000165-3a3e-d038-abed-fbbfbb7f0000'}, {'_type': 'Promo', 'canonicalUri': 'https://www.lionsgate.com/movies/twilight', 'category': 'Movies', 'categoryUri': 'https://www.lionsgate.com/movies', 'media': {'_type': 'Image', 'alt': 'Twilight_1_poster.jpg', 'original': {'_type': 'ImageSize', 'uri': 'https://lionsgate.brightspotcdn.com/9a/72/5e89e87c455c9b386ae33f5c6bf0/twilight-1-poster.jpg'}, 'styleImage': {'_type': 'ImageSize', 'height': 226, 'uri': 'https://lionsgate.brightspotcdn.com/dims4/default/f3de3a7/2147483647/strip/true/crop/350x517+0+4/resize/153x226!/quality/90/?url=https%3A%2F%2Flionsgate.brightspotcdn.com%2F9a%2F72%2F5e89e87c455c9b386ae33f5c6bf0%2Ftwilight-1-poster.jpg', 'width': 153}, 'seo': {'_type': 'Seo'}}, 'promoType': 'oneOffPage', 'publishDate': 'September 10, 2018 08:59 PM', 'title': 'TWILIGHT', 'uid': '00000165-c623-d6eb-a5ed-e733e6490000'}, {'_type': 'Promo', 'canonicalUri': 'https://www.lionsgate.com/movies/blindspotting', 'category': 'Movies', 'categoryUri': 'https://www.lionsgate.com/movies', 'media': {'_type': 'Image', 'alt': 'Blindspotting_poster_01.jpg', 'original': {'_type': 'ImageSize', 'uri': 'https://lionsgate.brightspotcdn.com/57/d8/21945c084b318d909c72a7889a6f/blindspotting-poster-01.jpg'}, 'styleImage': {'_type': 'ImageSize', 'height': 226, 'uri': 'https://lionsgate.brightspotcdn.com/dims4/default/90678a9/2147483647/strip/true/crop/350x517+0+4/resize/153x226!/quality/90/?url=https%3A%2F%2Flionsgate.brightspotcdn.com%2F57%2Fd8%2F21945c084b318d909c72a7889a6f%2Fblindspotting-poster-01.jpg', 'width': 153}, 'seo': {'_type': 'Seo'}}, 'promoType': 'oneOffPage', 'publishDate': 'August 16, 2018 01:53 AM', 'title': 'BLINDSPOTTING', 'uid': '00000165-414b-d038-abed-e9dbcc4b0000'}, {'_type': 'Promo', 'canonicalUri': 'https://www.lionsgate.com/movies/hostiles', 'category': 'Movies', 'categoryUri': 'https://www.lionsgate.com/movies', 'media': {'_type': 'Image', 'alt': 'Hostiles_poster_01.jpg', 'original': {'_type': 'ImageSize', 'uri': 'https://lionsgate.brightspotcdn.com/8e/21/717140e343af8371ef4d0d807f42/hostiles-poster-01.jpg'}, 'styleImage': {'_type': 'ImageSize', 'height': 226, 'uri': 'https://lionsgate.brightspotcdn.com/dims4/default/67d9858/2147483647/strip/true/crop/350x517+0+4/resize/153x226!/quality/90/?url=https%3A%2F%2Flionsgate.brightspotcdn.com%2F8e%2F21%2F717140e343af8371ef4d0d807f42%2Fhostiles-poster-01.jpg', 'width': 153}, 'seo': {'_type': 'Seo'}}, 'promoType': 'oneOffPage', 'publishDate': 'August 16, 2018 02:03 AM', 'title': 'HOSTILES', 'uid': '00000165-4154-d038-abed-e9d5b0470000'}, {'_type': 'Promo', 'canonicalUri': 'https://www.lionsgate.com/movies/kin', 'category': 'Movies', 'categoryUri': 'https://www.lionsgate.com/movies', 'media': {'_type': 'Image', 'alt': 'Kin_poster_01.jpg', 'original': {'_type': 'ImageSize', 'uri': 'https://lionsgate.brightspotcdn.com/ac/45/70f045ce4cd8b69b2d17f117d00b/kin-poster-01.jpg'}, 'styleImage': {'_type': 'ImageSize', 'height': 226, 'uri': 'https://lionsgate.brightspotcdn.com/dims4/default/c3574b3/2147483647/strip/true/crop/350x517+0+4/resize/153x226!/quality/90/?url=https%3A%2F%2Flionsgate.brightspotcdn.com%2Fac%2F45%2F70f045ce4cd8b69b2d17f117d00b%2Fkin-poster-01.jpg', 'width': 153}, 'seo': {'_type': 'Seo'}}, 'promoType': 'oneOffPage', 'publishDate': 'August 16, 2018 02:06 AM', 'title': 'KIN', 'uid': '00000165-4157-d038-abed-e9d79fb10000'}, {'_type': 'Promo', 'canonicalUri': 'https://www.lionsgate.com/movies/the-big-sick', 'category': 'Movies', 'categoryUri': 'https://www.lionsgate.com/movies', 'media': {'_type': 'Image', 'alt': 'TheBigSick_Poster_01.jpg', 'original': {'_type': 'ImageSize', 'uri': 'https://lionsgate.brightspotcdn.com/b6/49/ec83dff741238938f1f64f4afde2/thebigsick-poster-01.jpg'}, 'styleImage': {'_type': 'ImageSize', 'height': 226, 'uri': 'https://lionsgate.brightspotcdn.com/dims4/default/55ff221/2147483647/strip/true/crop/350x517+0+4/resize/153x226!/quality/90/?url=https%3A%2F%2Flionsgate.brightspotcdn.com%2Fb6%2F49%2Fec83dff741238938f1f64f4afde2%2Fthebigsick-poster-01.jpg', 'width': 153}, 'seo': {'_type': 'Seo'}}, 'promoType': 'oneOffPage', 'publishDate': 'August 16, 2018 02:17 AM', 'title': 'THE BIG SICK', 'uid': '00000165-4161-d038-abed-e9f120f30000'}, {'_type': 'Promo', 'canonicalUri': 'https://www.lionsgate.com/movies/the-spy-who-dumped-me', 'category': 'Movies', 'categoryUri': 'https://www.lionsgate.com/movies', 'description': 'Now Available on Digital, Blu-Ray & DVD', 'media': {'_type': 'Image', 'alt': 'TheSpyWhoDumpedMe_poster_01.jpg', 'original': {'_type': 'ImageSize', 'uri': 'https://lionsgate.brightspotcdn.com/ff/ee/3ec1662b4e8cb04940cb18a85559/thespywhodumpedme-poster-01.jpg'}, 'styleImage': {'_type': 'ImageSize', 'height': 226, 'uri': 'https://lionsgate.brightspotcdn.com/dims4/default/c2b9b98/2147483647/strip/true/crop/350x517+0+4/resize/153x226!/quality/90/?url=https%3A%2F%2Flionsgate.brightspotcdn.com%2Fff%2Fee%2F3ec1662b4e8cb04940cb18a85559%2Fthespywhodumpedme-poster-01.jpg', 'width': 153}, 'seo': {'_type': 'Seo'}}, 'promoType': 'oneOffPage', 'publishDate': 'August 16, 2018 02:19 AM', 'title': 'THE SPY WHO DUMPED ME', 'uid': '00000165-4163-d038-abed-e9f3499a0000'}, {'_type': 'Promo', 'canonicalUri': 'https://www.lionsgate.com/movies/the-honor-list', 'category': 'Movies', 'categoryUri': 'https://www.lionsgate.com/movies', 'media': {'_type': 'Image', 'alt': 'HonorList,The_S1_section_poster_01.jpg', 'original': {'_type': 'ImageSize', 'uri': 'https://lionsgate.brightspotcdn.com/5c/0a/108b19a84de2803e0b0d3bba5853/honorlist-the-s1-section-poster-01.jpg'}, 'styleImage': {'_type': 'ImageSize', 'height': 226, 'uri': 'https://lionsgate.brightspotcdn.com/dims4/default/d4a8183/2147483647/strip/true/crop/350x517+0+4/resize/153x226!/quality/90/?url=https%3A%2F%2Flionsgate.brightspotcdn.com%2F5c%2F0a%2F108b19a84de2803e0b0d3bba5853%2Fhonorlist-the-s1-section-poster-01.jpg', 'width': 153}, 'seo': {'_type': 'Seo'}}, 'promoType': 'oneOffPage', 'publishDate': 'August 16, 2018 02:18 AM', 'title': 'THE HONOR LIST', 'uid': '00000165-4162-d038-abed-e9f3ad510000'}], 'style': 'content-tray-with-vertical-posters', 'title': 'Rent or Buy Now'}, {'_type': 'List', 'items': [{'_type': 'Promo', 'canonicalUri': 'https://www.lionsgate.com/franchises/john-wick', 'media': {'_type': 'Image', 'alt': 'John-Wick_franchise_promo_horizontal_01.jpg', 'original': {'_type': 'ImageSize', 'uri': 'https://lionsgate.brightspotcdn.com/8f/31/c722b72e49c1a4457247485173ff/john-wick-franchise-promo-horizontal-01.jpg'}, 'styleImage': {'_type': 'ImageSize', 'height': 190, 'uri': 'https://lionsgate.brightspotcdn.com/dims4/default/b7e7f4c/2147483647/strip/true/crop/1438x808+0+1/resize/338x190!/quality/90/?url=https%3A%2F%2Flionsgate.brightspotcdn.com%2F8f%2F31%2Fc722b72e49c1a4457247485173ff%2Fjohn-wick-franchise-promo-horizontal-01.jpg', 'width': 338}, 'seo': {'_type': 'Seo'}}, 'promoType': 'section', 'publishDate': 'October 29, 2018 05:39 PM', 'title': 'JOHN WICK Franchise', 'uid': '00000166-c1c3-da17-a5f6-d9ffd3f80001'}, {'_type': 'Promo', 'canonicalUri': 'https://www.lionsgate.com/franchises/the-hunger-games', 'media': {'_type': 'Image', 'alt': 'TheWorldOfTHG_section_promo_horizontal_01.jpg', 'original': {'_type': 'ImageSize', 'uri': 'https://lionsgate.brightspotcdn.com/29/c7/8c4e35f9431ca75f78690fa3be8f/theworldofthg-section-promo-horizontal-01.jpg'}, 'styleImage': {'_type': 'ImageSize', 'height': 190, 'uri': 'https://lionsgate.brightspotcdn.com/dims4/default/3498722/2147483647/strip/true/crop/342x192+0+0/resize/338x190!/quality/90/?url=https%3A%2F%2Flionsgate.brightspotcdn.com%2F29%2Fc7%2F8c4e35f9431ca75f78690fa3be8f%2Ftheworldofthg-section-promo-horizontal-01.jpg', 'width': 338}, 'seo': {'_type': 'Seo'}}, 'promoType': 'section', 'publishDate': 'October 28, 2018 05:15 PM', 'title': 'THE HUNGER GAMES Franchise', 'uid': '00000166-bc5b-d9e0-a7fe-fffb944b0001'}, {'_type': 'Promo', 'canonicalUri': 'https://www.lionsgate.com/franchises/saw', 'media': {'_type': 'Image', 'alt': 'saw_franchise_promo_horizontal_01.jpg', 'original': {'_type': 'ImageSize', 'uri': 'https://lionsgate.brightspotcdn.com/c2/9e/72cc59de43b58ccacbb832863829/saw-franchise-promo-horizontal-01.jpg'}, 'styleImage': {'_type': 'ImageSize', 'height': 190, 'uri': 'https://lionsgate.brightspotcdn.com/dims4/default/c810f5a/2147483647/strip/true/crop/342x192+0+0/resize/338x190!/quality/90/?url=https%3A%2F%2Flionsgate.brightspotcdn.com%2Fc2%2F9e%2F72cc59de43b58ccacbb832863829%2Fsaw-franchise-promo-horizontal-01.jpg', 'width': 338}, 'seo': {'_type': 'Seo'}}, 'promoType': 'section', 'publishDate': 'October 29, 2018 05:42 PM', 'title': 'SAW Franchise', 'uid': '00000166-c1c6-d8fa-ab6e-ebf747790001'}, {'_type': 'Promo', 'canonicalUri': 'https://www.lionsgate.com/franchises/the-twilight-saga', 'media': {'_type': 'Image', 'alt': 'TwilightSaga_section_promo_horizontal_01.jpg', 'original': {'_type': 'ImageSize', 'uri': 'https://lionsgate.brightspotcdn.com/f3/61/23f052c94731b58ce8a9ebf3929b/twilightsaga-section-promo-horizontal-01.jpg'}, 'styleImage': {'_type': 'ImageSize', 'height': 190, 'uri': 'https://lionsgate.brightspotcdn.com/dims4/default/c036a3e/2147483647/strip/true/crop/342x192+0+0/resize/338x190!/quality/90/?url=https%3A%2F%2Flionsgate.brightspotcdn.com%2Ff3%2F61%2F23f052c94731b58ce8a9ebf3929b%2Ftwilightsaga-section-promo-horizontal-01.jpg', 'width': 338}, 'seo': {'_type': 'Seo'}}, 'promoType': 'section', 'publishDate': 'October 29, 2018 05:45 PM', 'title': 'THE TWILIGHT SAGA', 'uid': '00000166-c1c7-d8fa-ab6e-ebf742050001'}, {'_type': 'Promo', 'canonicalUri': 'https://www.lionsgate.com/franchises/the-divergent-series', 'media': {'_type': 'Image', 'alt': 'DivergentSeries_section_promo_horizontal_01.jpg', 'original': {'_type': 'ImageSize', 'uri': 'https://lionsgate.brightspotcdn.com/98/c5/98b8a764450e8670d9fc78ff82d7/divergentseries-section-promo-horizontal-01.jpg'}, 'styleImage': {'_type': 'ImageSize', 'height': 190, 'uri': 'https://lionsgate.brightspotcdn.com/dims4/default/cf31058/2147483647/strip/true/crop/342x192+0+0/resize/338x190!/quality/90/?url=https%3A%2F%2Flionsgate.brightspotcdn.com%2F98%2Fc5%2F98b8a764450e8670d9fc78ff82d7%2Fdivergentseries-section-promo-horizontal-01.jpg', 'width': 338}, 'seo': {'_type': 'Seo'}}, 'promoType': 'section', 'publishDate': 'October 29, 2018 08:41 PM', 'title': 'THE DIVERGENT SERIES', 'uid': '00000166-c269-d448-a1f7-e369e9070001'}, {'_type': 'Promo', 'canonicalUri': 'https://www.lionsgate.com/franchises/now-you-see-me', 'media': {'_type': 'Image', 'alt': 'NYSM_section_promo_horizontal_02.jpg', 'original': {'_type': 'ImageSize', 'uri': 'https://lionsgate.brightspotcdn.com/30/bd/df55536846388cadc314e9221d03/nysm-section-promo-horizontal-02.jpg'}, 'styleImage': {'_type': 'ImageSize', 'height': 190, 'uri': 'https://lionsgate.brightspotcdn.com/dims4/default/1d89a1f/2147483647/strip/true/crop/342x192+0+0/resize/338x190!/quality/90/?url=https%3A%2F%2Flionsgate.brightspotcdn.com%2F30%2Fbd%2Fdf55536846388cadc314e9221d03%2Fnysm-section-promo-horizontal-02.jpg', 'width': 338}, 'seo': {'_type': 'Seo'}}, 'promoType': 'section', 'publishDate': 'October 29, 2018 05:40 PM', 'title': 'NOW YOU SEE ME Franchise ', 'uid': '00000166-c1c4-da17-a5f6-d9fcc76c0001'}], 'style': 'content-tray-with-horizontal-thumbnails', 'title': 'Franchises'}, {'_type': 'List', 'items': [{'_type': 'Promo', 'canonicalUri': 'https://www.lionsgate.com/movies/la-la-land', 'category': 'Movies', 'categoryUri': 'https://www.lionsgate.com/movies', 'media': {'_type': 'Image', 'alt': 'la-la-land_movies_poster_festival.jpg', 'original': {'_type': 'ImageSize', 'uri': 'https://lionsgate.brightspotcdn.com/bf/60/b930c6aa44aa88267c559d46e171/la-la-land-movies-poster-festival.jpg'}, 'styleImage': {'_type': 'ImageSize', 'height': 226, 'uri': 'https://lionsgate.brightspotcdn.com/dims4/default/6aae16f/2147483647/strip/true/crop/350x517+0+2/resize/153x226!/quality/90/?url=https%3A%2F%2Flionsgate.brightspotcdn.com%2Fbf%2F60%2Fb930c6aa44aa88267c559d46e171%2Fla-la-land-movies-poster-festival.jpg', 'width': 153}, 'seo': {'_type': 'Seo'}}, 'promoType': 'oneOffPage', 'publishDate': 'August 16, 2018 02:06 AM', 'title': 'LA LA LAND', 'uid': '00000165-4157-d038-abed-e9d7ea490000'}, {'_type': 'Promo', 'canonicalUri': 'https://www.lionsgate.com/movies/hacksaw-ridge', 'category': 'Movies', 'categoryUri': 'https://www.lionsgate.com/movies', 'media': {'_type': 'Image', 'alt': 'Hacksaw_poster_01.jpg', 'original': {'_type': 'ImageSize', 'uri': 'https://lionsgate.brightspotcdn.com/f5/ef/edd2213940289d9bff30fe18c0d3/hacksaw-poster-01.jpg'}, 'styleImage': {'_type': 'ImageSize', 'height': 226, 'uri': 'https://lionsgate.brightspotcdn.com/dims4/default/269e51d/2147483647/strip/true/crop/350x517+0+4/resize/153x226!/quality/90/?url=https%3A%2F%2Flionsgate.brightspotcdn.com%2Ff5%2Fef%2Fedd2213940289d9bff30fe18c0d3%2Fhacksaw-poster-01.jpg', 'width': 153}, 'seo': {'_type': 'Seo'}}, 'promoType': 'oneOffPage', 'publishDate': 'August 16, 2018 02:01 AM', 'title': 'HACKSAW RIDGE', 'uid': '00000165-4153-d038-abed-e9d301de0000'}, {'_type': 'Promo', 'canonicalUri': 'https://www.lionsgate.com/movies/deepwater-horizon', 'category': 'Movies', 'categoryUri': 'https://www.lionsgate.com/movies', 'media': {'_type': 'Image', 'alt': 'DeepHorizon_poster_01.jpg', 'original': {'_type': 'ImageSize', 'uri': 'https://lionsgate.brightspotcdn.com/f8/74/a15b6e4144debc747ef05a9ca4da/deephorizon-poster-01.jpg'}, 'styleImage': {'_type': 'ImageSize', 'height': 226, 'uri': 'https://lionsgate.brightspotcdn.com/dims4/default/7071d79/2147483647/strip/true/crop/350x517+0+4/resize/153x226!/quality/90/?url=https%3A%2F%2Flionsgate.brightspotcdn.com%2Ff8%2F74%2Fa15b6e4144debc747ef05a9ca4da%2Fdeephorizon-poster-01.jpg', 'width': 153}, 'seo': {'_type': 'Seo'}}, 'promoType': 'oneOffPage', 'publishDate': 'August 16, 2018 01:54 AM', 'title': 'DEEPWATER HORIZON', 'uid': '00000165-414c-d038-abed-e9ddc0800000'}, {'_type': 'Promo', 'canonicalUri': 'https://www.lionsgate.com/movies/wonder', 'category': 'Movies', 'categoryUri': 'https://www.lionsgate.com/movies', 'media': {'_type': 'Image', 'alt': 'Wonder_v2_poster_01.jpg', 'original': {'_type': 'ImageSize', 'uri': 'https://lionsgate.brightspotcdn.com/7e/02/bcf4191248b5913992d81e08b8fb/wonder-v2-poster-01.jpg'}, 'styleImage': {'_type': 'ImageSize', 'height': 226, 'uri': 'https://lionsgate.brightspotcdn.com/dims4/default/2c9fda4/2147483647/strip/true/crop/350x517+0+4/resize/153x226!/quality/90/?url=https%3A%2F%2Flionsgate.brightspotcdn.com%2F7e%2F02%2Fbcf4191248b5913992d81e08b8fb%2Fwonder-v2-poster-01.jpg', 'width': 153}, 'seo': {'_type': 'Seo'}}, 'promoType': 'oneOffPage', 'publishDate': 'August 14, 2018 07:57 PM', 'title': 'WONDER', 'uid': '00000165-3adb-d038-abed-fbdbae3f0000'}, {'_type': 'Promo', 'canonicalUri': 'https://www.lionsgate.com/movies/hell-or-high-water', 'category': 'Movies', 'categoryUri': 'https://www.lionsgate.com/movies', 'media': {'_type': 'Image', 'alt': 'HellOrHighWater_poster_01.jpg', 'original': {'_type': 'ImageSize', 'uri': 'https://lionsgate.brightspotcdn.com/e3/a3/07f6e7854f4ca0b58e043c98d44d/hellorhighwater-poster-01.jpg'}, 'styleImage': {'_type': 'ImageSize', 'height': 226, 'uri': 'https://lionsgate.brightspotcdn.com/dims4/default/8493d48/2147483647/strip/true/crop/350x517+0+4/resize/153x226!/quality/90/?url=https%3A%2F%2Flionsgate.brightspotcdn.com%2Fe3%2Fa3%2F07f6e7854f4ca0b58e043c98d44d%2Fhellorhighwater-poster-01.jpg', 'width': 153}, 'seo': {'_type': 'Seo'}}, 'promoType': 'oneOffPage', 'publishDate': 'August 16, 2018 02:03 AM', 'title': 'HELL OR HIGH WATER', 'uid': '00000165-4154-d038-abed-e9d545bc0000'}, {'_type': 'Promo', 'canonicalUri': 'https://www.lionsgate.com/movies/lady-bird', 'category': 'Movies', 'categoryUri': 'https://www.lionsgate.com/movies', 'media': {'_type': 'Image', 'alt': 'LadyBird_poster_01.jpg', 'original': {'_type': 'ImageSize', 'uri': 'https://lionsgate.brightspotcdn.com/f1/1f/83a4e2af412ca44962b1eb15fc8f/ladybird-poster-01.jpg'}, 'styleImage': {'_type': 'ImageSize', 'height': 226, 'uri': 'https://lionsgate.brightspotcdn.com/dims4/default/74c44a8/2147483647/strip/true/crop/350x517+0+4/resize/153x226!/quality/90/?url=https%3A%2F%2Flionsgate.brightspotcdn.com%2Ff1%2F1f%2F83a4e2af412ca44962b1eb15fc8f%2Fladybird-poster-01.jpg', 'width': 153}, 'seo': {'_type': 'Seo'}}, 'promoType': 'oneOffPage', 'publishDate': 'August 16, 2018 02:07 AM', 'title': 'LADY BIRD', 'uid': '00000165-4158-d038-abed-e9d936600000'}, {'_type': 'Promo', 'canonicalUri': 'https://www.lionsgate.com/movies/the-big-sick', 'category': 'Movies', 'categoryUri': 'https://www.lionsgate.com/movies', 'media': {'_type': 'Image', 'alt': 'TheBigSick_Poster_01.jpg', 'original': {'_type': 'ImageSize', 'uri': 'https://lionsgate.brightspotcdn.com/b6/49/ec83dff741238938f1f64f4afde2/thebigsick-poster-01.jpg'}, 'styleImage': {'_type': 'ImageSize', 'height': 226, 'uri': 'https://lionsgate.brightspotcdn.com/dims4/default/55ff221/2147483647/strip/true/crop/350x517+0+4/resize/153x226!/quality/90/?url=https%3A%2F%2Flionsgate.brightspotcdn.com%2Fb6%2F49%2Fec83dff741238938f1f64f4afde2%2Fthebigsick-poster-01.jpg', 'width': 153}, 'seo': {'_type': 'Seo'}}, 'promoType': 'oneOffPage', 'publishDate': 'August 16, 2018 02:17 AM', 'title': 'THE BIG SICK', 'uid': '00000165-4161-d038-abed-e9f120f30000'}, {'_type': 'Promo', 'canonicalUri': 'https://www.lionsgate.com/movies/sicario', 'category': 'Movies', 'categoryUri': 'https://www.lionsgate.com/movies', 'media': {'_type': 'Image', 'alt': 'Sicario_poster_01.jpg', 'original': {'_type': 'ImageSize', 'uri': 'https://lionsgate.brightspotcdn.com/63/08/9b4868674935aac9330ff3308992/sicario-poster-01.jpg'}, 'styleImage': {'_type': 'ImageSize', 'height': 226, 'uri': 'https://lionsgate.brightspotcdn.com/dims4/default/bab666f/2147483647/strip/true/crop/350x517+0+4/resize/153x226!/quality/90/?url=https%3A%2F%2Flionsgate.brightspotcdn.com%2F63%2F08%2F9b4868674935aac9330ff3308992%2Fsicario-poster-01.jpg', 'width': 153}, 'seo': {'_type': 'Seo'}}, 'promoType': 'oneOffPage', 'publishDate': 'August 16, 2018 02:15 AM', 'title': 'SICARIO', 'uid': '00000165-415f-d038-abed-e9dfc7870000'}, {'_type': 'Promo', 'canonicalUri': 'https://www.lionsgate.com/movies/ex-machina', 'category': 'Movies', 'categoryUri': 'https://www.lionsgate.com/movies', 'media': {'_type': 'Image', 'alt': 'EXM_DIGI_1400x2100 (1).jpg', 'original': {'_type': 'ImageSize', 'uri': 'https://lionsgate.brightspotcdn.com/e0/82/6d59f7ab4bd7a6f56c2c55ecdb48/exm-digi-1400x2100-1.jpg'}, 'styleImage': {'_type': 'ImageSize', 'height': 226, 'uri': 'https://lionsgate.brightspotcdn.com/dims4/default/6f7a43a/2147483647/strip/true/crop/1400x2068+0+16/resize/153x226!/quality/90/?url=https%3A%2F%2Flionsgate.brightspotcdn.com%2Fe0%2F82%2F6d59f7ab4bd7a6f56c2c55ecdb48%2Fexm-digi-1400x2100-1.jpg', 'width': 153}, 'seo': {'_type': 'Seo'}}, 'promoType': 'oneOffPage', 'publishDate': 'August 16, 2018 01:59 AM', 'title': 'EX MACHINA', 'uid': '00000165-4151-d038-abed-e9d144500000'}, {'_type': 'Promo', 'canonicalUri': 'https://www.lionsgate.com/movies/django-unchained', 'category': 'Movies', 'categoryUri': 'https://www.lionsgate.com/movies', 'media': {'_type': 'Image', 'alt': 'DjangoUnchained_poster_01.jpg', 'original': {'_type': 'ImageSize', 'uri': 'https://lionsgate.brightspotcdn.com/60/11/b1df4a3b44b3ae989c13c1c15001/djangounchained-poster-01.jpg'}, 'styleImage': {'_type': 'ImageSize', 'height': 226, 'uri': 'https://lionsgate.brightspotcdn.com/dims4/default/1c48a6a/2147483647/strip/true/crop/350x517+0+4/resize/153x226!/quality/90/?url=https%3A%2F%2Flionsgate.brightspotcdn.com%2F60%2F11%2Fb1df4a3b44b3ae989c13c1c15001%2Fdjangounchained-poster-01.jpg', 'width': 153}, 'seo': {'_type': 'Seo'}}, 'promoType': 'oneOffPage', 'publishDate': 'August 16, 2018 01:57 AM', 'title': 'DJANGO UNCHAINED', 'uid': '00000165-414f-d038-abed-e9df76800000'}], 'style': 'content-tray-with-vertical-posters', 'title': 'Academy-Award® Nominated Films'}, {'_type': 'List', 'items': [{'_type': 'Promo', 'canonicalUri': 'https://www.lionsgate.com/movies/john-wick-chapter-3-parabellum', 'category': 'Movies', 'categoryUri': 'https://www.lionsgate.com/movies', 'media': {'_type': 'Image', 'alt': 'john-wick-chapter-3-parabellum_movies_poster_01.jpg', 'original': {'_type': 'ImageSize', 'uri': 'https://lionsgate.brightspotcdn.com/13/bd/27c57a86432ca6b5dedf165fe997/john-wick-chapter-3-parabellum-movies-poster-01.jpg'}, 'styleImage': {'_type': 'ImageSize', 'height': 226, 'uri': 'https://lionsgate.brightspotcdn.com/dims4/default/7c2614e/2147483647/strip/true/crop/350x517+0+1/resize/153x226!/quality/90/?url=https%3A%2F%2Flionsgate.brightspotcdn.com%2F13%2Fbd%2F27c57a86432ca6b5dedf165fe997%2Fjohn-wick-chapter-3-parabellum-movies-poster-01.jpg', 'width': 153}, 'seo': {'_type': 'Seo'}}, 'promoType': 'oneOffPage', 'publishDate': 'January 15, 2019 10:00 AM', 'title': 'JOHN WICK: CHAPTER 3 - PARABELLUM', 'uid': '00000168-4f09-dc52-a77c-cf2b25030000'}, {'_type': 'Promo', 'canonicalUri': 'https://www.lionsgate.com/movies/the-expendables', 'category': 'Movies', 'categoryUri': 'https://www.lionsgate.com/movies', 'media': {'_type': 'Image', 'alt': 'Expendables_Poster_01.jpg', 'original': {'_type': 'ImageSize', 'uri': 'https://lionsgate.brightspotcdn.com/df/99/90cbb5dd4036bb766e30c58e76f6/expendables-poster-01.jpg'}, 'styleImage': {'_type': 'ImageSize', 'height': 226, 'uri': 'https://lionsgate.brightspotcdn.com/dims4/default/dea29aa/2147483647/strip/true/crop/350x517+0+4/resize/153x226!/quality/90/?url=https%3A%2F%2Flionsgate.brightspotcdn.com%2Fdf%2F99%2F90cbb5dd4036bb766e30c58e76f6%2Fexpendables-poster-01.jpg', 'width': 153}, 'seo': {'_type': 'Seo'}}, 'promoType': 'oneOffPage', 'publishDate': 'September 10, 2018 08:54 PM', 'title': 'THE EXPENDABLES', 'uid': '00000165-c61e-d3cf-a7f5-ffdf8c500000'}, {'_type': 'Promo', 'canonicalUri': 'https://www.lionsgate.com/movies/hostiles', 'category': 'Movies', 'categoryUri': 'https://www.lionsgate.com/movies', 'media': {'_type': 'Image', 'alt': 'Hostiles_poster_01.jpg', 'original': {'_type': 'ImageSize', 'uri': 'https://lionsgate.brightspotcdn.com/8e/21/717140e343af8371ef4d0d807f42/hostiles-poster-01.jpg'}, 'styleImage': {'_type': 'ImageSize', 'height': 226, 'uri': 'https://lionsgate.brightspotcdn.com/dims4/default/67d9858/2147483647/strip/true/crop/350x517+0+4/resize/153x226!/quality/90/?url=https%3A%2F%2Flionsgate.brightspotcdn.com%2F8e%2F21%2F717140e343af8371ef4d0d807f42%2Fhostiles-poster-01.jpg', 'width': 153}, 'seo': {'_type': 'Seo'}}, 'promoType': 'oneOffPage', 'publishDate': 'August 16, 2018 02:03 AM', 'title': 'HOSTILES', 'uid': '00000165-4154-d038-abed-e9d5b0470000'}, {'_type': 'Promo', 'canonicalUri': 'https://www.lionsgate.com/movies/escape-plan/', 'category': 'Movies', 'categoryUri': 'https://www.lionsgate.com/movies', 'media': {'_type': 'Image', 'alt': 'EscapePlan_poster_01.jpg', 'original': {'_type': 'ImageSize', 'uri': 'https://lionsgate.brightspotcdn.com/36/7a/68c7ccf742ec88a78e444869f486/escapeplan-poster-01.jpg'}, 'styleImage': {'_type': 'ImageSize', 'height': 226, 'uri': 'https://lionsgate.brightspotcdn.com/dims4/default/00c7135/2147483647/strip/true/crop/350x517+0+4/resize/153x226!/quality/90/?url=https%3A%2F%2Flionsgate.brightspotcdn.com%2F36%2F7a%2F68c7ccf742ec88a78e444869f486%2Fescapeplan-poster-01.jpg', 'width': 153}, 'seo': {'_type': 'Seo'}}, 'promoType': 'oneOffPage', 'publishDate': 'August 27, 2018 07:49 PM', 'title': 'ESCAPE PLAN', 'uid': '00000165-7dca-d038-abed-fddb6c810000'}, {'_type': 'Promo', 'canonicalUri': 'https://www.lionsgate.com/movies/nerve', 'category': 'Movies', 'categoryUri': 'https://www.lionsgate.com/movies', 'media': {'_type': 'Image', 'alt': 'nerve_movies_poster_01.jpg', 'original': {'_type': 'ImageSize', 'uri': 'https://lionsgate.brightspotcdn.com/7c/64/6df0515e4ae28345d574e27c60d8/nerve-movies-poster-01.jpg'}, 'styleImage': {'_type': 'ImageSize', 'height': 226, 'uri': 'https://lionsgate.brightspotcdn.com/dims4/default/75a82da/2147483647/strip/true/crop/350x517+0+2/resize/153x226!/quality/90/?url=https%3A%2F%2Flionsgate.brightspotcdn.com%2F7c%2F64%2F6df0515e4ae28345d574e27c60d8%2Fnerve-movies-poster-01.jpg', 'width': 153}, 'seo': {'_type': 'Seo'}}, 'promoType': 'oneOffPage', 'publishDate': 'August 16, 2018 02:09 AM', 'title': 'NERVE', 'uid': '00000165-4159-d038-abed-e9d9f1d20000'}, {'_type': 'Promo', 'canonicalUri': 'https://www.lionsgate.com/movies/patriots-day', 'category': 'Movies', 'categoryUri': 'https://www.lionsgate.com/movies', 'description': 'Available Now on 4K Ultra HD™, Blu-ray™, DVD, and Digital', 'media': {'_type': 'Image', 'alt': 'PatriotsDay_Poster_01.jpg', 'original': {'_type': 'ImageSize', 'uri': 'https://lionsgate.brightspotcdn.com/aa/b8/0a3f39fb41e0823cfb00949d2b85/patriotsday-poster-01.jpg'}, 'styleImage': {'_type': 'ImageSize', 'height': 226, 'uri': 'https://lionsgate.brightspotcdn.com/dims4/default/c1cfeae/2147483647/strip/true/crop/350x517+0+4/resize/153x226!/quality/90/?url=https%3A%2F%2Flionsgate.brightspotcdn.com%2Faa%2Fb8%2F0a3f39fb41e0823cfb00949d2b85%2Fpatriotsday-poster-01.jpg', 'width': 153}, 'seo': {'_type': 'Seo'}}, 'promoType': 'oneOffPage', 'publishDate': 'August 16, 2018 02:11 AM', 'title': 'PATRIOTS DAY', 'uid': '00000165-415b-d038-abed-e9db3d830000'}, {'_type': 'Promo', 'canonicalUri': 'https://www.lionsgate.com/movies/robin-hood', 'category': 'Movies', 'categoryUri': 'https://www.lionsgate.com/movies', 'media': {'_type': 'Image', 'alt': 'RobinHood_Ocard_poster_01.jpg', 'original': {'_type': 'ImageSize', 'uri': 'https://lionsgate.brightspotcdn.com/0c/12/b6efd07a4e6e8558adcb1d5fa338/robinhood-ocard-poster-01.jpg'}, 'styleImage': {'_type': 'ImageSize', 'height': 226, 'uri': 'https://lionsgate.brightspotcdn.com/dims4/default/ef7a96b/2147483647/strip/true/crop/350x517+0+2/resize/153x226!/quality/90/?url=https%3A%2F%2Flionsgate.brightspotcdn.com%2F0c%2F12%2Fb6efd07a4e6e8558adcb1d5fa338%2Frobinhood-ocard-poster-01.jpg', 'width': 153}, 'seo': {'_type': 'Seo'}}, 'promoType': 'oneOffPage', 'publishDate': 'August 16, 2018 02:12 AM', 'title': 'ROBIN HOOD', 'uid': '00000165-415c-d038-abed-e9dda4460000'}, {'_type': 'Promo', 'canonicalUri': 'https://www.lionsgate.com/movies/escape-plan-2', 'category': 'Movies', 'categoryUri': 'https://www.lionsgate.com/movies', 'media': {'_type': 'Image', 'alt': 'EscapePlan2_poster_01.jpg', 'original': {'_type': 'ImageSize', 'uri': 'https://lionsgate.brightspotcdn.com/55/6d/30c971bb4afc938af468437699df/escapeplan2-poster-01.jpg'}, 'styleImage': {'_type': 'ImageSize', 'height': 226, 'uri': 'https://lionsgate.brightspotcdn.com/dims4/default/11ce25d/2147483647/strip/true/crop/350x517+0+4/resize/153x226!/quality/90/?url=https%3A%2F%2Flionsgate.brightspotcdn.com%2F55%2F6d%2F30c971bb4afc938af468437699df%2Fescapeplan2-poster-01.jpg', 'width': 153}, 'seo': {'_type': 'Seo'}}, 'promoType': 'oneOffPage', 'publishDate': 'August 27, 2018 07:49 PM', 'title': 'ESCAPE PLAN 2', 'uid': '00000165-7dca-d038-abed-fddbd9400000'}, {'_type': 'Promo', 'canonicalUri': 'https://www.lionsgate.com/movies/hunter-killer', 'category': 'Movies', 'categoryUri': 'https://www.lionsgate.com/movies', 'media': {'_type': 'Image', 'alt': 'Hunter-Killer_movies-poster-02.jpg', 'original': {'_type': 'ImageSize', 'uri': 'https://lionsgate.brightspotcdn.com/16/bb/b51e3a70457ca6a06c09a7589e7e/hunterkiller-poster-01.jpg'}, 'styleImage': {'_type': 'ImageSize', 'height': 226, 'uri': 'https://lionsgate.brightspotcdn.com/dims4/default/f62778e/2147483647/strip/true/crop/350x517+0+4/resize/153x226!/quality/90/?url=https%3A%2F%2Flionsgate.brightspotcdn.com%2F16%2Fbb%2Fb51e3a70457ca6a06c09a7589e7e%2Fhunterkiller-poster-01.jpg', 'width': 153}, 'seo': {'_type': 'Seo'}}, 'promoType': 'oneOffPage', 'publishDate': 'August 16, 2018 02:04 AM', 'title': 'HUNTER KILLER', 'uid': '00000165-4155-d038-abed-e9d5f1390000'}, {'_type': 'Promo', 'canonicalUri': 'https://www.lionsgate.com/movies/john-wick', 'category': 'Movies', 'categoryUri': 'https://www.lionsgate.com/movies', 'media': {'_type': 'Image', 'alt': 'JohnWick_poster_01.jpg', 'original': {'_type': 'ImageSize', 'uri': 'https://lionsgate.brightspotcdn.com/ef/c9/7045a66249c18bea905a1c6eebd1/johnwick-poster-01.jpg'}, 'styleImage': {'_type': 'ImageSize', 'height': 226, 'uri': 'https://lionsgate.brightspotcdn.com/dims4/default/a9186d8/2147483647/strip/true/crop/350x517+0+4/resize/153x226!/quality/90/?url=https%3A%2F%2Flionsgate.brightspotcdn.com%2Fef%2Fc9%2F7045a66249c18bea905a1c6eebd1%2Fjohnwick-poster-01.jpg', 'width': 153}, 'seo': {'_type': 'Seo'}}, 'promoType': 'oneOffPage', 'publishDate': 'August 14, 2018 05:00 PM', 'title': 'JOHN WICK', 'uid': '00000165-3a3d-d038-abed-fbbd85f20000'}, {'_type': 'Promo', 'canonicalUri': 'https://www.lionsgate.com/movies/john-wick-chapter-2', 'category': 'Movies', 'categoryUri': 'https://www.lionsgate.com/movies', 'media': {'_type': 'Image', 'alt': 'JohnWick2_poster_01.jpg', 'original': {'_type': 'ImageSize', 'uri': 'https://lionsgate.brightspotcdn.com/99/8e/ee6b2ab34a07a194dac0a05008c1/johnwick2-poster-01.jpg'}, 'styleImage': {'_type': 'ImageSize', 'height': 226, 'uri': 'https://lionsgate.brightspotcdn.com/dims4/default/7150b43/2147483647/strip/true/crop/350x517+0+4/resize/153x226!/quality/90/?url=https%3A%2F%2Flionsgate.brightspotcdn.com%2F99%2F8e%2Fee6b2ab34a07a194dac0a05008c1%2Fjohnwick2-poster-01.jpg', 'width': 153}, 'seo': {'_type': 'Seo'}}, 'promoType': 'oneOffPage', 'publishDate': 'August 14, 2018 05:02 PM', 'title': 'JOHN WICK: CHAPTER 2', 'uid': '00000165-3a3e-d038-abed-fbbfbb7f0000'}, {'_type': 'Promo', 'canonicalUri': 'https://www.lionsgate.com/movies/red', 'category': 'Movies', 'categoryUri': 'https://www.lionsgate.com/movies', 'media': {'_type': 'Image', 'alt': 'red_movies_poster_01.jpg', 'original': {'_type': 'ImageSize', 'uri': 'https://lionsgate.brightspotcdn.com/a6/bd/79455a81410494e1acea95dbefb4/red-movies-poster-01.jpg'}, 'styleImage': {'_type': 'ImageSize', 'height': 226, 'uri': 'https://lionsgate.brightspotcdn.com/dims4/default/cd90cd6/2147483647/strip/true/crop/267x395+14+0/resize/153x226!/quality/90/?url=https%3A%2F%2Flionsgate.brightspotcdn.com%2Fa6%2Fbd%2F79455a81410494e1acea95dbefb4%2Fred-movies-poster-01.jpg', 'width': 153}, 'seo': {'_type': 'Seo'}}, 'promoType': 'oneOffPage', 'publishDate': 'September 10, 2018 07:28 PM', 'title': 'RED', 'uid': '00000165-c5d0-d3cf-a7f5-fdd7dd6e0000'}, {'_type': 'Promo', 'canonicalUri': 'https://www.lionsgate.com/movies/sicario', 'category': 'Movies', 'categoryUri': 'https://www.lionsgate.com/movies', 'media': {'_type': 'Image', 'alt': 'Sicario_poster_01.jpg', 'original': {'_type': 'ImageSize', 'uri': 'https://lionsgate.brightspotcdn.com/63/08/9b4868674935aac9330ff3308992/sicario-poster-01.jpg'}, 'styleImage': {'_type': 'ImageSize', 'height': 226, 'uri': 'https://lionsgate.brightspotcdn.com/dims4/default/bab666f/2147483647/strip/true/crop/350x517+0+4/resize/153x226!/quality/90/?url=https%3A%2F%2Flionsgate.brightspotcdn.com%2F63%2F08%2F9b4868674935aac9330ff3308992%2Fsicario-poster-01.jpg', 'width': 153}, 'seo': {'_type': 'Seo'}}, 'promoType': 'oneOffPage', 'publishDate': 'August 16, 2018 02:15 AM', 'title': 'SICARIO', 'uid': '00000165-415f-d038-abed-e9dfc7870000'}, {'_type': 'Promo', 'canonicalUri': 'https://www.lionsgate.com/movies/the-hitmans-bodyguard', 'category': 'Movies', 'categoryUri': 'https://www.lionsgate.com/movies', 'description': 'Available Now on 4K Ultra HD™, Blu-ray™, DVD, and Digital', 'media': {'_type': 'Image', 'alt': 'TheBodygaurd_Poster_01.jpg', 'original': {'_type': 'ImageSize', 'uri': 'https://lionsgate.brightspotcdn.com/97/16/77e63fc64ed1acb745ac57f680a1/thebodygaurd-poster-01.jpg'}, 'styleImage': {'_type': 'ImageSize', 'height': 226, 'uri': 'https://lionsgate.brightspotcdn.com/dims4/default/7c295e0/2147483647/strip/true/crop/350x517+0+4/resize/153x226!/quality/90/?url=https%3A%2F%2Flionsgate.brightspotcdn.com%2F97%2F16%2F77e63fc64ed1acb745ac57f680a1%2Fthebodygaurd-poster-01.jpg', 'width': 153}, 'seo': {'_type': 'Seo'}}, 'promoType': 'oneOffPage', 'publishDate': 'August 16, 2018 02:18 AM', 'title': \"THE HITMAN'S BODYGUARD\", 'uid': '00000165-4162-d038-abed-e9f347f90000'}, {'_type': 'Promo', 'canonicalUri': 'https://www.lionsgate.com/movies/kin', 'category': 'Movies', 'categoryUri': 'https://www.lionsgate.com/movies', 'media': {'_type': 'Image', 'alt': 'Kin_poster_01.jpg', 'original': {'_type': 'ImageSize', 'uri': 'https://lionsgate.brightspotcdn.com/d0/02/5b73671f4ed194b3ffcd77884e43/kin-poster-01.jpg'}, 'styleImage': {'_type': 'ImageSize', 'height': 226, 'uri': 'https://lionsgate.brightspotcdn.com/dims4/default/e9d9201/2147483647/strip/true/crop/350x517+0+4/resize/153x226!/quality/90/?url=https%3A%2F%2Flionsgate.brightspotcdn.com%2Fd0%2F02%2F5b73671f4ed194b3ffcd77884e43%2Fkin-poster-01.jpg', 'width': 153}, 'seo': {'_type': 'Seo'}}, 'promoType': 'oneOffPage', 'publishDate': 'August 16, 2018 02:06 AM', 'title': 'KIN', 'uid': '00000165-4157-d038-abed-e9d79fb10000'}, {'_type': 'Promo', 'canonicalUri': 'https://www.lionsgate.com/movies/american-assassin', 'category': 'Movies', 'categoryUri': 'https://www.lionsgate.com/movies', 'media': {'_type': 'Image', 'alt': 'AmericanAssassin_poster_01.jpg', 'original': {'_type': 'ImageSize', 'uri': 'https://lionsgate.brightspotcdn.com/96/75/fb47938a4b4c86e9acdde1e3e012/americanassassin-poster-01.jpg'}, 'styleImage': {'_type': 'ImageSize', 'height': 226, 'uri': 'https://lionsgate.brightspotcdn.com/dims4/default/e7e957b/2147483647/strip/true/crop/350x517+0+4/resize/153x226!/quality/90/?url=https%3A%2F%2Flionsgate.brightspotcdn.com%2F96%2F75%2Ffb47938a4b4c86e9acdde1e3e012%2Famericanassassin-poster-01.jpg', 'width': 153}, 'seo': {'_type': 'Seo'}}, 'promoType': 'oneOffPage', 'publishDate': 'August 16, 2018 01:50 AM', 'title': 'AMERICAN ASSASSIN', 'uid': '00000165-4149-d038-abed-e9d92d820000'}, {'_type': 'Promo', 'canonicalUri': 'https://www.lionsgate.com/movies/now-you-see-me', 'category': 'Movies', 'categoryUri': 'https://www.lionsgate.com/movies', 'media': {'_type': 'Image', 'alt': 'NowYouSeeMe_poster_01.jpg', 'original': {'_type': 'ImageSize', 'uri': 'https://lionsgate.brightspotcdn.com/a4/70/eca0b4ff487c8eb5109b82fbf150/nowyouseeme-poster-01.jpg'}, 'styleImage': {'_type': 'ImageSize', 'height': 226, 'uri': 'https://lionsgate.brightspotcdn.com/dims4/default/618a3c2/2147483647/strip/true/crop/350x517+0+4/resize/153x226!/quality/90/?url=https%3A%2F%2Flionsgate.brightspotcdn.com%2Fa4%2F70%2Feca0b4ff487c8eb5109b82fbf150%2Fnowyouseeme-poster-01.jpg', 'width': 153}, 'seo': {'_type': 'Seo'}}, 'promoType': 'oneOffPage', 'publishDate': 'September 10, 2018 07:27 PM', 'title': 'NOW YOU SEE ME ', 'uid': '00000165-c5cf-d6eb-a5ed-e7ff87fe0000'}, {'_type': 'Promo', 'canonicalUri': 'https://www.lionsgate.com/movies/now-you-see-me-2', 'category': 'Movies', 'categoryUri': 'https://www.lionsgate.com/movies', 'media': {'_type': 'Image', 'alt': 'NowYouSeeMe2_poster_350x519_v2.jpg', 'original': {'_type': 'ImageSize', 'uri': 'https://lionsgate.brightspotcdn.com/e4/02/a14a58894e26ac6e531a29f3ffd2/nowyouseeme2-poster-350x519-v2.jpg'}, 'styleImage': {'_type': 'ImageSize', 'height': 226, 'uri': 'https://lionsgate.brightspotcdn.com/dims4/default/1c94925/2147483647/strip/true/crop/350x517+0+1/resize/153x226!/quality/90/?url=https%3A%2F%2Flionsgate.brightspotcdn.com%2Fe4%2F02%2Fa14a58894e26ac6e531a29f3ffd2%2Fnowyouseeme2-poster-350x519-v2.jpg', 'width': 153}, 'seo': {'_type': 'Seo'}}, 'promoType': 'oneOffPage', 'publishDate': 'October 02, 2018 01:00 PM', 'title': 'NOW YOU SEE ME 2', 'uid': '00000166-35b7-d55b-a7fe-bfb7cd7b0000'}, {'_type': 'Promo', 'canonicalUri': 'https://www.lionsgate.com/movies/power-rangers', 'category': 'Movies', 'categoryUri': 'https://www.lionsgate.com/movies', 'media': {'_type': 'Image', 'alt': 'PowerRangers_Poster_01.jpg', 'original': {'_type': 'ImageSize', 'uri': 'https://lionsgate.brightspotcdn.com/30/61/d3d6df2745f18c6a67e2a32bc0e1/powerrangers-poster-01.jpg'}, 'styleImage': {'_type': 'ImageSize', 'height': 226, 'uri': 'https://lionsgate.brightspotcdn.com/dims4/default/bed06b3/2147483647/strip/true/crop/350x517+0+4/resize/153x226!/quality/90/?url=https%3A%2F%2Flionsgate.brightspotcdn.com%2F30%2F61%2Fd3d6df2745f18c6a67e2a32bc0e1%2Fpowerrangers-poster-01.jpg', 'width': 153}, 'seo': {'_type': 'Seo'}}, 'promoType': 'oneOffPage', 'publishDate': 'August 16, 2018 02:11 AM', 'title': \"SABAN'S POWER RANGERS\", 'uid': '00000165-415c-d038-abed-e9dd0afe0000'}, {'_type': 'Promo', 'canonicalUri': 'https://www.lionsgate.com/movies/red-2', 'category': 'Movies', 'categoryUri': 'https://www.lionsgate.com/movies', 'media': {'_type': 'Image', 'alt': 'Red2_Poster_01.jpg', 'original': {'_type': 'ImageSize', 'uri': 'https://lionsgate.brightspotcdn.com/21/d2/207e00eb41f79d478b4f3ed9898d/red2-poster-01.jpg'}, 'styleImage': {'_type': 'ImageSize', 'height': 226, 'uri': 'https://lionsgate.brightspotcdn.com/dims4/default/4e899cd/2147483647/strip/true/crop/350x517+0+4/resize/153x226!/quality/90/?url=https%3A%2F%2Flionsgate.brightspotcdn.com%2F21%2Fd2%2F207e00eb41f79d478b4f3ed9898d%2Fred2-poster-01.jpg', 'width': 153}, 'seo': {'_type': 'Seo'}}, 'promoType': 'oneOffPage', 'publishDate': 'September 10, 2018 07:29 PM', 'title': 'RED 2', 'uid': '00000165-c5d1-d3cf-a7f5-fdd746d50000'}, {'_type': 'Promo', 'canonicalUri': 'https://www.lionsgate.com/movies/snitch', 'category': 'Movies', 'categoryUri': 'https://www.lionsgate.com/movies', 'description': 'Own It Now', 'media': {'_type': 'Image', 'alt': 'Snitch_poster_01.jpg', 'original': {'_type': 'ImageSize', 'uri': 'https://lionsgate.brightspotcdn.com/37/f1/2de9a90c459da9b8410d24e2a43d/snitch-poster-01.jpg'}, 'styleImage': {'_type': 'ImageSize', 'height': 226, 'uri': 'https://lionsgate.brightspotcdn.com/dims4/default/b211f96/2147483647/strip/true/crop/350x517+0+4/resize/153x226!/quality/90/?url=https%3A%2F%2Flionsgate.brightspotcdn.com%2F37%2Ff1%2F2de9a90c459da9b8410d24e2a43d%2Fsnitch-poster-01.jpg', 'width': 153}, 'seo': {'_type': 'Seo'}}, 'promoType': 'oneOffPage', 'publishDate': 'August 16, 2018 02:16 AM', 'title': 'SNITCH', 'uid': '00000165-4160-d038-abed-e9f1b6840000'}, {'_type': 'Promo', 'canonicalUri': 'https://www.lionsgate.com/movies/47-meters-down', 'category': 'Movies', 'categoryUri': 'https://www.lionsgate.com/movies', 'media': {'_type': 'Image', 'alt': '47MetersDown_poster_01.jpg', 'original': {'_type': 'ImageSize', 'uri': 'https://lionsgate.brightspotcdn.com/3f/f7/aee4cdbe4c97aa6912a12a71bd6c/47metersdown-poster-01.jpg'}, 'styleImage': {'_type': 'ImageSize', 'height': 226, 'uri': 'https://lionsgate.brightspotcdn.com/dims4/default/8d7629b/2147483647/strip/true/crop/350x517+0+4/resize/153x226!/quality/90/?url=https%3A%2F%2Flionsgate.brightspotcdn.com%2F3f%2Ff7%2Faee4cdbe4c97aa6912a12a71bd6c%2F47metersdown-poster-01.jpg', 'width': 153}, 'seo': {'_type': 'Seo'}}, 'promoType': 'oneOffPage', 'publishDate': 'August 14, 2018 05:54 PM', 'title': '47 METERS DOWN', 'uid': '00000165-3a6a-d038-abed-fbfb16520000'}, {'_type': 'Promo', 'canonicalUri': 'https://www.lionsgate.com/movies/the-spy-who-dumped-me', 'category': 'Movies', 'categoryUri': 'https://www.lionsgate.com/movies', 'description': 'Now Available on Digital, Blu-Ray & DVD', 'media': {'_type': 'Image', 'alt': 'TheSpyWhoDumpedMe_poster_01.jpg', 'original': {'_type': 'ImageSize', 'uri': 'https://lionsgate.brightspotcdn.com/ff/ee/3ec1662b4e8cb04940cb18a85559/thespywhodumpedme-poster-01.jpg'}, 'styleImage': {'_type': 'ImageSize', 'height': 226, 'uri': 'https://lionsgate.brightspotcdn.com/dims4/default/c2b9b98/2147483647/strip/true/crop/350x517+0+4/resize/153x226!/quality/90/?url=https%3A%2F%2Flionsgate.brightspotcdn.com%2Fff%2Fee%2F3ec1662b4e8cb04940cb18a85559%2Fthespywhodumpedme-poster-01.jpg', 'width': 153}, 'seo': {'_type': 'Seo'}}, 'promoType': 'oneOffPage', 'publishDate': 'August 16, 2018 02:19 AM', 'title': 'THE SPY WHO DUMPED ME', 'uid': '00000165-4163-d038-abed-e9f3499a0000'}, {'_type': 'Promo', 'canonicalUri': 'https://www.lionsgate.com/movies/terminator-2-judgment-day', 'category': 'Movies', 'categoryUri': 'https://www.lionsgate.com/movies', 'media': {'_type': 'Image', 'alt': 'terminator-2-judgment-day_movies_poster_01.jpg', 'original': {'_type': 'ImageSize', 'uri': 'https://lionsgate.brightspotcdn.com/f7/cc/ca1874574d7cbfb5df39d1fb77ac/terminator-2-judgment-day-movies-poster-01.jpg'}, 'styleImage': {'_type': 'ImageSize', 'height': 226, 'uri': 'https://lionsgate.brightspotcdn.com/dims4/default/3a36ec9/2147483647/strip/true/crop/350x517+0+4/resize/153x226!/quality/90/?url=https%3A%2F%2Flionsgate.brightspotcdn.com%2Ff7%2Fcc%2Fca1874574d7cbfb5df39d1fb77ac%2Fterminator-2-judgment-day-movies-poster-01.jpg', 'width': 153}, 'seo': {'_type': 'Seo'}}, 'promoType': 'oneOffPage', 'publishDate': 'September 10, 2018 08:50 PM', 'title': 'TERMINATOR 2: JUDGMENT DAY', 'uid': '00000165-c61b-d3cf-a7f5-ffdf70500000'}, {'_type': 'Promo', 'canonicalUri': 'https://www.lionsgate.com/movies/the-commuter', 'category': 'Movies', 'categoryUri': 'https://www.lionsgate.com/movies', 'description': 'AVAILABLE NOW ON 4K ULTRA HD™, BLU-RAY, DVD, AND DIGITAL', 'media': {'_type': 'Image', 'alt': 'TheCommuter_Poster_01.jpg', 'original': {'_type': 'ImageSize', 'uri': 'https://lionsgate.brightspotcdn.com/93/bc/0e73c18a452b83d9190ed0b648a6/thecommuter-poster-01.jpg'}, 'styleImage': {'_type': 'ImageSize', 'height': 226, 'uri': 'https://lionsgate.brightspotcdn.com/dims4/default/ab15749/2147483647/strip/true/crop/350x517+0+4/resize/153x226!/quality/90/?url=https%3A%2F%2Flionsgate.brightspotcdn.com%2F93%2Fbc%2F0e73c18a452b83d9190ed0b648a6%2Fthecommuter-poster-01.jpg', 'width': 153}, 'seo': {'_type': 'Seo'}}, 'promoType': 'oneOffPage', 'publishDate': 'August 16, 2018 02:17 AM', 'title': 'THE COMMUTER', 'uid': '00000165-4161-d038-abed-e9f161c80000'}, {'_type': 'Promo', 'canonicalUri': 'https://www.lionsgate.com/movies/the-expendables-2', 'category': 'Movies', 'categoryUri': 'https://www.lionsgate.com/movies', 'media': {'_type': 'Image', 'alt': 'expendables-2_movies_poster_01.jpg', 'original': {'_type': 'ImageSize', 'uri': 'https://lionsgate.brightspotcdn.com/7d/aa/74cf0d114cc78353b3f7260c340c/expendables-2-movies-poster-01.jpg'}, 'styleImage': {'_type': 'ImageSize', 'height': 226, 'uri': 'https://lionsgate.brightspotcdn.com/dims4/default/b7bd7bf/2147483647/strip/true/crop/350x517+0+4/resize/153x226!/quality/90/?url=https%3A%2F%2Flionsgate.brightspotcdn.com%2F7d%2Faa%2F74cf0d114cc78353b3f7260c340c%2Fexpendables-2-movies-poster-01.jpg', 'width': 153}, 'seo': {'_type': 'Seo'}}, 'promoType': 'oneOffPage', 'publishDate': 'September 10, 2018 08:54 PM', 'title': 'THE EXPENDABLES 2', 'uid': '00000165-c61f-d6eb-a5ed-e73f3f370000'}, {'_type': 'Promo', 'canonicalUri': 'https://www.lionsgate.com/movies/punisher-war-zone', 'category': 'Movies', 'categoryUri': 'https://www.lionsgate.com/movies', 'media': {'_type': 'Image', 'alt': 'PunisherWarZone_poster_01.jpg', 'original': {'_type': 'ImageSize', 'uri': 'https://lionsgate.brightspotcdn.com/b5/0e/303828b843c6a981cabdd4705989/punisherwarzone-poster-01.jpg'}, 'styleImage': {'_type': 'ImageSize', 'height': 226, 'uri': 'https://lionsgate.brightspotcdn.com/dims4/default/a85820a/2147483647/strip/true/crop/350x517+0+4/resize/153x226!/quality/90/?url=https%3A%2F%2Flionsgate.brightspotcdn.com%2Fb5%2F0e%2F303828b843c6a981cabdd4705989%2Fpunisherwarzone-poster-01.jpg', 'width': 153}, 'seo': {'_type': 'Seo'}}, 'promoType': 'oneOffPage', 'publishDate': 'August 16, 2018 02:11 AM', 'title': 'PUNISHER: WAR ZONE', 'uid': '00000165-415c-d038-abed-e9dd5b840000'}, {'_type': 'Promo', 'canonicalUri': 'https://www.lionsgate.com/movies/the-expendables-3', 'category': 'Movies', 'categoryUri': 'https://www.lionsgate.com/movies', 'media': {'_type': 'Image', 'alt': 'Expendables3_poster_01.jpg', 'original': {'_type': 'ImageSize', 'uri': 'https://lionsgate.brightspotcdn.com/7f/83/0599f14d4e55bef1d9a3eb7da043/expendables3-poster-01.jpg'}, 'styleImage': {'_type': 'ImageSize', 'height': 226, 'uri': 'https://lionsgate.brightspotcdn.com/dims4/default/c17e041/2147483647/strip/true/crop/350x517+0+4/resize/153x226!/quality/90/?url=https%3A%2F%2Flionsgate.brightspotcdn.com%2F7f%2F83%2F0599f14d4e55bef1d9a3eb7da043%2Fexpendables3-poster-01.jpg', 'width': 153}, 'seo': {'_type': 'Seo'}}, 'promoType': 'oneOffPage', 'publishDate': 'September 10, 2018 08:55 PM', 'title': 'THE EXPENDABLES 3', 'uid': '00000165-c61f-d6eb-a5ed-e73f89670000'}, {'_type': 'Promo', 'canonicalUri': 'https://www.lionsgate.com/movies/valerian-and-the-city-of-a-thousand-planets', 'category': 'Movies', 'categoryUri': 'https://www.lionsgate.com/movies', 'media': {'_type': 'Image', 'alt': 'Valerian_Poster_01.jpg', 'original': {'_type': 'ImageSize', 'uri': 'https://lionsgate.brightspotcdn.com/0f/31/c2cbaffd41149210a00d11a3e57e/valerian-poster-01.jpg'}, 'styleImage': {'_type': 'ImageSize', 'height': 226, 'uri': 'https://lionsgate.brightspotcdn.com/dims4/default/66e59d2/2147483647/strip/true/crop/350x517+0+4/resize/153x226!/quality/90/?url=https%3A%2F%2Flionsgate.brightspotcdn.com%2F0f%2F31%2Fc2cbaffd41149210a00d11a3e57e%2Fvalerian-poster-01.jpg', 'width': 153}, 'seo': {'_type': 'Seo'}}, 'promoType': 'oneOffPage', 'publishDate': 'August 16, 2018 02:20 AM', 'title': 'VALERIAN AND THE CITY OF A THOUSAND PLANETS', 'uid': '00000165-4164-d038-abed-e9f508040000'}, {'_type': 'Promo', 'canonicalUri': 'https://www.lionsgate.com/movies/the-hunger-games', 'category': 'Movies', 'categoryUri': 'https://www.lionsgate.com/movies', 'media': {'_type': 'Image', 'alt': 'the-hunger-games_movies_poster_01', 'original': {'_type': 'ImageSize', 'uri': 'https://lionsgate.brightspotcdn.com/70/cd/51b2daff4711bf1c9e5db061fc89/the-hunger-games-movies-poster-01.jpg'}, 'styleImage': {'_type': 'ImageSize', 'height': 226, 'uri': 'https://lionsgate.brightspotcdn.com/dims4/default/7237d32/2147483647/strip/true/crop/350x517+0+4/resize/153x226!/quality/90/?url=https%3A%2F%2Flionsgate.brightspotcdn.com%2F70%2Fcd%2F51b2daff4711bf1c9e5db061fc89%2Fthe-hunger-games-movies-poster-01.jpg', 'width': 153}, 'seo': {'_type': 'Seo'}}, 'promoType': 'oneOffPage', 'publishDate': 'September 10, 2018 08:56 PM', 'title': 'THE HUNGER GAMES', 'uid': '00000165-c621-d6eb-a5ed-e73136280000'}, {'_type': 'Promo', 'canonicalUri': 'https://www.lionsgate.com/movies/the-hunger-games-catching-fire', 'category': 'Movies', 'categoryUri': 'https://www.lionsgate.com/movies', 'media': {'_type': 'Image', 'alt': 'HungerGames_CatchingFire_poster_01.jpg', 'original': {'_type': 'ImageSize', 'uri': 'https://lionsgate.brightspotcdn.com/ad/9b/733bbc0b44aeaed75346d184c0e1/hungergames-catchingfire-poster-01.jpg'}, 'styleImage': {'_type': 'ImageSize', 'height': 226, 'uri': 'https://lionsgate.brightspotcdn.com/dims4/default/17ac6e6/2147483647/strip/true/crop/350x517+0+4/resize/153x226!/quality/90/?url=https%3A%2F%2Flionsgate.brightspotcdn.com%2Fad%2F9b%2F733bbc0b44aeaed75346d184c0e1%2Fhungergames-catchingfire-poster-01.jpg', 'width': 153}, 'seo': {'_type': 'Seo'}}, 'promoType': 'oneOffPage', 'publishDate': 'September 10, 2018 08:57 PM', 'title': 'THE HUNGER GAMES: CATCHING FIRE', 'uid': '00000165-c622-d3cf-a7f5-ffe731da0000'}, {'_type': 'Promo', 'canonicalUri': 'https://www.lionsgate.com/movies/the-hunger-games-mockingjay-part-1', 'category': 'Movies', 'categoryUri': 'https://www.lionsgate.com/movies', 'media': {'_type': 'Image', 'alt': 'the-hunger-games-mockingjay-part-1_movies_poster_01.jpg', 'original': {'_type': 'ImageSize', 'uri': 'https://lionsgate.brightspotcdn.com/aa/ac/2c8315664dd298bdc29dda5e960e/the-hunger-games-mockingjay-part-1-movies-poster-01.jpg'}, 'styleImage': {'_type': 'ImageSize', 'height': 226, 'uri': 'https://lionsgate.brightspotcdn.com/dims4/default/41dccd5/2147483647/strip/true/crop/350x517+0+4/resize/153x226!/quality/90/?url=https%3A%2F%2Flionsgate.brightspotcdn.com%2Faa%2Fac%2F2c8315664dd298bdc29dda5e960e%2Fthe-hunger-games-mockingjay-part-1-movies-poster-01.jpg', 'width': 153}, 'seo': {'_type': 'Seo'}}, 'promoType': 'oneOffPage', 'publishDate': 'September 10, 2018 08:58 PM', 'title': 'THE HUNGER GAMES: MOCKINGJAY PART 1', 'uid': '00000165-c622-d3cf-a7f5-ffe7a5790000'}, {'_type': 'Promo', 'canonicalUri': 'https://www.lionsgate.com/movies/the-hunger-games-mockingjay-part-2', 'category': 'Movies', 'categoryUri': 'https://www.lionsgate.com/movies', 'media': {'_type': 'Image', 'alt': 'the-hunger-games-mockingjay-part-2_section_poster_final.jpg', 'original': {'_type': 'ImageSize', 'uri': 'https://lionsgate.brightspotcdn.com/ad/23/1c4e3d0c4d959d127840adefc2cf/the-hunger-games-mockingjay-part-2-section-poster-final.jpg'}, 'styleImage': {'_type': 'ImageSize', 'height': 226, 'uri': 'https://lionsgate.brightspotcdn.com/dims4/default/d148c23/2147483647/strip/true/crop/350x517+0+1/resize/153x226!/quality/90/?url=https%3A%2F%2Flionsgate.brightspotcdn.com%2Fad%2F23%2F1c4e3d0c4d959d127840adefc2cf%2Fthe-hunger-games-mockingjay-part-2-section-poster-final.jpg', 'width': 153}, 'seo': {'_type': 'Seo'}}, 'promoType': 'oneOffPage', 'publishDate': 'September 10, 2018 08:58 PM', 'title': 'THE HUNGER GAMES: MOCKINGJAY PART 2', 'uid': '00000165-c623-d3cf-a7f5-ffe717420000'}, {'_type': 'Promo', 'canonicalUri': 'https://www.lionsgate.com/movies/gods-of-egypt', 'category': 'Movies', 'categoryUri': 'https://www.lionsgate.com/movies', 'media': {'_type': 'Image', 'alt': 'gods-of-egypt_section_poster_final.jpg', 'original': {'_type': 'ImageSize', 'uri': 'https://lionsgate.brightspotcdn.com/6b/e6/8af85641460db1ecd4f48fe255d1/gods-of-egypt-section-poster-final.jpg'}, 'styleImage': {'_type': 'ImageSize', 'height': 226, 'uri': 'https://lionsgate.brightspotcdn.com/dims4/default/2610279/2147483647/strip/true/crop/350x517+0+1/resize/153x226!/quality/90/?url=https%3A%2F%2Flionsgate.brightspotcdn.com%2F6b%2Fe6%2F8af85641460db1ecd4f48fe255d1%2Fgods-of-egypt-section-poster-final.jpg', 'width': 153}, 'seo': {'_type': 'Seo'}}, 'promoType': 'oneOffPage', 'publishDate': 'August 16, 2018 02:00 AM', 'title': 'GODS OF EGYPT', 'uid': '00000165-4151-d038-abed-e9d1e0ba0000'}], 'style': 'content-tray-with-vertical-posters', 'title': 'Action/Adventure'}, {'_type': 'List', 'items': [{'_type': 'Promo', 'canonicalUri': 'https://www.lionsgate.com/movies/american-assassin', 'category': 'Movies', 'categoryUri': 'https://www.lionsgate.com/movies', 'media': {'_type': 'Image', 'alt': 'AmericanAssassin_poster_01.jpg', 'original': {'_type': 'ImageSize', 'uri': 'https://lionsgate.brightspotcdn.com/96/75/fb47938a4b4c86e9acdde1e3e012/americanassassin-poster-01.jpg'}, 'styleImage': {'_type': 'ImageSize', 'height': 226, 'uri': 'https://lionsgate.brightspotcdn.com/dims4/default/e7e957b/2147483647/strip/true/crop/350x517+0+4/resize/153x226!/quality/90/?url=https%3A%2F%2Flionsgate.brightspotcdn.com%2F96%2F75%2Ffb47938a4b4c86e9acdde1e3e012%2Famericanassassin-poster-01.jpg', 'width': 153}, 'seo': {'_type': 'Seo'}}, 'promoType': 'oneOffPage', 'publishDate': 'August 16, 2018 01:50 AM', 'title': 'AMERICAN ASSASSIN', 'uid': '00000165-4149-d038-abed-e9d92d820000'}, {'_type': 'Promo', 'canonicalUri': 'https://www.lionsgate.com/movies/patriots-day', 'category': 'Movies', 'categoryUri': 'https://www.lionsgate.com/movies', 'description': 'Available Now on 4K Ultra HD™, Blu-ray™, DVD, and Digital', 'media': {'_type': 'Image', 'alt': 'PatriotsDay_Poster_01.jpg', 'original': {'_type': 'ImageSize', 'uri': 'https://lionsgate.brightspotcdn.com/aa/b8/0a3f39fb41e0823cfb00949d2b85/patriotsday-poster-01.jpg'}, 'styleImage': {'_type': 'ImageSize', 'height': 226, 'uri': 'https://lionsgate.brightspotcdn.com/dims4/default/c1cfeae/2147483647/strip/true/crop/350x517+0+4/resize/153x226!/quality/90/?url=https%3A%2F%2Flionsgate.brightspotcdn.com%2Faa%2Fb8%2F0a3f39fb41e0823cfb00949d2b85%2Fpatriotsday-poster-01.jpg', 'width': 153}, 'seo': {'_type': 'Seo'}}, 'promoType': 'oneOffPage', 'publishDate': 'August 16, 2018 02:11 AM', 'title': 'PATRIOTS DAY', 'uid': '00000165-415b-d038-abed-e9db3d830000'}, {'_type': 'Promo', 'canonicalUri': 'https://www.lionsgate.com/movies/hostiles', 'category': 'Movies', 'categoryUri': 'https://www.lionsgate.com/movies', 'media': {'_type': 'Image', 'alt': 'Hostiles_poster_01.jpg', 'original': {'_type': 'ImageSize', 'uri': 'https://lionsgate.brightspotcdn.com/8e/21/717140e343af8371ef4d0d807f42/hostiles-poster-01.jpg'}, 'styleImage': {'_type': 'ImageSize', 'height': 226, 'uri': 'https://lionsgate.brightspotcdn.com/dims4/default/67d9858/2147483647/strip/true/crop/350x517+0+4/resize/153x226!/quality/90/?url=https%3A%2F%2Flionsgate.brightspotcdn.com%2F8e%2F21%2F717140e343af8371ef4d0d807f42%2Fhostiles-poster-01.jpg', 'width': 153}, 'seo': {'_type': 'Seo'}}, 'promoType': 'oneOffPage', 'publishDate': 'August 16, 2018 02:03 AM', 'title': 'HOSTILES', 'uid': '00000165-4154-d038-abed-e9d5b0470000'}, {'_type': 'Promo', 'canonicalUri': 'https://www.lionsgate.com/movies/a-simple-favor', 'category': 'Movies', 'categoryUri': 'https://www.lionsgate.com/movies', 'media': {'_type': 'Image', 'alt': 'ASimpleFavor_poster_01.jpg', 'original': {'_type': 'ImageSize', 'uri': 'https://lionsgate.brightspotcdn.com/4c/b2/0c0bd1164b6da5c466ea47696fa3/asimplefavor-poster-01.jpg'}, 'styleImage': {'_type': 'ImageSize', 'height': 226, 'uri': 'https://lionsgate.brightspotcdn.com/dims4/default/a1b73ec/2147483647/strip/true/crop/350x517+0+4/resize/153x226!/quality/90/?url=https%3A%2F%2Flionsgate.brightspotcdn.com%2F4c%2Fb2%2F0c0bd1164b6da5c466ea47696fa3%2Fasimplefavor-poster-01.jpg', 'width': 153}, 'seo': {'_type': 'Seo'}}, 'promoType': 'oneOffPage', 'publishDate': 'December 17, 2018 11:59 PM', 'title': 'A SIMPLE FAVOR', 'uid': '00000165-3a6f-d038-abed-fbff959a0000'}, {'_type': 'Promo', 'canonicalUri': 'https://www.lionsgate.com/movies/deepwater-horizon', 'category': 'Movies', 'categoryUri': 'https://www.lionsgate.com/movies', 'media': {'_type': 'Image', 'alt': 'DeepHorizon_poster_01.jpg', 'original': {'_type': 'ImageSize', 'uri': 'https://lionsgate.brightspotcdn.com/f8/74/a15b6e4144debc747ef05a9ca4da/deephorizon-poster-01.jpg'}, 'styleImage': {'_type': 'ImageSize', 'height': 226, 'uri': 'https://lionsgate.brightspotcdn.com/dims4/default/7071d79/2147483647/strip/true/crop/350x517+0+4/resize/153x226!/quality/90/?url=https%3A%2F%2Flionsgate.brightspotcdn.com%2Ff8%2F74%2Fa15b6e4144debc747ef05a9ca4da%2Fdeephorizon-poster-01.jpg', 'width': 153}, 'seo': {'_type': 'Seo'}}, 'promoType': 'oneOffPage', 'publishDate': 'August 16, 2018 01:54 AM', 'title': 'DEEPWATER HORIZON', 'uid': '00000165-414c-d038-abed-e9ddc0800000'}, {'_type': 'Promo', 'canonicalUri': 'https://www.lionsgate.com/movies/sicario', 'category': 'Movies', 'categoryUri': 'https://www.lionsgate.com/movies', 'media': {'_type': 'Image', 'alt': 'Sicario_poster_01.jpg', 'original': {'_type': 'ImageSize', 'uri': 'https://lionsgate.brightspotcdn.com/63/08/9b4868674935aac9330ff3308992/sicario-poster-01.jpg'}, 'styleImage': {'_type': 'ImageSize', 'height': 226, 'uri': 'https://lionsgate.brightspotcdn.com/dims4/default/bab666f/2147483647/strip/true/crop/350x517+0+4/resize/153x226!/quality/90/?url=https%3A%2F%2Flionsgate.brightspotcdn.com%2F63%2F08%2F9b4868674935aac9330ff3308992%2Fsicario-poster-01.jpg', 'width': 153}, 'seo': {'_type': 'Seo'}}, 'promoType': 'oneOffPage', 'publishDate': 'August 16, 2018 02:15 AM', 'title': 'SICARIO', 'uid': '00000165-415f-d038-abed-e9dfc7870000'}, {'_type': 'Promo', 'canonicalUri': 'https://www.lionsgate.com/movies/acrimony', 'category': 'Movies', 'categoryUri': 'https://www.lionsgate.com/movies', 'media': {'_type': 'Image', 'alt': '03139828814580_z_acridcfu.jpg', 'original': {'_type': 'ImageSize', 'uri': 'https://lionsgate.brightspotcdn.com/1f/06/a23adfd445de80354cb8faac622a/03139828814580-z-acridcfu.jpg'}, 'styleImage': {'_type': 'ImageSize', 'height': 226, 'uri': 'https://lionsgate.brightspotcdn.com/dims4/default/1ad9530/2147483647/strip/true/crop/2329x3440+55+0/resize/153x226!/quality/90/?url=https%3A%2F%2Flionsgate.brightspotcdn.com%2F1f%2F06%2Fa23adfd445de80354cb8faac622a%2F03139828814580-z-acridcfu.jpg', 'width': 153}, 'seo': {'_type': 'Seo'}}, 'promoType': 'oneOffPage', 'publishDate': 'August 16, 2018 01:49 AM', 'title': 'ACRIMONY', 'uid': '00000165-4147-d038-abed-e9d7f1690000'}, {'_type': 'Promo', 'canonicalUri': 'https://www.lionsgate.com/movies/django-unchained', 'category': 'Movies', 'categoryUri': 'https://www.lionsgate.com/movies', 'media': {'_type': 'Image', 'alt': 'DjangoUnchained_poster_01.jpg', 'original': {'_type': 'ImageSize', 'uri': 'https://lionsgate.brightspotcdn.com/60/11/b1df4a3b44b3ae989c13c1c15001/djangounchained-poster-01.jpg'}, 'styleImage': {'_type': 'ImageSize', 'height': 226, 'uri': 'https://lionsgate.brightspotcdn.com/dims4/default/1c48a6a/2147483647/strip/true/crop/350x517+0+4/resize/153x226!/quality/90/?url=https%3A%2F%2Flionsgate.brightspotcdn.com%2F60%2F11%2Fb1df4a3b44b3ae989c13c1c15001%2Fdjangounchained-poster-01.jpg', 'width': 153}, 'seo': {'_type': 'Seo'}}, 'promoType': 'oneOffPage', 'publishDate': 'August 16, 2018 01:57 AM', 'title': 'DJANGO UNCHAINED', 'uid': '00000165-414f-d038-abed-e9df76800000'}, {'_type': 'Promo', 'canonicalUri': 'https://www.lionsgate.com/movies/ex-machina', 'category': 'Movies', 'categoryUri': 'https://www.lionsgate.com/movies', 'media': {'_type': 'Image', 'alt': 'ex-machina_movies_poster_01.jpg', 'original': {'_type': 'ImageSize', 'uri': 'https://lionsgate.brightspotcdn.com/65/4e/2ff1930d4a4a8cc427bc35408fe0/ex-machina-movies-poster-01.jpg'}, 'styleImage': {'_type': 'ImageSize', 'height': 226, 'uri': 'https://lionsgate.brightspotcdn.com/dims4/default/ed91c93/2147483647/strip/true/crop/350x517+0+4/resize/153x226!/quality/90/?url=https%3A%2F%2Flionsgate.brightspotcdn.com%2F65%2F4e%2F2ff1930d4a4a8cc427bc35408fe0%2Fex-machina-movies-poster-01.jpg', 'width': 153}, 'seo': {'_type': 'Seo'}}, 'promoType': 'oneOffPage', 'publishDate': 'August 16, 2018 01:59 AM', 'title': 'EX MACHINA', 'uid': '00000165-4151-d038-abed-e9d144500000'}, {'_type': 'Promo', 'canonicalUri': 'https://www.lionsgate.com/movies/hacksaw-ridge', 'category': 'Movies', 'categoryUri': 'https://www.lionsgate.com/movies', 'media': {'_type': 'Image', 'alt': 'Hacksaw_poster_01.jpg', 'original': {'_type': 'ImageSize', 'uri': 'https://lionsgate.brightspotcdn.com/f5/ef/edd2213940289d9bff30fe18c0d3/hacksaw-poster-01.jpg'}, 'styleImage': {'_type': 'ImageSize', 'height': 226, 'uri': 'https://lionsgate.brightspotcdn.com/dims4/default/269e51d/2147483647/strip/true/crop/350x517+0+4/resize/153x226!/quality/90/?url=https%3A%2F%2Flionsgate.brightspotcdn.com%2Ff5%2Fef%2Fedd2213940289d9bff30fe18c0d3%2Fhacksaw-poster-01.jpg', 'width': 153}, 'seo': {'_type': 'Seo'}}, 'promoType': 'oneOffPage', 'publishDate': 'August 16, 2018 02:01 AM', 'title': 'HACKSAW RIDGE', 'uid': '00000165-4153-d038-abed-e9d301de0000'}, {'_type': 'Promo', 'canonicalUri': 'https://www.lionsgate.com/movies/hell-or-high-water', 'category': 'Movies', 'categoryUri': 'https://www.lionsgate.com/movies', 'media': {'_type': 'Image', 'alt': 'HellOrHighWater_poster_01.jpg', 'original': {'_type': 'ImageSize', 'uri': 'https://lionsgate.brightspotcdn.com/e3/a3/07f6e7854f4ca0b58e043c98d44d/hellorhighwater-poster-01.jpg'}, 'styleImage': {'_type': 'ImageSize', 'height': 226, 'uri': 'https://lionsgate.brightspotcdn.com/dims4/default/8493d48/2147483647/strip/true/crop/350x517+0+4/resize/153x226!/quality/90/?url=https%3A%2F%2Flionsgate.brightspotcdn.com%2Fe3%2Fa3%2F07f6e7854f4ca0b58e043c98d44d%2Fhellorhighwater-poster-01.jpg', 'width': 153}, 'seo': {'_type': 'Seo'}}, 'promoType': 'oneOffPage', 'publishDate': 'August 16, 2018 02:03 AM', 'title': 'HELL OR HIGH WATER', 'uid': '00000165-4154-d038-abed-e9d545bc0000'}, {'_type': 'Promo', 'canonicalUri': 'https://www.lionsgate.com/movies/the-hurricane-heist', 'category': 'Movies', 'categoryUri': 'https://www.lionsgate.com/movies', 'media': {'_type': 'Image', 'alt': 'HurricaneHeist_poster_01.jpg', 'original': {'_type': 'ImageSize', 'uri': 'https://lionsgate.brightspotcdn.com/1b/1f/66e36c0247958e25f4f2e130ad2f/hurricaneheist-poster-01.jpg'}, 'styleImage': {'_type': 'ImageSize', 'height': 226, 'uri': 'https://lionsgate.brightspotcdn.com/dims4/default/79dee8a/2147483647/strip/true/crop/350x517+0+4/resize/153x226!/quality/90/?url=https%3A%2F%2Flionsgate.brightspotcdn.com%2F1b%2F1f%2F66e36c0247958e25f4f2e130ad2f%2Fhurricaneheist-poster-01.jpg', 'width': 153}, 'seo': {'_type': 'Seo'}}, 'promoType': 'oneOffPage', 'publishDate': 'August 16, 2018 02:05 AM', 'title': 'THE HURRICANE HEIST', 'uid': '00000165-4156-d038-abed-e9d747ed0000'}, {'_type': 'Promo', 'canonicalUri': 'https://www.lionsgate.com/movies/nerve', 'category': 'Movies', 'categoryUri': 'https://www.lionsgate.com/movies', 'media': {'_type': 'Image', 'alt': 'nerve_movies_poster_01.jpg', 'original': {'_type': 'ImageSize', 'uri': 'https://lionsgate.brightspotcdn.com/7c/64/6df0515e4ae28345d574e27c60d8/nerve-movies-poster-01.jpg'}, 'styleImage': {'_type': 'ImageSize', 'height': 226, 'uri': 'https://lionsgate.brightspotcdn.com/dims4/default/75a82da/2147483647/strip/true/crop/350x517+0+2/resize/153x226!/quality/90/?url=https%3A%2F%2Flionsgate.brightspotcdn.com%2F7c%2F64%2F6df0515e4ae28345d574e27c60d8%2Fnerve-movies-poster-01.jpg', 'width': 153}, 'seo': {'_type': 'Seo'}}, 'promoType': 'oneOffPage', 'publishDate': 'August 16, 2018 02:09 AM', 'title': 'NERVE', 'uid': '00000165-4159-d038-abed-e9d9f1d20000'}, {'_type': 'Promo', 'canonicalUri': 'https://www.lionsgate.com/movies/dying-of-the-light', 'category': 'Movies', 'categoryUri': 'https://www.lionsgate.com/movies', 'media': {'_type': 'Image', 'alt': 'DyingOfTheLight_poster_01.jpg', 'original': {'_type': 'ImageSize', 'uri': 'https://lionsgate.brightspotcdn.com/3e/4e/3c3bc91c4a0fa07ba97cfef258f8/dyingofthelight-poster-01.jpg'}, 'styleImage': {'_type': 'ImageSize', 'height': 226, 'uri': 'https://lionsgate.brightspotcdn.com/dims4/default/ab46118/2147483647/strip/true/crop/350x517+0+4/resize/153x226!/quality/90/?url=https%3A%2F%2Flionsgate.brightspotcdn.com%2F3e%2F4e%2F3c3bc91c4a0fa07ba97cfef258f8%2Fdyingofthelight-poster-01.jpg', 'width': 153}, 'seo': {'_type': 'Seo'}}, 'promoType': 'oneOffPage', 'publishDate': 'August 16, 2018 01:58 AM', 'title': 'DYING OF THE LIGHT', 'uid': '00000165-414f-d038-abed-e9dfd7d10000'}, {'_type': 'Promo', 'canonicalUri': 'https://www.lionsgate.com/movies/you-were-never-really-here', 'category': 'Movies', 'categoryUri': 'https://www.lionsgate.com/movies', 'media': {'_type': 'Image', 'alt': 'YouWereNeverReallyHere_Poster_01.jpg', 'original': {'_type': 'ImageSize', 'uri': 'https://lionsgate.brightspotcdn.com/4e/5e/b9da3ef849919613a23d6810b8c3/youwereneverreallyhere-poster-01.jpg'}, 'styleImage': {'_type': 'ImageSize', 'height': 226, 'uri': 'https://lionsgate.brightspotcdn.com/dims4/default/4cf1fed/2147483647/strip/true/crop/350x517+0+4/resize/153x226!/quality/90/?url=https%3A%2F%2Flionsgate.brightspotcdn.com%2F4e%2F5e%2Fb9da3ef849919613a23d6810b8c3%2Fyouwereneverreallyhere-poster-01.jpg', 'width': 153}, 'seo': {'_type': 'Seo'}}, 'promoType': 'oneOffPage', 'publishDate': 'August 16, 2018 02:20 AM', 'title': 'YOU WERE NEVER REALLY HERE', 'uid': '00000165-4164-d038-abed-e9f57c790000'}], 'style': 'content-tray-with-vertical-posters', 'title': 'Thrillers'}, {'_type': 'List', 'items': [{'_type': 'Promo', 'canonicalUri': 'https://www.lionsgate.com/movies/no-br-manches-frida-2', 'category': 'Movies', 'categoryUri': 'https://www.lionsgate.com/movies', 'media': {'_type': 'Image', 'alt': 'no-manches-frida-2_movies_poster_01.jpg', 'original': {'_type': 'ImageSize', 'uri': 'https://lionsgate.brightspotcdn.com/b4/8f/befe4b2f4b72888e32737b782ddc/no-manches-frida-2-movies-poster-01.jpg'}, 'styleImage': {'_type': 'ImageSize', 'height': 226, 'uri': 'https://lionsgate.brightspotcdn.com/dims4/default/da39d85/2147483647/strip/true/crop/350x517+0+1/resize/153x226!/quality/90/?url=https%3A%2F%2Flionsgate.brightspotcdn.com%2Fb4%2F8f%2Fbefe4b2f4b72888e32737b782ddc%2Fno-manches-frida-2-movies-poster-01.jpg', 'width': 153}, 'seo': {'_type': 'Seo'}}, 'promoType': 'oneOffPage', 'publishDate': 'February 04, 2019 01:21 PM', 'title': 'NO MANCHES FRIDA 2', 'uid': '00000168-a510-d47f-adfd-f7bb20e10000'}, {'_type': 'Promo', 'canonicalUri': 'https://www.lionsgate.com/movies/tyler-perrys-a-madea-family-funeral', 'category': 'Movies', 'categoryUri': 'https://www.lionsgate.com/movies', 'media': {'_type': 'Image', 'alt': 'a-madea-family-funeral_movies_poster_02.jpg', 'original': {'_type': 'ImageSize', 'uri': 'https://lionsgate.brightspotcdn.com/aa/cf/d9f9e9ab493bbb3aca4b07eb2bca/a-madea-family-funeral-movies-poster-01.jpg'}, 'styleImage': {'_type': 'ImageSize', 'height': 226, 'uri': 'https://lionsgate.brightspotcdn.com/dims4/default/f55ac62/2147483647/strip/true/crop/350x517+0+1/resize/153x226!/quality/90/?url=https%3A%2F%2Flionsgate.brightspotcdn.com%2Faa%2Fcf%2Fd9f9e9ab493bbb3aca4b07eb2bca%2Fa-madea-family-funeral-movies-poster-01.jpg', 'width': 153}, 'seo': {'_type': 'Seo'}}, 'promoType': 'oneOffPage', 'publishDate': 'October 31, 2018 05:22 PM', 'title': 'A MADEA FAMILY FUNERAL', 'uid': '00000166-cbf9-d735-a776-cffb457b0001'}, {'_type': 'Promo', 'canonicalUri': 'https://www.lionsgate.com/movies/long-shot', 'category': 'Movies', 'categoryUri': 'https://www.lionsgate.com/movies', 'media': {'_type': 'Image', 'alt': 'longshot_movies_poster_01.jpg', 'original': {'_type': 'ImageSize', 'uri': 'https://lionsgate.brightspotcdn.com/18/ad/9445b6e5414ebcd0aae8a97ecee1/longshot-movies-poster-01.jpg'}, 'styleImage': {'_type': 'ImageSize', 'height': 226, 'uri': 'https://lionsgate.brightspotcdn.com/dims4/default/9943eb3/2147483647/strip/true/crop/350x517+0+1/resize/153x226!/quality/90/?url=https%3A%2F%2Flionsgate.brightspotcdn.com%2F18%2Fad%2F9445b6e5414ebcd0aae8a97ecee1%2Flongshot-movies-poster-01.jpg', 'width': 153}, 'seo': {'_type': 'Seo'}}, 'promoType': 'oneOffPage', 'publishDate': 'February 15, 2019 05:38 PM', 'title': 'LONG SHOT', 'uid': '00000168-e968-d538-a1e8-fd78eab90000'}, {'_type': 'Promo', 'canonicalUri': 'https://www.lionsgate.com/movies/the-spy-who-dumped-me', 'category': 'Movies', 'categoryUri': 'https://www.lionsgate.com/movies', 'description': 'Now Available on Digital, Blu-Ray & DVD', 'media': {'_type': 'Image', 'alt': 'TheSpyWhoDumpedMe_poster_01.jpg', 'original': {'_type': 'ImageSize', 'uri': 'https://lionsgate.brightspotcdn.com/3b/1c/58b8e438471a88cd00c824261e85/thespywhodumpedme-poster-01.jpg'}, 'styleImage': {'_type': 'ImageSize', 'height': 226, 'uri': 'https://lionsgate.brightspotcdn.com/dims4/default/ead143f/2147483647/strip/true/crop/350x517+0+4/resize/153x226!/quality/90/?url=https%3A%2F%2Flionsgate.brightspotcdn.com%2F3b%2F1c%2F58b8e438471a88cd00c824261e85%2Fthespywhodumpedme-poster-01.jpg', 'width': 153}, 'seo': {'_type': 'Seo'}}, 'promoType': 'oneOffPage', 'publishDate': 'August 16, 2018 02:19 AM', 'title': 'THE SPY WHO DUMPED ME', 'uid': '00000165-4163-d038-abed-e9f3499a0000'}, {'_type': 'Promo', 'canonicalUri': 'https://www.lionsgate.com/movies/the-hitmans-bodyguard', 'category': 'Movies', 'categoryUri': 'https://www.lionsgate.com/movies', 'description': 'Available Now on 4K Ultra HD™, Blu-ray™, DVD, and Digital', 'media': {'_type': 'Image', 'alt': 'TheBodygaurd_Poster_01.jpg', 'original': {'_type': 'ImageSize', 'uri': 'https://lionsgate.brightspotcdn.com/97/16/77e63fc64ed1acb745ac57f680a1/thebodygaurd-poster-01.jpg'}, 'styleImage': {'_type': 'ImageSize', 'height': 226, 'uri': 'https://lionsgate.brightspotcdn.com/dims4/default/7c295e0/2147483647/strip/true/crop/350x517+0+4/resize/153x226!/quality/90/?url=https%3A%2F%2Flionsgate.brightspotcdn.com%2F97%2F16%2F77e63fc64ed1acb745ac57f680a1%2Fthebodygaurd-poster-01.jpg', 'width': 153}, 'seo': {'_type': 'Seo'}}, 'promoType': 'oneOffPage', 'publishDate': 'August 16, 2018 02:18 AM', 'title': \"THE HITMAN'S BODYGUARD\", 'uid': '00000165-4162-d038-abed-e9f347f90000'}, {'_type': 'Promo', 'canonicalUri': 'https://www.lionsgate.com/movies/dirty-grandpa', 'category': 'Movies', 'categoryUri': 'https://www.lionsgate.com/movies', 'media': {'_type': 'Image', 'alt': 'DirtyGrandpa_poster_01.jpg', 'original': {'_type': 'ImageSize', 'uri': 'https://lionsgate.brightspotcdn.com/fd/2e/fbf60a9748a1b0988277807da086/dirtygrandpa-poster-01.jpg'}, 'styleImage': {'_type': 'ImageSize', 'height': 226, 'uri': 'https://lionsgate.brightspotcdn.com/dims4/default/927fe31/2147483647/strip/true/crop/350x517+0+4/resize/153x226!/quality/90/?url=https%3A%2F%2Flionsgate.brightspotcdn.com%2Ffd%2F2e%2Ffbf60a9748a1b0988277807da086%2Fdirtygrandpa-poster-01.jpg', 'width': 153}, 'seo': {'_type': 'Seo'}}, 'promoType': 'oneOffPage', 'publishDate': 'August 16, 2018 01:55 AM', 'title': 'DIRTY GRANDPA', 'uid': '00000165-414d-d038-abed-e9dd7b8a0000'}, {'_type': 'Promo', 'canonicalUri': 'https://www.lionsgate.com/movies/how-to-be-a-latin-lover', 'category': 'Movies', 'categoryUri': 'https://www.lionsgate.com/movies', 'media': {'_type': 'Image', 'alt': 'HTBALL_LSR_poster_01.jpg', 'original': {'_type': 'ImageSize', 'uri': 'https://lionsgate.brightspotcdn.com/3b/45/4ba0c7344ac6a217bc769b3cdd9f/htball-lsr-poster-01.jpg'}, 'styleImage': {'_type': 'ImageSize', 'height': 226, 'uri': 'https://lionsgate.brightspotcdn.com/dims4/default/bc446a5/2147483647/strip/true/crop/350x517+0+4/resize/153x226!/quality/90/?url=https%3A%2F%2Flionsgate.brightspotcdn.com%2F3b%2F45%2F4ba0c7344ac6a217bc769b3cdd9f%2Fhtball-lsr-poster-01.jpg', 'width': 153}, 'seo': {'_type': 'Seo'}}, 'promoType': 'oneOffPage', 'publishDate': 'August 16, 2018 02:04 AM', 'title': 'HOW TO BE A LATIN LOVER', 'uid': '00000165-4155-d038-abed-e9d5961c0000'}, {'_type': 'Promo', 'canonicalUri': 'https://www.lionsgate.com/movies/overboard', 'category': 'Movies', 'categoryUri': 'https://www.lionsgate.com/movies', 'media': {'_type': 'Image', 'alt': 'Overboard_Poster_01.jpg', 'original': {'_type': 'ImageSize', 'uri': 'https://lionsgate.brightspotcdn.com/2b/36/463bfefa47e28c723325d1fc193c/overboard-poster-01.jpg'}, 'styleImage': {'_type': 'ImageSize', 'height': 226, 'uri': 'https://lionsgate.brightspotcdn.com/dims4/default/15e92dc/2147483647/strip/true/crop/350x517+0+4/resize/153x226!/quality/90/?url=https%3A%2F%2Flionsgate.brightspotcdn.com%2F2b%2F36%2F463bfefa47e28c723325d1fc193c%2Foverboard-poster-01.jpg', 'width': 153}, 'seo': {'_type': 'Seo'}}, 'promoType': 'oneOffPage', 'publishDate': 'August 16, 2018 02:10 AM', 'title': 'OVERBOARD', 'uid': '00000165-415a-d038-abed-e9dbf1e30000'}, {'_type': 'Promo', 'canonicalUri': 'https://www.lionsgate.com/movies/the-big-sick', 'category': 'Movies', 'categoryUri': 'https://www.lionsgate.com/movies', 'media': {'_type': 'Image', 'alt': 'TheBigSick_Poster_01.jpg', 'original': {'_type': 'ImageSize', 'uri': 'https://lionsgate.brightspotcdn.com/b6/49/ec83dff741238938f1f64f4afde2/thebigsick-poster-01.jpg'}, 'styleImage': {'_type': 'ImageSize', 'height': 226, 'uri': 'https://lionsgate.brightspotcdn.com/dims4/default/55ff221/2147483647/strip/true/crop/350x517+0+4/resize/153x226!/quality/90/?url=https%3A%2F%2Flionsgate.brightspotcdn.com%2Fb6%2F49%2Fec83dff741238938f1f64f4afde2%2Fthebigsick-poster-01.jpg', 'width': 153}, 'seo': {'_type': 'Seo'}}, 'promoType': 'oneOffPage', 'publishDate': 'August 16, 2018 02:17 AM', 'title': 'THE BIG SICK', 'uid': '00000165-4161-d038-abed-e9f120f30000'}, {'_type': 'Promo', 'canonicalUri': 'https://www.lionsgate.com/movies/the-disaster-artist', 'category': 'Movies', 'categoryUri': 'https://www.lionsgate.com/movies', 'media': {'_type': 'Image', 'alt': 'DISASTER_ARTST_Poster_01.jpg', 'original': {'_type': 'ImageSize', 'uri': 'https://lionsgate.brightspotcdn.com/25/e6/194abfa64bdf8c4a3d4a826723ac/disaster-artst-poster-01.jpg'}, 'styleImage': {'_type': 'ImageSize', 'height': 226, 'uri': 'https://lionsgate.brightspotcdn.com/dims4/default/d4c2588/2147483647/strip/true/crop/350x517+0+4/resize/153x226!/quality/90/?url=https%3A%2F%2Flionsgate.brightspotcdn.com%2F25%2Fe6%2F194abfa64bdf8c4a3d4a826723ac%2Fdisaster-artst-poster-01.jpg', 'width': 153}, 'seo': {'_type': 'Seo'}}, 'promoType': 'oneOffPage', 'publishDate': 'August 16, 2018 02:17 AM', 'title': 'THE DISASTER ARTIST', 'uid': '00000165-4161-d038-abed-e9f1a9410000'}, {'_type': 'Promo', 'canonicalUri': 'https://www.lionsgate.com/movies/the-duff', 'category': 'Movies', 'categoryUri': 'https://www.lionsgate.com/movies', 'media': {'_type': 'Image', 'alt': 'the-duff_movies_poster_01.jpg', 'original': {'_type': 'ImageSize', 'uri': 'https://lionsgate.brightspotcdn.com/5e/6e/684709a9448fb13edda949454cc3/theduff-poster-01.jpg'}, 'styleImage': {'_type': 'ImageSize', 'height': 226, 'uri': 'https://lionsgate.brightspotcdn.com/dims4/default/3bc144b/2147483647/strip/true/crop/350x517+0+4/resize/153x226!/quality/90/?url=https%3A%2F%2Flionsgate.brightspotcdn.com%2F5e%2F6e%2F684709a9448fb13edda949454cc3%2Ftheduff-poster-01.jpg', 'width': 153}, 'seo': {'_type': 'Seo'}}, 'promoType': 'oneOffPage', 'publishDate': 'August 16, 2018 02:17 AM', 'title': 'THE DUFF', 'uid': '00000165-4161-d038-abed-e9f1fd860000'}, {'_type': 'Promo', 'canonicalUri': 'https://www.lionsgate.com/movies/instructions-not-included', 'category': 'Movies', 'categoryUri': 'https://www.lionsgate.com/movies', 'media': {'_type': 'Image', 'alt': 'InstructionsNotIncluded_poster_01.jpg', 'original': {'_type': 'ImageSize', 'uri': 'https://lionsgate.brightspotcdn.com/0a/0d/0875ce604ee9bab67206e3335790/instructionsnotincluded-poster-01.jpg'}, 'styleImage': {'_type': 'ImageSize', 'height': 226, 'uri': 'https://lionsgate.brightspotcdn.com/dims4/default/94996bc/2147483647/strip/true/crop/350x517+0+4/resize/153x226!/quality/90/?url=https%3A%2F%2Flionsgate.brightspotcdn.com%2F0a%2F0d%2F0875ce604ee9bab67206e3335790%2Finstructionsnotincluded-poster-01.jpg', 'width': 153}, 'seo': {'_type': 'Seo'}}, 'promoType': 'oneOffPage', 'publishDate': 'August 16, 2018 02:05 AM', 'title': 'INSTRUCTIONS NOT INCLUDED', 'uid': '00000165-4156-d038-abed-e9d7ee900000'}, {'_type': 'Promo', 'canonicalUri': 'https://www.lionsgate.com/movies/no-manches-frida', 'category': 'Movies', 'categoryUri': 'https://www.lionsgate.com/movies', 'media': {'_type': 'Image', 'alt': 'no-manches-frida_movies_poster_01.jpg', 'original': {'_type': 'ImageSize', 'uri': 'https://lionsgate.brightspotcdn.com/b7/6a/508d4ca8407cb23a39557db58241/no-manches-frida-movies-poster-01.jpg'}, 'styleImage': {'_type': 'ImageSize', 'height': 226, 'uri': 'https://lionsgate.brightspotcdn.com/dims4/default/fcbb4a8/2147483647/strip/true/crop/350x517+0+4/resize/153x226!/quality/90/?url=https%3A%2F%2Flionsgate.brightspotcdn.com%2Fb7%2F6a%2F508d4ca8407cb23a39557db58241%2Fno-manches-frida-movies-poster-01.jpg', 'width': 153}, 'seo': {'_type': 'Seo'}}, 'promoType': 'oneOffPage', 'publishDate': 'August 16, 2018 02:09 AM', 'title': 'NO MANCHES FRIDA', 'uid': '00000165-415a-d038-abed-e9db30350000'}, {'_type': 'Promo', 'canonicalUri': 'https://www.lionsgate.com/movies/uncle-drew', 'category': 'Movies', 'categoryUri': 'https://www.lionsgate.com/movies', 'description': 'Now Available on Digital, Blu-Ray & DVD', 'media': {'_type': 'Image', 'alt': 'UncleDrew_Poster_01.jpg', 'original': {'_type': 'ImageSize', 'uri': 'https://lionsgate.brightspotcdn.com/3b/a0/2207161b4138bd6b6051259cfac2/uncledrew-poster-01.jpg'}, 'styleImage': {'_type': 'ImageSize', 'height': 226, 'uri': 'https://lionsgate.brightspotcdn.com/dims4/default/67b9421/2147483647/strip/true/crop/350x517+0+4/resize/153x226!/quality/90/?url=https%3A%2F%2Flionsgate.brightspotcdn.com%2F3b%2Fa0%2F2207161b4138bd6b6051259cfac2%2Funcledrew-poster-01.jpg', 'width': 153}, 'seo': {'_type': 'Seo'}}, 'promoType': 'oneOffPage', 'publishDate': 'August 16, 2018 02:19 AM', 'title': 'UNCLE DREW', 'uid': '00000165-4163-d038-abed-e9f3c1c30000'}, {'_type': 'Promo', 'canonicalUri': 'https://www.lionsgate.com/movies/everybody-loves-somebody', 'category': 'Movies', 'categoryUri': 'https://www.lionsgate.com/movies', 'media': {'_type': 'Image', 'alt': 'everybodylovessomebody-poster-350x519.jpg', 'original': {'_type': 'ImageSize', 'uri': 'https://lionsgate.brightspotcdn.com/f3/f9/4f473f684ab99fa377a34c21aca7/everybodylovessomebody-poster-350x519.jpg'}, 'styleImage': {'_type': 'ImageSize', 'height': 226, 'uri': 'https://lionsgate.brightspotcdn.com/dims4/default/6f3ba8f/2147483647/strip/true/crop/350x517+0+1/resize/153x226!/quality/90/?url=https%3A%2F%2Flionsgate.brightspotcdn.com%2Ff3%2Ff9%2F4f473f684ab99fa377a34c21aca7%2Feverybodylovessomebody-poster-350x519.jpg', 'width': 153}, 'seo': {'_type': 'Seo'}}, 'promoType': 'oneOffPage', 'publishDate': 'August 16, 2018 01:59 AM', 'title': 'EVERYBODY LOVES SOMEBODY', 'uid': '00000165-4150-d038-abed-e9d1dd2f0000'}, {'_type': 'Promo', 'canonicalUri': 'https://www.lionsgate.com/movies/tyler-perrys-boo-a-madea-halloween', 'category': 'Movies', 'categoryUri': 'https://www.lionsgate.com/movies', 'media': {'_type': 'Image', 'alt': 'Boo_Poster_01.jpg', 'original': {'_type': 'ImageSize', 'uri': 'https://lionsgate.brightspotcdn.com/9a/71/a64a005041c3936d2fc4d1914265/boo-poster-01.jpg'}, 'styleImage': {'_type': 'ImageSize', 'height': 226, 'uri': 'https://lionsgate.brightspotcdn.com/dims4/default/c278d07/2147483647/strip/true/crop/350x517+0+4/resize/153x226!/quality/90/?url=https%3A%2F%2Flionsgate.brightspotcdn.com%2F9a%2F71%2Fa64a005041c3936d2fc4d1914265%2Fboo-poster-01.jpg', 'width': 153}, 'seo': {'_type': 'Seo'}}, 'promoType': 'oneOffPage', 'publishDate': 'September 10, 2018 09:03 PM', 'title': \"TYLER PERRY'S BOO! A MADEA HALLOWEEN\", 'uid': '00000165-c627-d6eb-a5ed-e73765480000'}, {'_type': 'Promo', 'canonicalUri': 'https://www.lionsgate.com/movies/tyler-perrys-boo-2-a-madea-halloween', 'category': 'Movies', 'categoryUri': 'https://www.lionsgate.com/movies', 'media': {'_type': 'Image', 'alt': 'Boo2_Poster_01.jpg', 'original': {'_type': 'ImageSize', 'uri': 'https://lionsgate.brightspotcdn.com/50/7b/ac2c8a0448f39a3b1d307ff4b104/boo2-poster-01.jpg'}, 'styleImage': {'_type': 'ImageSize', 'height': 226, 'uri': 'https://lionsgate.brightspotcdn.com/dims4/default/fbd4b25/2147483647/strip/true/crop/350x517+0+4/resize/153x226!/quality/90/?url=https%3A%2F%2Flionsgate.brightspotcdn.com%2F50%2F7b%2Fac2c8a0448f39a3b1d307ff4b104%2Fboo2-poster-01.jpg', 'width': 153}, 'seo': {'_type': 'Seo'}}, 'promoType': 'oneOffPage', 'publishDate': 'September 10, 2018 09:03 PM', 'title': \"TYLER PERRY'S BOO! 2 A MADEA HALLOWEEN\", 'uid': '00000165-c626-d6eb-a5ed-e737c8e40000'}, {'_type': 'Promo', 'canonicalUri': 'https://www.lionsgate.com/movies/most-likely-to-murder', 'category': 'Movies', 'categoryUri': 'https://www.lionsgate.com/movies', 'media': {'_type': 'Image', 'alt': 'MLTM_poster_01.jpg', 'original': {'_type': 'ImageSize', 'uri': 'https://lionsgate.brightspotcdn.com/09/83/71a4d29c457db15a727ab03a9b6a/mltm-poster-01.jpg'}, 'styleImage': {'_type': 'ImageSize', 'height': 226, 'uri': 'https://lionsgate.brightspotcdn.com/dims4/default/f4a4e34/2147483647/strip/true/crop/350x517+0+4/resize/153x226!/quality/90/?url=https%3A%2F%2Flionsgate.brightspotcdn.com%2F09%2F83%2F71a4d29c457db15a727ab03a9b6a%2Fmltm-poster-01.jpg', 'width': 153}, 'seo': {'_type': 'Seo'}}, 'promoType': 'oneOffPage', 'publishDate': 'August 16, 2018 02:08 AM', 'title': 'MOST LIKELY TO MURDER', 'uid': '00000165-4159-d038-abed-e9d91fd80000'}], 'style': 'content-tray-with-vertical-posters', 'title': 'Movies that Make You Laugh'}, {'_type': 'List', 'items': [{'_type': 'Promo', 'canonicalUri': 'https://www.lionsgate.com/movies/hell-fest', 'category': 'Movies', 'categoryUri': 'https://www.lionsgate.com/movies', 'media': {'_type': 'Image', 'alt': 'Hell-Fest_movies_poster_01.jpg', 'original': {'_type': 'ImageSize', 'uri': 'https://lionsgate.brightspotcdn.com/fc/0a/dc5940364ec9bc3ee2afa4cca950/hellfest-section-poster-011.jpg'}, 'styleImage': {'_type': 'ImageSize', 'height': 226, 'uri': 'https://lionsgate.brightspotcdn.com/dims4/default/8048237/2147483647/strip/true/crop/350x517+0+4/resize/153x226!/quality/90/?url=https%3A%2F%2Flionsgate.brightspotcdn.com%2Ffc%2F0a%2Fdc5940364ec9bc3ee2afa4cca950%2Fhellfest-section-poster-011.jpg', 'width': 153}, 'seo': {'_type': 'Seo'}}, 'promoType': 'oneOffPage', 'publishDate': 'November 27, 2018 02:30 AM', 'title': 'HELL FEST', 'uid': '00000167-37dd-dfd2-a967-77df8f810001'}, {'_type': 'Promo', 'canonicalUri': 'https://www.lionsgate.com/movies/american-psycho', 'category': 'Movies', 'categoryUri': 'https://www.lionsgate.com/movies', 'media': {'_type': 'Image', 'alt': 'AmericanPsycho_poster_01.jpg', 'original': {'_type': 'ImageSize', 'uri': 'https://lionsgate.brightspotcdn.com/4a/8d/0581f01d4016bf25eadc153c9bbf/americanpsycho-poster-01.jpg'}, 'styleImage': {'_type': 'ImageSize', 'height': 226, 'uri': 'https://lionsgate.brightspotcdn.com/dims4/default/dd02404/2147483647/strip/true/crop/350x517+0+4/resize/153x226!/quality/90/?url=https%3A%2F%2Flionsgate.brightspotcdn.com%2F4a%2F8d%2F0581f01d4016bf25eadc153c9bbf%2Famericanpsycho-poster-01.jpg', 'width': 153}, 'seo': {'_type': 'Seo'}}, 'promoType': 'oneOffPage', 'publishDate': 'August 16, 2018 01:51 AM', 'title': 'AMERICAN PSYCHO', 'uid': '00000165-4149-d038-abed-e9d988890000'}, {'_type': 'Promo', 'canonicalUri': 'https://www.lionsgate.com/movies/saw', 'category': 'Movies', 'categoryUri': 'https://www.lionsgate.com/movies', 'description': 'Available Now on Blu-ray™, DVD, and Digital', 'media': {'_type': 'Image', 'alt': 'Saw_poster_01.jpg', 'original': {'_type': 'ImageSize', 'uri': 'https://lionsgate.brightspotcdn.com/57/22/142100824757ac20475877d2a5e4/saw-poster-01.jpg'}, 'styleImage': {'_type': 'ImageSize', 'height': 226, 'uri': 'https://lionsgate.brightspotcdn.com/dims4/default/07daed6/2147483647/strip/true/crop/350x517+0+4/resize/153x226!/quality/90/?url=https%3A%2F%2Flionsgate.brightspotcdn.com%2F57%2F22%2F142100824757ac20475877d2a5e4%2Fsaw-poster-01.jpg', 'width': 153}, 'seo': {'_type': 'Seo'}}, 'promoType': 'oneOffPage', 'publishDate': 'September 10, 2018 08:46 PM', 'title': 'SAW', 'uid': '00000165-c617-d6eb-a5ed-e737e80e0000'}, {'_type': 'Promo', 'canonicalUri': 'https://www.lionsgate.com/movies/jigsaw', 'category': 'Movies', 'categoryUri': 'https://www.lionsgate.com/movies', 'media': {'_type': 'Image', 'alt': 'Jigsaw_poster_01.jpg', 'original': {'_type': 'ImageSize', 'uri': 'https://lionsgate.brightspotcdn.com/d1/d4/e4b6e5804af79b501cdd0821b235/jigsaw-poster-01.jpg'}, 'styleImage': {'_type': 'ImageSize', 'height': 226, 'uri': 'https://lionsgate.brightspotcdn.com/dims4/default/0538385/2147483647/strip/true/crop/350x517+0+4/resize/153x226!/quality/90/?url=https%3A%2F%2Flionsgate.brightspotcdn.com%2Fd1%2Fd4%2Fe4b6e5804af79b501cdd0821b235%2Fjigsaw-poster-01.jpg', 'width': 153}, 'seo': {'_type': 'Seo'}}, 'promoType': 'oneOffPage', 'publishDate': 'September 10, 2018 07:23 PM', 'title': 'JIGSAW', 'uid': '00000165-c5cb-d3cf-a7f5-fdcfd7300000'}, {'_type': 'Promo', 'canonicalUri': 'https://www.lionsgate.com/movies/house-of-1000-corpses', 'category': 'Movies', 'categoryUri': 'https://www.lionsgate.com/movies', 'media': {'_type': 'Image', 'alt': 'HouseOf1000Corpses_poster_01.jpg', 'original': {'_type': 'ImageSize', 'uri': 'https://lionsgate.brightspotcdn.com/3f/f5/6e06a6c549f49824add6e822ff30/houseof1000corpses-poster-01.jpg'}, 'styleImage': {'_type': 'ImageSize', 'height': 226, 'uri': 'https://lionsgate.brightspotcdn.com/dims4/default/5fbcaa5/2147483647/strip/true/crop/350x517+0+4/resize/153x226!/quality/90/?url=https%3A%2F%2Flionsgate.brightspotcdn.com%2F3f%2Ff5%2F6e06a6c549f49824add6e822ff30%2Fhouseof1000corpses-poster-01.jpg', 'width': 153}, 'seo': {'_type': 'Seo'}}, 'promoType': 'oneOffPage', 'publishDate': 'August 16, 2018 02:04 AM', 'title': 'HOUSE OF 1000 CORPSES', 'uid': '00000165-4155-d038-abed-e9d515d00000'}, {'_type': 'Promo', 'canonicalUri': 'https://www.lionsgate.com/movies/halloween', 'category': 'Movies', 'categoryUri': 'https://www.lionsgate.com/movies', 'media': {'_type': 'Image', 'alt': 'Halloween_poster_01.jpg', 'original': {'_type': 'ImageSize', 'uri': 'https://lionsgate.brightspotcdn.com/95/2e/8a65beae4211ae8f208554da0267/halloween-poster-01.jpg'}, 'styleImage': {'_type': 'ImageSize', 'height': 226, 'uri': 'https://lionsgate.brightspotcdn.com/dims4/default/193ca6b/2147483647/strip/true/crop/350x517+0+4/resize/153x226!/quality/90/?url=https%3A%2F%2Flionsgate.brightspotcdn.com%2F95%2F2e%2F8a65beae4211ae8f208554da0267%2Fhalloween-poster-01.jpg', 'width': 153}, 'seo': {'_type': 'Seo'}}, 'promoType': 'oneOffPage', 'publishDate': 'September 10, 2018 07:17 PM', 'title': 'HALLOWEEN', 'uid': '00000165-c5c6-d3cf-a7f5-fdc75d160000'}, {'_type': 'Promo', 'canonicalUri': 'https://www.lionsgate.com/movies/saw-2', 'category': 'Movies', 'categoryUri': 'https://www.lionsgate.com/movies', 'media': {'_type': 'Image', 'alt': 'Saw2_Poster_01.jpg', 'original': {'_type': 'ImageSize', 'uri': 'https://lionsgate.brightspotcdn.com/e9/67/eed2a21c4b87b29c550d205f0044/saw2-poster-01.jpg'}, 'styleImage': {'_type': 'ImageSize', 'height': 226, 'uri': 'https://lionsgate.brightspotcdn.com/dims4/default/d1731fe/2147483647/strip/true/crop/350x517+0+4/resize/153x226!/quality/90/?url=https%3A%2F%2Flionsgate.brightspotcdn.com%2Fe9%2F67%2Feed2a21c4b87b29c550d205f0044%2Fsaw2-poster-01.jpg', 'width': 153}, 'seo': {'_type': 'Seo'}}, 'promoType': 'oneOffPage', 'publishDate': 'September 10, 2018 08:48 PM', 'title': 'SAW II', 'uid': '00000165-c619-d6eb-a5ed-e73956960000'}, {'_type': 'Promo', 'canonicalUri': 'https://www.lionsgate.com/movies/saw-3', 'category': 'Movies', 'categoryUri': 'https://www.lionsgate.com/movies', 'media': {'_type': 'Image', 'alt': 'Saw3_Poster_01.jpg', 'original': {'_type': 'ImageSize', 'uri': 'https://lionsgate.brightspotcdn.com/bb/5b/c3e4809641938a99406ff5ccce22/saw3-poster-01.jpg'}, 'styleImage': {'_type': 'ImageSize', 'height': 226, 'uri': 'https://lionsgate.brightspotcdn.com/dims4/default/6b546a0/2147483647/strip/true/crop/350x517+0+4/resize/153x226!/quality/90/?url=https%3A%2F%2Flionsgate.brightspotcdn.com%2Fbb%2F5b%2Fc3e4809641938a99406ff5ccce22%2Fsaw3-poster-01.jpg', 'width': 153}, 'seo': {'_type': 'Seo'}}, 'promoType': 'oneOffPage', 'publishDate': 'September 10, 2018 08:48 PM', 'title': 'SAW III', 'uid': '00000165-c619-d6eb-a5ed-e739aa1c0000'}, {'_type': 'Promo', 'canonicalUri': 'https://www.lionsgate.com/movies/saw-4', 'category': 'Movies', 'categoryUri': 'https://www.lionsgate.com/movies', 'media': {'_type': 'Image', 'alt': 'Saw4_Poster_01.jpg', 'original': {'_type': 'ImageSize', 'uri': 'https://lionsgate.brightspotcdn.com/8c/0b/5a9568c14e2ebc006518b3d1024a/saw4-poster-01.jpg'}, 'styleImage': {'_type': 'ImageSize', 'height': 226, 'uri': 'https://lionsgate.brightspotcdn.com/dims4/default/eea5933/2147483647/strip/true/crop/350x517+0+4/resize/153x226!/quality/90/?url=https%3A%2F%2Flionsgate.brightspotcdn.com%2F8c%2F0b%2F5a9568c14e2ebc006518b3d1024a%2Fsaw4-poster-01.jpg', 'width': 153}, 'seo': {'_type': 'Seo'}}, 'promoType': 'oneOffPage', 'publishDate': 'September 10, 2018 08:48 PM', 'title': 'SAW IV', 'uid': '00000165-c61a-d3cf-a7f5-ffdf142a0000'}, {'_type': 'Promo', 'canonicalUri': 'https://www.lionsgate.com/movies/saw-5', 'category': 'Movies', 'categoryUri': 'https://www.lionsgate.com/movies', 'media': {'_type': 'Image', 'alt': 'Saw5_poster_01.jpg', 'original': {'_type': 'ImageSize', 'uri': 'https://lionsgate.brightspotcdn.com/62/39/fae0d6c54f5cae0e1e3d4c207ec9/saw5-poster-01.jpg'}, 'styleImage': {'_type': 'ImageSize', 'height': 226, 'uri': 'https://lionsgate.brightspotcdn.com/dims4/default/6d8fcb6/2147483647/strip/true/crop/350x517+0+4/resize/153x226!/quality/90/?url=https%3A%2F%2Flionsgate.brightspotcdn.com%2F62%2F39%2Ffae0d6c54f5cae0e1e3d4c207ec9%2Fsaw5-poster-01.jpg', 'width': 153}, 'seo': {'_type': 'Seo'}}, 'promoType': 'oneOffPage', 'publishDate': 'September 10, 2018 08:49 PM', 'title': 'SAW V', 'uid': '00000165-c61a-d6eb-a5ed-e73b5d150000'}, {'_type': 'Promo', 'canonicalUri': 'https://www.lionsgate.com/movies/saw-6', 'category': 'Movies', 'categoryUri': 'https://www.lionsgate.com/movies', 'media': {'_type': 'Image', 'alt': 'Saw6_poster_01.jpg', 'original': {'_type': 'ImageSize', 'uri': 'https://lionsgate.brightspotcdn.com/56/99/0ce30e2f4ce18b8472a2418e0ebd/saw6-poster-01.jpg'}, 'styleImage': {'_type': 'ImageSize', 'height': 226, 'uri': 'https://lionsgate.brightspotcdn.com/dims4/default/112bd8c/2147483647/strip/true/crop/350x517+0+4/resize/153x226!/quality/90/?url=https%3A%2F%2Flionsgate.brightspotcdn.com%2F56%2F99%2F0ce30e2f4ce18b8472a2418e0ebd%2Fsaw6-poster-01.jpg', 'width': 153}, 'seo': {'_type': 'Seo'}}, 'promoType': 'oneOffPage', 'publishDate': 'September 10, 2018 08:49 PM', 'title': 'SAW VI', 'uid': '00000165-c61b-d6eb-a5ed-e73b0b250000'}, {'_type': 'Promo', 'canonicalUri': 'https://www.lionsgate.com/movies/saw-the-final-chapter', 'category': 'Movies', 'categoryUri': 'https://www.lionsgate.com/movies', 'media': {'_type': 'Image', 'alt': 'SawFinalChapter_poster_01.jpg', 'original': {'_type': 'ImageSize', 'uri': 'https://lionsgate.brightspotcdn.com/91/7a/18b2b3cf4c5d9d3a510d11120b77/sawfinalchapter-poster-01.jpg'}, 'styleImage': {'_type': 'ImageSize', 'height': 226, 'uri': 'https://lionsgate.brightspotcdn.com/dims4/default/12b3931/2147483647/strip/true/crop/350x517+0+4/resize/153x226!/quality/90/?url=https%3A%2F%2Flionsgate.brightspotcdn.com%2F91%2F7a%2F18b2b3cf4c5d9d3a510d11120b77%2Fsawfinalchapter-poster-01.jpg', 'width': 153}, 'seo': {'_type': 'Seo'}}, 'promoType': 'oneOffPage', 'publishDate': 'September 10, 2018 08:47 PM', 'title': 'SAW: THE FINAL CHAPTER', 'uid': '00000165-c618-d3cf-a7f5-ffdfe46a0000'}, {'_type': 'Promo', 'canonicalUri': 'https://www.lionsgate.com/movies/halloween-4-the-return-of-michael-myers', 'category': 'Movies', 'categoryUri': 'https://www.lionsgate.com/movies', 'media': {'_type': 'Image', 'alt': 'Halloween4_poster_01.jpg', 'original': {'_type': 'ImageSize', 'uri': 'https://lionsgate.brightspotcdn.com/66/a6/3024c57c43fc9898cbc8dc3f5875/halloween4-poster-01.jpg'}, 'styleImage': {'_type': 'ImageSize', 'height': 226, 'uri': 'https://lionsgate.brightspotcdn.com/dims4/default/2a00a51/2147483647/strip/true/crop/350x517+0+4/resize/153x226!/quality/90/?url=https%3A%2F%2Flionsgate.brightspotcdn.com%2F66%2Fa6%2F3024c57c43fc9898cbc8dc3f5875%2Fhalloween4-poster-01.jpg', 'width': 153}, 'seo': {'_type': 'Seo'}}, 'promoType': 'oneOffPage', 'publishDate': 'September 10, 2018 07:21 PM', 'title': 'HALLOWEEN 4: THE RETURN OF MICHAEL MYERS', 'uid': '00000165-c5ca-d3cf-a7f5-fdcf007d0000'}, {'_type': 'Promo', 'canonicalUri': 'https://www.lionsgate.com/movies/halloween-5-the-revenge-of-michael-myers', 'category': 'Movies', 'categoryUri': 'https://www.lionsgate.com/movies', 'media': {'_type': 'Image', 'alt': 'Halloween5_poster_01.jpg', 'original': {'_type': 'ImageSize', 'uri': 'https://lionsgate.brightspotcdn.com/70/f4/6c1a69604249b157a97bfe67f57f/halloween5-poster-01.jpg'}, 'styleImage': {'_type': 'ImageSize', 'height': 226, 'uri': 'https://lionsgate.brightspotcdn.com/dims4/default/b5c49ac/2147483647/strip/true/crop/350x517+0+4/resize/153x226!/quality/90/?url=https%3A%2F%2Flionsgate.brightspotcdn.com%2F70%2Ff4%2F6c1a69604249b157a97bfe67f57f%2Fhalloween5-poster-01.jpg', 'width': 153}, 'seo': {'_type': 'Seo'}}, 'promoType': 'oneOffPage', 'publishDate': 'September 10, 2018 07:22 PM', 'title': 'HALLOWEEN 5: THE REVENGE OF MICHAEL MYERS', 'uid': '00000165-c5cb-d6eb-a5ed-e7fb075e0000'}], 'style': 'content-tray-with-vertical-posters', 'title': 'Horror'}, {'_type': 'List', 'items': [{'_type': 'Promo', 'canonicalUri': 'https://www.lionsgate.com/movies/wonder', 'category': 'Movies', 'categoryUri': 'https://www.lionsgate.com/movies', 'media': {'_type': 'Image', 'alt': 'Wonder_v2_poster_01.jpg', 'original': {'_type': 'ImageSize', 'uri': 'https://lionsgate.brightspotcdn.com/7e/02/bcf4191248b5913992d81e08b8fb/wonder-v2-poster-01.jpg'}, 'styleImage': {'_type': 'ImageSize', 'height': 226, 'uri': 'https://lionsgate.brightspotcdn.com/dims4/default/2c9fda4/2147483647/strip/true/crop/350x517+0+4/resize/153x226!/quality/90/?url=https%3A%2F%2Flionsgate.brightspotcdn.com%2F7e%2F02%2Fbcf4191248b5913992d81e08b8fb%2Fwonder-v2-poster-01.jpg', 'width': 153}, 'seo': {'_type': 'Seo'}}, 'promoType': 'oneOffPage', 'publishDate': 'August 14, 2018 07:57 PM', 'title': 'WONDER', 'uid': '00000165-3adb-d038-abed-fbdbae3f0000'}, {'_type': 'Promo', 'canonicalUri': 'https://www.lionsgate.com/movies/early-man', 'category': 'Movies', 'categoryUri': 'https://www.lionsgate.com/movies', 'description': 'Own It Now', 'media': {'_type': 'Image', 'alt': 'early-man_movies_poster_01.jpg', 'original': {'_type': 'ImageSize', 'uri': 'https://lionsgate.brightspotcdn.com/3f/11/28e19fa84ea392ce97a1e00439fc/early-man-movies-poster-01.jpg'}, 'styleImage': {'_type': 'ImageSize', 'height': 226, 'uri': 'https://lionsgate.brightspotcdn.com/dims4/default/c40eeff/2147483647/strip/true/crop/350x517+0+2/resize/153x226!/quality/90/?url=https%3A%2F%2Flionsgate.brightspotcdn.com%2F3f%2F11%2F28e19fa84ea392ce97a1e00439fc%2Fearly-man-movies-poster-01.jpg', 'width': 153}, 'seo': {'_type': 'Seo'}}, 'promoType': 'oneOffPage', 'publishDate': 'August 16, 2018 01:58 AM', 'title': 'EARLY MAN', 'uid': '00000165-4150-d038-abed-e9d123a20000'}, {'_type': 'Promo', 'canonicalUri': 'https://www.lionsgate.com/movies/leap', 'category': 'Movies', 'categoryUri': 'https://www.lionsgate.com/movies', 'media': {'_type': 'Image', 'alt': 'Leap!_poster_01.jpg', 'original': {'_type': 'ImageSize', 'uri': 'https://lionsgate.brightspotcdn.com/ef/a1/025f685f481d90fa8d9c10a69772/leap-poster-01.jpg'}, 'styleImage': {'_type': 'ImageSize', 'height': 226, 'uri': 'https://lionsgate.brightspotcdn.com/dims4/default/398d175/2147483647/strip/true/crop/350x517+0+4/resize/153x226!/quality/90/?url=https%3A%2F%2Flionsgate.brightspotcdn.com%2Fef%2Fa1%2F025f685f481d90fa8d9c10a69772%2Fleap-poster-01.jpg', 'width': 153}, 'seo': {'_type': 'Seo'}}, 'promoType': 'oneOffPage', 'publishDate': 'September 10, 2018 07:26 PM', 'title': 'LEAP!', 'uid': '00000165-c5ce-d6eb-a5ed-e7ffd2030000'}, {'_type': 'Promo', 'canonicalUri': 'https://www.lionsgate.com/movies/my-little-pony-the-movie', 'category': 'Movies', 'categoryUri': 'https://www.lionsgate.com/movies', 'media': {'_type': 'Image', 'alt': 'My_Little_Pony_poster_01.jpg', 'original': {'_type': 'ImageSize', 'uri': 'https://lionsgate.brightspotcdn.com/08/78/461676284c38bc70f3e92b270616/my-little-pony-poster-01.jpg'}, 'styleImage': {'_type': 'ImageSize', 'height': 226, 'uri': 'https://lionsgate.brightspotcdn.com/dims4/default/5e470ec/2147483647/strip/true/crop/350x517+0+4/resize/153x226!/quality/90/?url=https%3A%2F%2Flionsgate.brightspotcdn.com%2F08%2F78%2F461676284c38bc70f3e92b270616%2Fmy-little-pony-poster-01.jpg', 'width': 153}, 'seo': {'_type': 'Seo'}}, 'promoType': 'oneOffPage', 'publishDate': 'August 16, 2018 02:08 AM', 'title': 'MY LITTLE PONY: THE MOVIE', 'uid': '00000165-4159-d038-abed-e9d9799a0000'}, {'_type': 'Promo', 'canonicalUri': 'https://www.lionsgate.com/movies/norm-of-the-north', 'category': 'Movies', 'categoryUri': 'https://www.lionsgate.com/movies', 'description': 'Available Now on Blu-ray™ Combo, DVD, and Digital', 'media': {'_type': 'Image', 'alt': 'norm-of-the-north_movies_poster_01.jpg', 'original': {'_type': 'ImageSize', 'uri': 'https://lionsgate.brightspotcdn.com/d1/4d/9ec263e947f2ba0c8f4dca9782fd/norm-of-the-north-movies-poster-01.jpg'}, 'styleImage': {'_type': 'ImageSize', 'height': 226, 'uri': 'https://lionsgate.brightspotcdn.com/dims4/default/4de5b70/2147483647/strip/true/crop/350x517+0+4/resize/153x226!/quality/90/?url=https%3A%2F%2Flionsgate.brightspotcdn.com%2Fd1%2F4d%2F9ec263e947f2ba0c8f4dca9782fd%2Fnorm-of-the-north-movies-poster-01.jpg', 'width': 153}, 'seo': {'_type': 'Seo'}}, 'promoType': 'oneOffPage', 'publishDate': 'August 16, 2018 02:09 AM', 'title': 'NORM OF THE NORTH', 'uid': '00000165-415a-d038-abed-e9db97cf0000'}, {'_type': 'Promo', 'canonicalUri': 'https://www.lionsgate.com/movies/power-rangers', 'category': 'Movies', 'categoryUri': 'https://www.lionsgate.com/movies', 'media': {'_type': 'Image', 'alt': 'PowerRangers_Poster_01.jpg', 'original': {'_type': 'ImageSize', 'uri': 'https://lionsgate.brightspotcdn.com/30/61/d3d6df2745f18c6a67e2a32bc0e1/powerrangers-poster-01.jpg'}, 'styleImage': {'_type': 'ImageSize', 'height': 226, 'uri': 'https://lionsgate.brightspotcdn.com/dims4/default/bed06b3/2147483647/strip/true/crop/350x517+0+4/resize/153x226!/quality/90/?url=https%3A%2F%2Flionsgate.brightspotcdn.com%2F30%2F61%2Fd3d6df2745f18c6a67e2a32bc0e1%2Fpowerrangers-poster-01.jpg', 'width': 153}, 'seo': {'_type': 'Seo'}}, 'promoType': 'oneOffPage', 'publishDate': 'August 16, 2018 02:11 AM', 'title': \"SABAN'S POWER RANGERS\", 'uid': '00000165-415c-d038-abed-e9dd0afe0000'}, {'_type': 'Promo', 'canonicalUri': 'https://www.lionsgate.com/movies/escape-from-planet-earth', 'category': 'Movies', 'categoryUri': 'https://www.lionsgate.com/movies', 'media': {'_type': 'Image', 'alt': 'EscapeFromPlanetEarth_poster_01.jpg', 'original': {'_type': 'ImageSize', 'uri': 'https://lionsgate.brightspotcdn.com/8c/f8/d8ea749748ff835eedd18a796038/escapefromplanetearth-poster-01.jpg'}, 'styleImage': {'_type': 'ImageSize', 'height': 226, 'uri': 'https://lionsgate.brightspotcdn.com/dims4/default/b853c98/2147483647/strip/true/crop/350x517+0+4/resize/153x226!/quality/90/?url=https%3A%2F%2Flionsgate.brightspotcdn.com%2F8c%2Ff8%2Fd8ea749748ff835eedd18a796038%2Fescapefromplanetearth-poster-01.jpg', 'width': 153}, 'seo': {'_type': 'Seo'}}, 'promoType': 'oneOffPage', 'publishDate': 'August 16, 2018 01:58 AM', 'title': 'ESCAPE FROM PLANET EARTH', 'uid': '00000165-4150-d038-abed-e9d16bd00000'}, {'_type': 'Promo', 'canonicalUri': 'https://www.lionsgate.com/movies/rock-dog', 'category': 'Movies', 'categoryUri': 'https://www.lionsgate.com/movies', 'media': {'_type': 'Image', 'alt': 'RockDog_Poster_01.jpg', 'original': {'_type': 'ImageSize', 'uri': 'https://lionsgate.brightspotcdn.com/86/aa/50f6737e4cd096550edfd5d31d42/rockdog-poster-01.jpg'}, 'styleImage': {'_type': 'ImageSize', 'height': 226, 'uri': 'https://lionsgate.brightspotcdn.com/dims4/default/8c3c306/2147483647/strip/true/crop/350x517+0+4/resize/153x226!/quality/90/?url=https%3A%2F%2Flionsgate.brightspotcdn.com%2F86%2Faa%2F50f6737e4cd096550edfd5d31d42%2Frockdog-poster-01.jpg', 'width': 153}, 'seo': {'_type': 'Seo'}}, 'promoType': 'oneOffPage', 'publishDate': 'August 16, 2018 02:13 AM', 'title': 'ROCK DOG', 'uid': '00000165-415e-d038-abed-e9df0fb40000'}], 'style': 'content-tray-with-vertical-posters', 'title': 'Family'}, {'_type': 'List', 'items': [{'_type': 'Promo', 'canonicalUri': 'https://www.lionsgate.com/movies/dirty-dancing', 'category': 'Movies', 'categoryUri': 'https://www.lionsgate.com/movies', 'media': {'_type': 'Image', 'alt': 'DirtyDancing_poster_01.jpg', 'original': {'_type': 'ImageSize', 'uri': 'https://lionsgate.brightspotcdn.com/c3/24/df494e12441c92a59fd0c62b21bf/dirtydancing-poster-01.jpg'}, 'styleImage': {'_type': 'ImageSize', 'height': 226, 'uri': 'https://lionsgate.brightspotcdn.com/dims4/default/b71bc61/2147483647/strip/true/crop/350x517+0+4/resize/153x226!/quality/90/?url=https%3A%2F%2Flionsgate.brightspotcdn.com%2Fc3%2F24%2Fdf494e12441c92a59fd0c62b21bf%2Fdirtydancing-poster-01.jpg', 'width': 153}, 'seo': {'_type': 'Seo'}}, 'promoType': 'oneOffPage', 'publishDate': 'August 16, 2018 01:55 AM', 'title': 'DIRTY DANCING', 'uid': '00000165-414d-d038-abed-e9dd2de60000'}, {'_type': 'Promo', 'canonicalUri': 'https://www.lionsgate.com/movies/all-eyez-on-me', 'category': 'Movies', 'categoryUri': 'https://www.lionsgate.com/movies', 'media': {'_type': 'Image', 'alt': 'AllEyezOnMe_poster_01.jpg', 'original': {'_type': 'ImageSize', 'uri': 'https://lionsgate.brightspotcdn.com/30/dc/33602f9f4489a47d0381bef87f6b/alleyezonme-poster-01.jpg'}, 'styleImage': {'_type': 'ImageSize', 'height': 226, 'uri': 'https://lionsgate.brightspotcdn.com/dims4/default/180334d/2147483647/strip/true/crop/350x517+0+4/resize/153x226!/quality/90/?url=https%3A%2F%2Flionsgate.brightspotcdn.com%2F30%2Fdc%2F33602f9f4489a47d0381bef87f6b%2Falleyezonme-poster-01.jpg', 'width': 153}, 'seo': {'_type': 'Seo'}}, 'promoType': 'oneOffPage', 'publishDate': 'August 16, 2018 01:50 AM', 'title': 'ALL EYEZ ON ME', 'uid': '00000165-4148-d038-abed-e9d9a5360000'}, {'_type': 'Promo', 'canonicalUri': 'https://www.lionsgate.com/movies/la-la-land', 'category': 'Movies', 'categoryUri': 'https://www.lionsgate.com/movies', 'media': {'_type': 'Image', 'alt': 'LaLaLand_poster_01.jpg', 'original': {'_type': 'ImageSize', 'uri': 'https://lionsgate.brightspotcdn.com/de/91/8cf5d78f44a0960bae48dc2f4448/lalaland-poster-01.jpg'}, 'styleImage': {'_type': 'ImageSize', 'height': 226, 'uri': 'https://lionsgate.brightspotcdn.com/dims4/default/3f7f345/2147483647/strip/true/crop/350x517+0+4/resize/153x226!/quality/90/?url=https%3A%2F%2Flionsgate.brightspotcdn.com%2Fde%2F91%2F8cf5d78f44a0960bae48dc2f4448%2Flalaland-poster-01.jpg', 'width': 153}, 'seo': {'_type': 'Seo'}}, 'promoType': 'oneOffPage', 'publishDate': 'August 16, 2018 02:06 AM', 'title': 'LA LA LAND', 'uid': '00000165-4157-d038-abed-e9d7ea490000'}, {'_type': 'Promo', 'canonicalUri': 'https://www.lionsgate.com/movies/rock-dog', 'category': 'Movies', 'categoryUri': 'https://www.lionsgate.com/movies', 'media': {'_type': 'Image', 'alt': 'RockDog_Poster_01.jpg', 'original': {'_type': 'ImageSize', 'uri': 'https://lionsgate.brightspotcdn.com/86/aa/50f6737e4cd096550edfd5d31d42/rockdog-poster-01.jpg'}, 'styleImage': {'_type': 'ImageSize', 'height': 226, 'uri': 'https://lionsgate.brightspotcdn.com/dims4/default/8c3c306/2147483647/strip/true/crop/350x517+0+4/resize/153x226!/quality/90/?url=https%3A%2F%2Flionsgate.brightspotcdn.com%2F86%2Faa%2F50f6737e4cd096550edfd5d31d42%2Frockdog-poster-01.jpg', 'width': 153}, 'seo': {'_type': 'Seo'}}, 'promoType': 'oneOffPage', 'publishDate': 'August 16, 2018 02:13 AM', 'title': 'ROCK DOG', 'uid': '00000165-415e-d038-abed-e9df0fb40000'}, {'_type': 'Promo', 'canonicalUri': 'https://www.lionsgate.com/movies/blindspotting', 'category': 'Movies', 'categoryUri': 'https://www.lionsgate.com/movies', 'media': {'_type': 'Image', 'alt': 'Blindspotting_poster_01.jpg', 'original': {'_type': 'ImageSize', 'uri': 'https://lionsgate.brightspotcdn.com/57/d8/21945c084b318d909c72a7889a6f/blindspotting-poster-01.jpg'}, 'styleImage': {'_type': 'ImageSize', 'height': 226, 'uri': 'https://lionsgate.brightspotcdn.com/dims4/default/90678a9/2147483647/strip/true/crop/350x517+0+4/resize/153x226!/quality/90/?url=https%3A%2F%2Flionsgate.brightspotcdn.com%2F57%2Fd8%2F21945c084b318d909c72a7889a6f%2Fblindspotting-poster-01.jpg', 'width': 153}, 'seo': {'_type': 'Seo'}}, 'promoType': 'oneOffPage', 'publishDate': 'August 16, 2018 01:53 AM', 'title': 'BLINDSPOTTING', 'uid': '00000165-414b-d038-abed-e9dbcc4b0000'}, {'_type': 'Promo', 'canonicalUri': 'https://www.lionsgate.com/movies/i-can-only-imagine', 'category': 'Movies', 'categoryUri': 'https://www.lionsgate.com/movies', 'media': {'_type': 'Image', 'alt': 'ICOI_poster_01.jpg', 'original': {'_type': 'ImageSize', 'uri': 'https://lionsgate.brightspotcdn.com/89/92/c2cc0d6447bfa317d7b3b972b3b4/icoi-poster-01.jpg'}, 'styleImage': {'_type': 'ImageSize', 'height': 226, 'uri': 'https://lionsgate.brightspotcdn.com/dims4/default/13818f8/2147483647/strip/true/crop/350x517+0+4/resize/153x226!/quality/90/?url=https%3A%2F%2Flionsgate.brightspotcdn.com%2F89%2F92%2Fc2cc0d6447bfa317d7b3b972b3b4%2Ficoi-poster-01.jpg', 'width': 153}, 'seo': {'_type': 'Seo'}}, 'promoType': 'oneOffPage', 'publishDate': 'August 16, 2018 02:05 AM', 'title': 'I CAN ONLY IMAGINE', 'uid': '00000165-4156-d038-abed-e9d7a1020000'}, {'_type': 'Promo', 'canonicalUri': 'https://www.lionsgate.com/movies/love-beats-rhymes', 'category': 'Movies', 'categoryUri': 'https://www.lionsgate.com/movies', 'media': {'_type': 'Image', 'alt': 'love-beats-rhymes_movies_poster_01.jpg', 'original': {'_type': 'ImageSize', 'uri': 'https://lionsgate.brightspotcdn.com/ae/e8/f710bb7d4b07a9b1eca761a62040/love-beats-rhymes-movies-poster-01.jpg'}, 'styleImage': {'_type': 'ImageSize', 'height': 226, 'uri': 'https://lionsgate.brightspotcdn.com/dims4/default/e3a30c9/2147483647/strip/true/crop/350x517+0+4/resize/153x226!/quality/90/?url=https%3A%2F%2Flionsgate.brightspotcdn.com%2Fae%2Fe8%2Ff710bb7d4b07a9b1eca761a62040%2Flove-beats-rhymes-movies-poster-01.jpg', 'width': 153}, 'seo': {'_type': 'Seo'}}, 'promoType': 'oneOffPage', 'publishDate': 'August 16, 2018 02:07 AM', 'title': 'LOVE BEATS RHYMES', 'uid': '00000165-4158-d038-abed-e9d9cc5e0000'}], 'style': 'content-tray-with-vertical-posters', 'title': 'Movies for Music Lovers'}, {'_type': 'List', 'items': [{'_type': 'Promo', 'canonicalUri': 'https://www.lionsgate.com/movies/a-simple-favor', 'category': 'Movies', 'categoryUri': 'https://www.lionsgate.com/movies', 'media': {'_type': 'Image', 'alt': 'ASimpleFavor_poster_01.jpg', 'original': {'_type': 'ImageSize', 'uri': 'https://lionsgate.brightspotcdn.com/4c/b2/0c0bd1164b6da5c466ea47696fa3/asimplefavor-poster-01.jpg'}, 'styleImage': {'_type': 'ImageSize', 'height': 226, 'uri': 'https://lionsgate.brightspotcdn.com/dims4/default/a1b73ec/2147483647/strip/true/crop/350x517+0+4/resize/153x226!/quality/90/?url=https%3A%2F%2Flionsgate.brightspotcdn.com%2F4c%2Fb2%2F0c0bd1164b6da5c466ea47696fa3%2Fasimplefavor-poster-01.jpg', 'width': 153}, 'seo': {'_type': 'Seo'}}, 'promoType': 'oneOffPage', 'publishDate': 'December 17, 2018 11:59 PM', 'title': 'A SIMPLE FAVOR', 'uid': '00000165-3a6f-d038-abed-fbff959a0000'}, {'_type': 'Promo', 'canonicalUri': 'https://www.lionsgate.com/movies/the-disaster-artist', 'category': 'Movies', 'categoryUri': 'https://www.lionsgate.com/movies', 'media': {'_type': 'Image', 'alt': 'DISASTER_ARTST_Poster_01.jpg', 'original': {'_type': 'ImageSize', 'uri': 'https://lionsgate.brightspotcdn.com/25/e6/194abfa64bdf8c4a3d4a826723ac/disaster-artst-poster-01.jpg'}, 'styleImage': {'_type': 'ImageSize', 'height': 226, 'uri': 'https://lionsgate.brightspotcdn.com/dims4/default/d4c2588/2147483647/strip/true/crop/350x517+0+4/resize/153x226!/quality/90/?url=https%3A%2F%2Flionsgate.brightspotcdn.com%2F25%2Fe6%2F194abfa64bdf8c4a3d4a826723ac%2Fdisaster-artst-poster-01.jpg', 'width': 153}, 'seo': {'_type': 'Seo'}}, 'promoType': 'oneOffPage', 'publishDate': 'August 16, 2018 02:17 AM', 'title': 'THE DISASTER ARTIST', 'uid': '00000165-4161-d038-abed-e9f1a9410000'}, {'_type': 'Promo', 'canonicalUri': 'https://www.lionsgate.com/movies/hunter-killer', 'category': 'Movies', 'categoryUri': 'https://www.lionsgate.com/movies', 'media': {'_type': 'Image', 'alt': 'Hunter-Killer_movies-poster-02.jpg', 'original': {'_type': 'ImageSize', 'uri': 'https://lionsgate.brightspotcdn.com/16/bb/b51e3a70457ca6a06c09a7589e7e/hunterkiller-poster-01.jpg'}, 'styleImage': {'_type': 'ImageSize', 'height': 226, 'uri': 'https://lionsgate.brightspotcdn.com/dims4/default/f62778e/2147483647/strip/true/crop/350x517+0+4/resize/153x226!/quality/90/?url=https%3A%2F%2Flionsgate.brightspotcdn.com%2F16%2Fbb%2Fb51e3a70457ca6a06c09a7589e7e%2Fhunterkiller-poster-01.jpg', 'width': 153}, 'seo': {'_type': 'Seo'}}, 'promoType': 'oneOffPage', 'publishDate': 'August 16, 2018 02:04 AM', 'title': 'HUNTER KILLER', 'uid': '00000165-4155-d038-abed-e9d5f1390000'}, {'_type': 'Promo', 'canonicalUri': 'https://www.lionsgate.com/movies/the-hunger-games', 'category': 'Movies', 'categoryUri': 'https://www.lionsgate.com/movies', 'media': {'_type': 'Image', 'alt': 'the-hunger-games_movies_poster_01', 'original': {'_type': 'ImageSize', 'uri': 'https://lionsgate.brightspotcdn.com/70/cd/51b2daff4711bf1c9e5db061fc89/the-hunger-games-movies-poster-01.jpg'}, 'styleImage': {'_type': 'ImageSize', 'height': 226, 'uri': 'https://lionsgate.brightspotcdn.com/dims4/default/7237d32/2147483647/strip/true/crop/350x517+0+4/resize/153x226!/quality/90/?url=https%3A%2F%2Flionsgate.brightspotcdn.com%2F70%2Fcd%2F51b2daff4711bf1c9e5db061fc89%2Fthe-hunger-games-movies-poster-01.jpg', 'width': 153}, 'seo': {'_type': 'Seo'}}, 'promoType': 'oneOffPage', 'publishDate': 'September 10, 2018 08:56 PM', 'title': 'THE HUNGER GAMES', 'uid': '00000165-c621-d6eb-a5ed-e73136280000'}, {'_type': 'Promo', 'canonicalUri': 'https://www.lionsgate.com/movies/wonder', 'category': 'Movies', 'categoryUri': 'https://www.lionsgate.com/movies', 'media': {'_type': 'Image', 'alt': 'Wonder_v2_poster_01.jpg', 'original': {'_type': 'ImageSize', 'uri': 'https://lionsgate.brightspotcdn.com/7e/02/bcf4191248b5913992d81e08b8fb/wonder-v2-poster-01.jpg'}, 'styleImage': {'_type': 'ImageSize', 'height': 226, 'uri': 'https://lionsgate.brightspotcdn.com/dims4/default/2c9fda4/2147483647/strip/true/crop/350x517+0+4/resize/153x226!/quality/90/?url=https%3A%2F%2Flionsgate.brightspotcdn.com%2F7e%2F02%2Fbcf4191248b5913992d81e08b8fb%2Fwonder-v2-poster-01.jpg', 'width': 153}, 'seo': {'_type': 'Seo'}}, 'promoType': 'oneOffPage', 'publishDate': 'August 14, 2018 07:57 PM', 'title': 'WONDER', 'uid': '00000165-3adb-d038-abed-fbdbae3f0000'}, {'_type': 'Promo', 'canonicalUri': 'https://www.lionsgate.com/movies/divergent', 'category': 'Movies', 'categoryUri': 'https://www.lionsgate.com/movies', 'media': {'_type': 'Image', 'alt': 'Divergent_poster_01.jpg', 'original': {'_type': 'ImageSize', 'uri': 'https://lionsgate.brightspotcdn.com/35/c5/cfec3649437b8f22b02fa0df40eb/divergent-poster-01.jpg'}, 'styleImage': {'_type': 'ImageSize', 'height': 226, 'uri': 'https://lionsgate.brightspotcdn.com/dims4/default/f2ee167/2147483647/strip/true/crop/350x517+0+4/resize/153x226!/quality/90/?url=https%3A%2F%2Flionsgate.brightspotcdn.com%2F35%2Fc5%2Fcfec3649437b8f22b02fa0df40eb%2Fdivergent-poster-01.jpg', 'width': 153}, 'seo': {'_type': 'Seo'}}, 'promoType': 'oneOffPage', 'publishDate': 'September 21, 2018 03:00 AM', 'title': 'DIVERGENT', 'uid': '00000165-fae9-d035-a77f-faedd86f0000'}, {'_type': 'Promo', 'canonicalUri': 'https://www.lionsgate.com/movies/twilight', 'category': 'Movies', 'categoryUri': 'https://www.lionsgate.com/movies', 'media': {'_type': 'Image', 'alt': 'Twilight_1_poster.jpg', 'original': {'_type': 'ImageSize', 'uri': 'https://lionsgate.brightspotcdn.com/9a/72/5e89e87c455c9b386ae33f5c6bf0/twilight-1-poster.jpg'}, 'styleImage': {'_type': 'ImageSize', 'height': 226, 'uri': 'https://lionsgate.brightspotcdn.com/dims4/default/f3de3a7/2147483647/strip/true/crop/350x517+0+4/resize/153x226!/quality/90/?url=https%3A%2F%2Flionsgate.brightspotcdn.com%2F9a%2F72%2F5e89e87c455c9b386ae33f5c6bf0%2Ftwilight-1-poster.jpg', 'width': 153}, 'seo': {'_type': 'Seo'}}, 'promoType': 'oneOffPage', 'publishDate': 'September 10, 2018 08:59 PM', 'title': 'TWILIGHT', 'uid': '00000165-c623-d6eb-a5ed-e733e6490000'}, {'_type': 'Promo', 'canonicalUri': 'https://www.lionsgate.com/movies/nerve', 'category': 'Movies', 'categoryUri': 'https://www.lionsgate.com/movies', 'media': {'_type': 'Image', 'alt': 'nerve_movies_poster_01.jpg', 'original': {'_type': 'ImageSize', 'uri': 'https://lionsgate.brightspotcdn.com/7c/64/6df0515e4ae28345d574e27c60d8/nerve-movies-poster-01.jpg'}, 'styleImage': {'_type': 'ImageSize', 'height': 226, 'uri': 'https://lionsgate.brightspotcdn.com/dims4/default/75a82da/2147483647/strip/true/crop/350x517+0+2/resize/153x226!/quality/90/?url=https%3A%2F%2Flionsgate.brightspotcdn.com%2F7c%2F64%2F6df0515e4ae28345d574e27c60d8%2Fnerve-movies-poster-01.jpg', 'width': 153}, 'seo': {'_type': 'Seo'}}, 'promoType': 'oneOffPage', 'publishDate': 'August 16, 2018 02:09 AM', 'title': 'NERVE', 'uid': '00000165-4159-d038-abed-e9d9f1d20000'}, {'_type': 'Promo', 'canonicalUri': 'https://www.lionsgate.com/movies/the-shack', 'category': 'Movies', 'categoryUri': 'https://www.lionsgate.com/movies', 'media': {'_type': 'Image', 'alt': 'TheShack_Poster_01.jpg', 'original': {'_type': 'ImageSize', 'uri': 'https://lionsgate.brightspotcdn.com/88/f2/88a9ffd94382a35a1add2edcc986/theshack-poster-01.jpg'}, 'styleImage': {'_type': 'ImageSize', 'height': 226, 'uri': 'https://lionsgate.brightspotcdn.com/dims4/default/fb53fb5/2147483647/strip/true/crop/350x517+0+4/resize/153x226!/quality/90/?url=https%3A%2F%2Flionsgate.brightspotcdn.com%2F88%2Ff2%2F88a9ffd94382a35a1add2edcc986%2Ftheshack-poster-01.jpg', 'width': 153}, 'seo': {'_type': 'Seo'}}, 'promoType': 'oneOffPage', 'publishDate': 'August 16, 2018 02:19 AM', 'title': 'THE SHACK', 'uid': '00000165-4162-d038-abed-e9f3f31f0000'}, {'_type': 'Promo', 'canonicalUri': 'https://www.lionsgate.com/movies/american-assassin', 'category': 'Movies', 'categoryUri': 'https://www.lionsgate.com/movies', 'media': {'_type': 'Image', 'alt': 'AmericanAssassin_poster_01.jpg', 'original': {'_type': 'ImageSize', 'uri': 'https://lionsgate.brightspotcdn.com/96/75/fb47938a4b4c86e9acdde1e3e012/americanassassin-poster-01.jpg'}, 'styleImage': {'_type': 'ImageSize', 'height': 226, 'uri': 'https://lionsgate.brightspotcdn.com/dims4/default/e7e957b/2147483647/strip/true/crop/350x517+0+4/resize/153x226!/quality/90/?url=https%3A%2F%2Flionsgate.brightspotcdn.com%2F96%2F75%2Ffb47938a4b4c86e9acdde1e3e012%2Famericanassassin-poster-01.jpg', 'width': 153}, 'seo': {'_type': 'Seo'}}, 'promoType': 'oneOffPage', 'publishDate': 'August 16, 2018 01:50 AM', 'title': 'AMERICAN ASSASSIN', 'uid': '00000165-4149-d038-abed-e9d92d820000'}, {'_type': 'Promo', 'canonicalUri': 'https://www.lionsgate.com/movies/american-psycho', 'category': 'Movies', 'categoryUri': 'https://www.lionsgate.com/movies', 'media': {'_type': 'Image', 'alt': 'AmericanPsycho_poster_01.jpg', 'original': {'_type': 'ImageSize', 'uri': 'https://lionsgate.brightspotcdn.com/4a/8d/0581f01d4016bf25eadc153c9bbf/americanpsycho-poster-01.jpg'}, 'styleImage': {'_type': 'ImageSize', 'height': 226, 'uri': 'https://lionsgate.brightspotcdn.com/dims4/default/dd02404/2147483647/strip/true/crop/350x517+0+4/resize/153x226!/quality/90/?url=https%3A%2F%2Flionsgate.brightspotcdn.com%2F4a%2F8d%2F0581f01d4016bf25eadc153c9bbf%2Famericanpsycho-poster-01.jpg', 'width': 153}, 'seo': {'_type': 'Seo'}}, 'promoType': 'oneOffPage', 'publishDate': 'August 16, 2018 01:51 AM', 'title': 'AMERICAN PSYCHO', 'uid': '00000165-4149-d038-abed-e9d988890000'}, {'_type': 'Promo', 'canonicalUri': 'https://www.lionsgate.com/movies/the-duff', 'category': 'Movies', 'categoryUri': 'https://www.lionsgate.com/movies', 'media': {'_type': 'Image', 'alt': 'the-duff_movies_poster_01.jpg', 'original': {'_type': 'ImageSize', 'uri': 'https://lionsgate.brightspotcdn.com/5e/6e/684709a9448fb13edda949454cc3/theduff-poster-01.jpg'}, 'styleImage': {'_type': 'ImageSize', 'height': 226, 'uri': 'https://lionsgate.brightspotcdn.com/dims4/default/3bc144b/2147483647/strip/true/crop/350x517+0+4/resize/153x226!/quality/90/?url=https%3A%2F%2Flionsgate.brightspotcdn.com%2F5e%2F6e%2F684709a9448fb13edda949454cc3%2Ftheduff-poster-01.jpg', 'width': 153}, 'seo': {'_type': 'Seo'}}, 'promoType': 'oneOffPage', 'publishDate': 'August 16, 2018 02:17 AM', 'title': 'THE DUFF', 'uid': '00000165-4161-d038-abed-e9f1fd860000'}, {'_type': 'Promo', 'canonicalUri': 'https://www.lionsgate.com/movies/you-were-never-really-here', 'category': 'Movies', 'categoryUri': 'https://www.lionsgate.com/movies', 'media': {'_type': 'Image', 'alt': 'YouWereNeverReallyHere_Poster_01.jpg', 'original': {'_type': 'ImageSize', 'uri': 'https://lionsgate.brightspotcdn.com/4e/5e/b9da3ef849919613a23d6810b8c3/youwereneverreallyhere-poster-01.jpg'}, 'styleImage': {'_type': 'ImageSize', 'height': 226, 'uri': 'https://lionsgate.brightspotcdn.com/dims4/default/4cf1fed/2147483647/strip/true/crop/350x517+0+4/resize/153x226!/quality/90/?url=https%3A%2F%2Flionsgate.brightspotcdn.com%2F4e%2F5e%2Fb9da3ef849919613a23d6810b8c3%2Fyouwereneverreallyhere-poster-01.jpg', 'width': 153}, 'seo': {'_type': 'Seo'}}, 'promoType': 'oneOffPage', 'publishDate': 'August 16, 2018 02:20 AM', 'title': 'YOU WERE NEVER REALLY HERE', 'uid': '00000165-4164-d038-abed-e9f57c790000'}, {'_type': 'Promo', 'canonicalUri': 'https://www.lionsgate.com/movies/the-glass-castle', 'category': 'Movies', 'categoryUri': 'https://www.lionsgate.com/movies', 'description': 'Available Now on Blu-Ray™ and Digital', 'media': {'_type': 'Image', 'alt': 'theglasscastle_section_poster_final.jpg', 'original': {'_type': 'ImageSize', 'uri': 'https://lionsgate.brightspotcdn.com/08/c1/c1629a094da48c225e37de0f36b7/theglasscastle-section-poster-final.jpg'}, 'styleImage': {'_type': 'ImageSize', 'height': 226, 'uri': 'https://lionsgate.brightspotcdn.com/dims4/default/749fb7e/2147483647/strip/true/crop/350x517+0+1/resize/153x226!/quality/90/?url=https%3A%2F%2Flionsgate.brightspotcdn.com%2F08%2Fc1%2Fc1629a094da48c225e37de0f36b7%2Ftheglasscastle-section-poster-final.jpg', 'width': 153}, 'seo': {'_type': 'Seo'}}, 'promoType': 'oneOffPage', 'publishDate': 'October 02, 2018 02:22 PM', 'title': 'THE GLASS CASTLE', 'uid': '00000166-3601-d4e2-ade6-f7fd278c0000'}], 'style': 'content-tray-with-vertical-posters', 'title': 'Based on a Book'}, {'_type': 'List', 'items': [{'_type': 'Promo', 'canonicalUri': 'https://www.lionsgate.com/movies/the-kid', 'category': 'Movies', 'categoryUri': 'https://www.lionsgate.com/movies', 'media': {'_type': 'Image', 'alt': 'the-kid_poster_01.jpg', 'original': {'_type': 'ImageSize', 'uri': 'https://lionsgate.brightspotcdn.com/c6/ea/32063b2445a584da46f134bf1975/the-kid-poster-01.jpg'}, 'styleImage': {'_type': 'ImageSize', 'height': 226, 'uri': 'https://lionsgate.brightspotcdn.com/dims4/default/86b450c/2147483647/strip/true/crop/350x517+0+2/resize/153x226!/quality/90/?url=https%3A%2F%2Flionsgate.brightspotcdn.com%2Fc6%2Fea%2F32063b2445a584da46f134bf1975%2Fthe-kid-poster-01.jpg', 'width': 153}, 'seo': {'_type': 'Seo'}}, 'promoType': 'oneOffPage', 'publishDate': 'February 22, 2019 09:26 PM', 'title': 'THE KID', 'uid': '00000169-17c0-da3f-a57b-97cf671a0000'}, {'_type': 'Promo', 'canonicalUri': 'https://www.lionsgate.com/movies/all-eyez-on-me', 'category': 'Movies', 'categoryUri': 'https://www.lionsgate.com/movies', 'media': {'_type': 'Image', 'alt': 'AllEyezOnMe_poster_01.jpg', 'original': {'_type': 'ImageSize', 'uri': 'https://lionsgate.brightspotcdn.com/30/dc/33602f9f4489a47d0381bef87f6b/alleyezonme-poster-01.jpg'}, 'styleImage': {'_type': 'ImageSize', 'height': 226, 'uri': 'https://lionsgate.brightspotcdn.com/dims4/default/180334d/2147483647/strip/true/crop/350x517+0+4/resize/153x226!/quality/90/?url=https%3A%2F%2Flionsgate.brightspotcdn.com%2F30%2Fdc%2F33602f9f4489a47d0381bef87f6b%2Falleyezonme-poster-01.jpg', 'width': 153}, 'seo': {'_type': 'Seo'}}, 'promoType': 'oneOffPage', 'publishDate': 'August 16, 2018 01:50 AM', 'title': 'ALL EYEZ ON ME', 'uid': '00000165-4148-d038-abed-e9d9a5360000'}, {'_type': 'Promo', 'canonicalUri': 'https://www.lionsgate.com/movies/chappaquiddick', 'category': 'Movies', 'categoryUri': 'https://www.lionsgate.com/movies', 'media': {'_type': 'Image', 'alt': 'Chappaquiddick_poster_01.jpg', 'original': {'_type': 'ImageSize', 'uri': 'https://lionsgate.brightspotcdn.com/01/ba/cc498d7b45f6a817a09c06012e75/chappaquiddick-poster-01.jpg'}, 'styleImage': {'_type': 'ImageSize', 'height': 226, 'uri': 'https://lionsgate.brightspotcdn.com/dims4/default/0f1625a/2147483647/strip/true/crop/350x517+0+4/resize/153x226!/quality/90/?url=https%3A%2F%2Flionsgate.brightspotcdn.com%2F01%2Fba%2Fcc498d7b45f6a817a09c06012e75%2Fchappaquiddick-poster-01.jpg', 'width': 153}, 'seo': {'_type': 'Seo'}}, 'promoType': 'oneOffPage', 'publishDate': 'August 16, 2018 01:54 AM', 'title': 'CHAPPAQUIDDICK', 'uid': '00000165-414c-d038-abed-e9dd16c80000'}, {'_type': 'Promo', 'canonicalUri': 'https://www.lionsgate.com/movies/deepwater-horizon', 'category': 'Movies', 'categoryUri': 'https://www.lionsgate.com/movies', 'media': {'_type': 'Image', 'alt': 'DeepHorizon_poster_01.jpg', 'original': {'_type': 'ImageSize', 'uri': 'https://lionsgate.brightspotcdn.com/f8/74/a15b6e4144debc747ef05a9ca4da/deephorizon-poster-01.jpg'}, 'styleImage': {'_type': 'ImageSize', 'height': 226, 'uri': 'https://lionsgate.brightspotcdn.com/dims4/default/7071d79/2147483647/strip/true/crop/350x517+0+4/resize/153x226!/quality/90/?url=https%3A%2F%2Flionsgate.brightspotcdn.com%2Ff8%2F74%2Fa15b6e4144debc747ef05a9ca4da%2Fdeephorizon-poster-01.jpg', 'width': 153}, 'seo': {'_type': 'Seo'}}, 'promoType': 'oneOffPage', 'publishDate': 'August 16, 2018 01:54 AM', 'title': 'DEEPWATER HORIZON', 'uid': '00000165-414c-d038-abed-e9ddc0800000'}, {'_type': 'Promo', 'canonicalUri': 'https://www.lionsgate.com/movies/hacksaw-ridge', 'category': 'Movies', 'categoryUri': 'https://www.lionsgate.com/movies', 'media': {'_type': 'Image', 'alt': 'Hacksaw_poster_01.jpg', 'original': {'_type': 'ImageSize', 'uri': 'https://lionsgate.brightspotcdn.com/f5/ef/edd2213940289d9bff30fe18c0d3/hacksaw-poster-01.jpg'}, 'styleImage': {'_type': 'ImageSize', 'height': 226, 'uri': 'https://lionsgate.brightspotcdn.com/dims4/default/269e51d/2147483647/strip/true/crop/350x517+0+4/resize/153x226!/quality/90/?url=https%3A%2F%2Flionsgate.brightspotcdn.com%2Ff5%2Fef%2Fedd2213940289d9bff30fe18c0d3%2Fhacksaw-poster-01.jpg', 'width': 153}, 'seo': {'_type': 'Seo'}}, 'promoType': 'oneOffPage', 'publishDate': 'August 16, 2018 02:01 AM', 'title': 'HACKSAW RIDGE', 'uid': '00000165-4153-d038-abed-e9d301de0000'}, {'_type': 'Promo', 'canonicalUri': 'https://www.lionsgate.com/movies/i-can-only-imagine', 'category': 'Movies', 'categoryUri': 'https://www.lionsgate.com/movies', 'media': {'_type': 'Image', 'alt': 'ICOI_poster_01.jpg', 'original': {'_type': 'ImageSize', 'uri': 'https://lionsgate.brightspotcdn.com/89/92/c2cc0d6447bfa317d7b3b972b3b4/icoi-poster-01.jpg'}, 'styleImage': {'_type': 'ImageSize', 'height': 226, 'uri': 'https://lionsgate.brightspotcdn.com/dims4/default/13818f8/2147483647/strip/true/crop/350x517+0+4/resize/153x226!/quality/90/?url=https%3A%2F%2Flionsgate.brightspotcdn.com%2F89%2F92%2Fc2cc0d6447bfa317d7b3b972b3b4%2Ficoi-poster-01.jpg', 'width': 153}, 'seo': {'_type': 'Seo'}}, 'promoType': 'oneOffPage', 'publishDate': 'August 16, 2018 02:05 AM', 'title': 'I CAN ONLY IMAGINE', 'uid': '00000165-4156-d038-abed-e9d7a1020000'}, {'_type': 'Promo', 'canonicalUri': 'https://www.lionsgate.com/movies/the-big-sick', 'category': 'Movies', 'categoryUri': 'https://www.lionsgate.com/movies', 'media': {'_type': 'Image', 'alt': 'TheBigSick_Poster_01.jpg', 'original': {'_type': 'ImageSize', 'uri': 'https://lionsgate.brightspotcdn.com/b6/49/ec83dff741238938f1f64f4afde2/thebigsick-poster-01.jpg'}, 'styleImage': {'_type': 'ImageSize', 'height': 226, 'uri': 'https://lionsgate.brightspotcdn.com/dims4/default/55ff221/2147483647/strip/true/crop/350x517+0+4/resize/153x226!/quality/90/?url=https%3A%2F%2Flionsgate.brightspotcdn.com%2Fb6%2F49%2Fec83dff741238938f1f64f4afde2%2Fthebigsick-poster-01.jpg', 'width': 153}, 'seo': {'_type': 'Seo'}}, 'promoType': 'oneOffPage', 'publishDate': 'August 16, 2018 02:17 AM', 'title': 'THE BIG SICK', 'uid': '00000165-4161-d038-abed-e9f120f30000'}, {'_type': 'Promo', 'canonicalUri': 'https://www.lionsgate.com/movies/the-glass-castle', 'category': 'Movies', 'categoryUri': 'https://www.lionsgate.com/movies', 'description': 'Available Now on Blu-Ray™ and Digital', 'media': {'_type': 'Image', 'alt': 'theglasscastle_section_poster_final.jpg', 'original': {'_type': 'ImageSize', 'uri': 'https://lionsgate.brightspotcdn.com/08/c1/c1629a094da48c225e37de0f36b7/theglasscastle-section-poster-final.jpg'}, 'styleImage': {'_type': 'ImageSize', 'height': 226, 'uri': 'https://lionsgate.brightspotcdn.com/dims4/default/749fb7e/2147483647/strip/true/crop/350x517+0+1/resize/153x226!/quality/90/?url=https%3A%2F%2Flionsgate.brightspotcdn.com%2F08%2Fc1%2Fc1629a094da48c225e37de0f36b7%2Ftheglasscastle-section-poster-final.jpg', 'width': 153}, 'seo': {'_type': 'Seo'}}, 'promoType': 'oneOffPage', 'publishDate': 'October 02, 2018 02:22 PM', 'title': 'THE GLASS CASTLE', 'uid': '00000166-3601-d4e2-ade6-f7fd278c0000'}, {'_type': 'Promo', 'canonicalUri': 'https://www.lionsgate.com/movies/the-disaster-artist', 'category': 'Movies', 'categoryUri': 'https://www.lionsgate.com/movies', 'media': {'_type': 'Image', 'alt': 'DISASTER_ARTST_Poster_01.jpg', 'original': {'_type': 'ImageSize', 'uri': 'https://lionsgate.brightspotcdn.com/25/e6/194abfa64bdf8c4a3d4a826723ac/disaster-artst-poster-01.jpg'}, 'styleImage': {'_type': 'ImageSize', 'height': 226, 'uri': 'https://lionsgate.brightspotcdn.com/dims4/default/d4c2588/2147483647/strip/true/crop/350x517+0+4/resize/153x226!/quality/90/?url=https%3A%2F%2Flionsgate.brightspotcdn.com%2F25%2Fe6%2F194abfa64bdf8c4a3d4a826723ac%2Fdisaster-artst-poster-01.jpg', 'width': 153}, 'seo': {'_type': 'Seo'}}, 'promoType': 'oneOffPage', 'publishDate': 'August 16, 2018 02:17 AM', 'title': 'THE DISASTER ARTIST', 'uid': '00000165-4161-d038-abed-e9f1a9410000'}, {'_type': 'Promo', 'canonicalUri': 'https://www.lionsgate.com/movies/patriots-day', 'category': 'Movies', 'categoryUri': 'https://www.lionsgate.com/movies', 'description': 'Available Now on 4K Ultra HD™, Blu-ray™, DVD, and Digital', 'media': {'_type': 'Image', 'alt': 'PatriotsDay_Poster_01.jpg', 'original': {'_type': 'ImageSize', 'uri': 'https://lionsgate.brightspotcdn.com/aa/b8/0a3f39fb41e0823cfb00949d2b85/patriotsday-poster-01.jpg'}, 'styleImage': {'_type': 'ImageSize', 'height': 226, 'uri': 'https://lionsgate.brightspotcdn.com/dims4/default/c1cfeae/2147483647/strip/true/crop/350x517+0+4/resize/153x226!/quality/90/?url=https%3A%2F%2Flionsgate.brightspotcdn.com%2Faa%2Fb8%2F0a3f39fb41e0823cfb00949d2b85%2Fpatriotsday-poster-01.jpg', 'width': 153}, 'seo': {'_type': 'Seo'}}, 'promoType': 'oneOffPage', 'publishDate': 'August 16, 2018 02:11 AM', 'title': 'PATRIOTS DAY', 'uid': '00000165-415b-d038-abed-e9db3d830000'}], 'style': 'content-tray-with-vertical-posters', 'title': 'Based on True Events'}, {'_type': 'List', 'items': [{'_type': 'Promo', 'canonicalUri': 'https://www.lionsgate.com/movies/robin-hood', 'category': 'Movies', 'categoryUri': 'https://www.lionsgate.com/movies', 'media': {'_type': 'Image', 'alt': 'RobinHood_Ocard_poster_01.jpg', 'original': {'_type': 'ImageSize', 'uri': 'https://lionsgate.brightspotcdn.com/0c/12/b6efd07a4e6e8558adcb1d5fa338/robinhood-ocard-poster-01.jpg'}, 'styleImage': {'_type': 'ImageSize', 'height': 226, 'uri': 'https://lionsgate.brightspotcdn.com/dims4/default/ef7a96b/2147483647/strip/true/crop/350x517+0+2/resize/153x226!/quality/90/?url=https%3A%2F%2Flionsgate.brightspotcdn.com%2F0c%2F12%2Fb6efd07a4e6e8558adcb1d5fa338%2Frobinhood-ocard-poster-01.jpg', 'width': 153}, 'seo': {'_type': 'Seo'}}, 'promoType': 'oneOffPage', 'publishDate': 'August 16, 2018 02:12 AM', 'title': 'ROBIN HOOD', 'uid': '00000165-415c-d038-abed-e9dda4460000'}, {'_type': 'Promo', 'canonicalUri': 'https://www.lionsgate.com/movies/hellboy', 'category': 'Movies', 'categoryUri': 'https://www.lionsgate.com/movies', 'description': 'Coming Soon', 'media': {'_type': 'Image', 'alt': 'hellboy_movies_poster_01.jpg', 'original': {'_type': 'ImageSize', 'uri': 'https://lionsgate.brightspotcdn.com/cc/0b/5ea2f20b4a0a9a0c250d6f22f51c/hellboy-movies-poster-01.jpg'}, 'styleImage': {'_type': 'ImageSize', 'height': 226, 'uri': 'https://lionsgate.brightspotcdn.com/dims4/default/83ac939/2147483647/strip/true/crop/350x517+0+1/resize/153x226!/quality/90/?url=https%3A%2F%2Flionsgate.brightspotcdn.com%2Fcc%2F0b%2F5ea2f20b4a0a9a0c250d6f22f51c%2Fhellboy-movies-poster-01.jpg', 'width': 153}, 'seo': {'_type': 'Seo'}}, 'promoType': 'oneOffPage', 'publishDate': 'September 20, 2018 07:59 PM', 'title': 'HELLBOY', 'uid': '00000165-f96b-d325-af7d-fb7fb3ea0000'}, {'_type': 'Promo', 'canonicalUri': 'https://www.lionsgate.com/movies/hunter-killer', 'category': 'Movies', 'categoryUri': 'https://www.lionsgate.com/movies', 'media': {'_type': 'Image', 'alt': 'Hunter-Killer_movies-poster-02.jpg', 'original': {'_type': 'ImageSize', 'uri': 'https://lionsgate.brightspotcdn.com/16/bb/b51e3a70457ca6a06c09a7589e7e/hunterkiller-poster-01.jpg'}, 'styleImage': {'_type': 'ImageSize', 'height': 226, 'uri': 'https://lionsgate.brightspotcdn.com/dims4/default/f62778e/2147483647/strip/true/crop/350x517+0+4/resize/153x226!/quality/90/?url=https%3A%2F%2Flionsgate.brightspotcdn.com%2F16%2Fbb%2Fb51e3a70457ca6a06c09a7589e7e%2Fhunterkiller-poster-01.jpg', 'width': 153}, 'seo': {'_type': 'Seo'}}, 'promoType': 'oneOffPage', 'publishDate': 'August 16, 2018 02:04 AM', 'title': 'HUNTER KILLER', 'uid': '00000165-4155-d038-abed-e9d5f1390000'}, {'_type': 'Promo', 'canonicalUri': 'https://www.lionsgate.com/movies/a-simple-favor', 'category': 'Movies', 'categoryUri': 'https://www.lionsgate.com/movies', 'media': {'_type': 'Image', 'alt': 'ASimpleFavor_poster_01.jpg', 'original': {'_type': 'ImageSize', 'uri': 'https://lionsgate.brightspotcdn.com/b4/46/937986004052aa5a2635a3332680/asimplefavor-poster-01.jpg'}, 'styleImage': {'_type': 'ImageSize', 'height': 226, 'uri': 'https://lionsgate.brightspotcdn.com/dims4/default/a0cb8a6/2147483647/strip/true/crop/350x517+0+4/resize/153x226!/quality/90/?url=https%3A%2F%2Flionsgate.brightspotcdn.com%2Fb4%2F46%2F937986004052aa5a2635a3332680%2Fasimplefavor-poster-01.jpg', 'width': 153}, 'seo': {'_type': 'Seo'}}, 'promoType': 'oneOffPage', 'publishDate': 'December 17, 2018 11:59 PM', 'title': 'A SIMPLE FAVOR', 'uid': '00000165-3a6f-d038-abed-fbff959a0000'}, {'_type': 'Promo', 'canonicalUri': 'https://www.lionsgate.com/movies/the-spy-who-dumped-me', 'category': 'Movies', 'categoryUri': 'https://www.lionsgate.com/movies', 'description': 'Now Available on Digital, Blu-Ray & DVD', 'media': {'_type': 'Image', 'alt': 'TheSpyWhoDumpedMe_Poster_01.jpg', 'original': {'_type': 'ImageSize', 'uri': 'https://lionsgate.brightspotcdn.com/74/07/68b8219a471f9e8a0e4e04fe5be8/thespywhodumpedme-poster-01.jpg'}, 'styleImage': {'_type': 'ImageSize', 'height': 226, 'uri': 'https://lionsgate.brightspotcdn.com/dims4/default/1b74b42/2147483647/strip/true/crop/350x517+0+4/resize/153x226!/quality/90/?url=https%3A%2F%2Flionsgate.brightspotcdn.com%2F74%2F07%2F68b8219a471f9e8a0e4e04fe5be8%2Fthespywhodumpedme-poster-01.jpg', 'width': 153}, 'seo': {'_type': 'Seo'}}, 'promoType': 'oneOffPage', 'publishDate': 'August 16, 2018 02:19 AM', 'title': 'THE SPY WHO DUMPED ME', 'uid': '00000165-4163-d038-abed-e9f3499a0000'}, {'_type': 'Promo', 'canonicalUri': 'https://www.lionsgate.com/movies/uncle-drew', 'category': 'Movies', 'categoryUri': 'https://www.lionsgate.com/movies', 'description': 'Now Available on Digital, Blu-Ray & DVD', 'media': {'_type': 'Image', 'alt': 'UncleDrew_poster_01.jpg', 'original': {'_type': 'ImageSize', 'uri': 'https://lionsgate.brightspotcdn.com/98/a5/6a9697e1425bac9d6857e5abc55e/uncledrew-poster-01.jpg'}, 'styleImage': {'_type': 'ImageSize', 'height': 226, 'uri': 'https://lionsgate.brightspotcdn.com/dims4/default/0ff959f/2147483647/strip/true/crop/350x517+0+4/resize/153x226!/quality/90/?url=https%3A%2F%2Flionsgate.brightspotcdn.com%2F98%2Fa5%2F6a9697e1425bac9d6857e5abc55e%2Funcledrew-poster-01.jpg', 'width': 153}, 'seo': {'_type': 'Seo'}}, 'promoType': 'oneOffPage', 'publishDate': 'August 16, 2018 02:19 AM', 'title': 'UNCLE DREW', 'uid': '00000165-4163-d038-abed-e9f3c1c30000'}, {'_type': 'Promo', 'canonicalUri': 'https://www.lionsgate.com/movies/kin', 'category': 'Movies', 'categoryUri': 'https://www.lionsgate.com/movies', 'media': {'_type': 'Image', 'alt': 'Kin_poster_01.jpg', 'original': {'_type': 'ImageSize', 'uri': 'https://lionsgate.brightspotcdn.com/d0/02/5b73671f4ed194b3ffcd77884e43/kin-poster-01.jpg'}, 'styleImage': {'_type': 'ImageSize', 'height': 226, 'uri': 'https://lionsgate.brightspotcdn.com/dims4/default/e9d9201/2147483647/strip/true/crop/350x517+0+4/resize/153x226!/quality/90/?url=https%3A%2F%2Flionsgate.brightspotcdn.com%2Fd0%2F02%2F5b73671f4ed194b3ffcd77884e43%2Fkin-poster-01.jpg', 'width': 153}, 'seo': {'_type': 'Seo'}}, 'promoType': 'oneOffPage', 'publishDate': 'August 16, 2018 02:06 AM', 'title': 'KIN', 'uid': '00000165-4157-d038-abed-e9d79fb10000'}, {'_type': 'Promo', 'canonicalUri': 'https://www.lionsgate.com/movies/blindspotting', 'category': 'Movies', 'categoryUri': 'https://www.lionsgate.com/movies', 'media': {'_type': 'Image', 'alt': 'Blindspotting_section_poster_01.jpg', 'original': {'_type': 'ImageSize', 'uri': 'https://lionsgate.brightspotcdn.com/6a/80/ca10afa34dd7ab80932532104425/blindspotting-section-poster-01.jpg'}, 'styleImage': {'_type': 'ImageSize', 'height': 226, 'uri': 'https://lionsgate.brightspotcdn.com/dims4/default/f7724f2/2147483647/strip/true/crop/350x517+0+4/resize/153x226!/quality/90/?url=https%3A%2F%2Flionsgate.brightspotcdn.com%2F6a%2F80%2Fca10afa34dd7ab80932532104425%2Fblindspotting-section-poster-01.jpg', 'width': 153}, 'seo': {'_type': 'Seo'}}, 'promoType': 'oneOffPage', 'publishDate': 'August 16, 2018 01:53 AM', 'title': 'BLINDSPOTTING', 'uid': '00000165-414b-d038-abed-e9dbcc4b0000'}, {'_type': 'Promo', 'canonicalUri': 'https://www.lionsgate.com/movies/acrimony', 'category': 'Movies', 'categoryUri': 'https://www.lionsgate.com/movies', 'media': {'_type': 'Image', 'alt': '03139828814580_z_acridcfu.jpg', 'original': {'_type': 'ImageSize', 'uri': 'https://lionsgate.brightspotcdn.com/1f/06/a23adfd445de80354cb8faac622a/03139828814580-z-acridcfu.jpg'}, 'styleImage': {'_type': 'ImageSize', 'height': 226, 'uri': 'https://lionsgate.brightspotcdn.com/dims4/default/1ad9530/2147483647/strip/true/crop/2329x3440+55+0/resize/153x226!/quality/90/?url=https%3A%2F%2Flionsgate.brightspotcdn.com%2F1f%2F06%2Fa23adfd445de80354cb8faac622a%2F03139828814580-z-acridcfu.jpg', 'width': 153}, 'seo': {'_type': 'Seo'}}, 'promoType': 'oneOffPage', 'publishDate': 'August 16, 2018 01:49 AM', 'title': 'ACRIMONY', 'uid': '00000165-4147-d038-abed-e9d7f1690000'}, {'_type': 'Promo', 'canonicalUri': 'https://www.lionsgate.com/movies/hellboy', 'category': 'Movies', 'categoryUri': 'https://www.lionsgate.com/movies', 'description': 'Coming Soon', 'media': {'_type': 'Image', 'alt': 'hellboy_movies_poster_01.jpg', 'original': {'_type': 'ImageSize', 'uri': 'https://lionsgate.brightspotcdn.com/cc/0b/5ea2f20b4a0a9a0c250d6f22f51c/hellboy-movies-poster-01.jpg'}, 'styleImage': {'_type': 'ImageSize', 'height': 226, 'uri': 'https://lionsgate.brightspotcdn.com/dims4/default/83ac939/2147483647/strip/true/crop/350x517+0+1/resize/153x226!/quality/90/?url=https%3A%2F%2Flionsgate.brightspotcdn.com%2Fcc%2F0b%2F5ea2f20b4a0a9a0c250d6f22f51c%2Fhellboy-movies-poster-01.jpg', 'width': 153}, 'seo': {'_type': 'Seo'}}, 'promoType': 'oneOffPage', 'publishDate': 'September 20, 2018 07:59 PM', 'title': 'HELLBOY', 'uid': '00000165-f96b-d325-af7d-fb7fb3ea0000'}], 'style': 'content-tray-with-vertical-posters', 'title': 'search-results'}], {'_type': 'Footer', 'disclaimer': '2019', 'footerContent': [{'_type': 'FooterColumns', 'columns': [{'_type': 'FooterColumn', 'items': [{'_type': 'Navigation', 'items': [{'_type': 'NavigationItem', 'current': False, 'text': 'About', 'type': 'Section', 'uid': '00000166-5594-db3f-a17f-55f737ee0000', 'uri': 'https://www.lionsgate.com/about', 'largeFont': False, 'displaySubNavigationHorizontally': False}, {'_type': 'NavigationItem', 'current': False, 'text': 'Careers', 'type': 'Section', 'uid': '00000167-aa1b-d9e6-a5ff-eafb63f80000', 'uri': 'https://www.lionsgate.com/careers', 'largeFont': False, 'displaySubNavigationHorizontally': False}, {'_type': 'NavigationItem', 'current': False, 'text': 'Investors', 'type': 'ExternalLink', 'uri': 'http://investors.lionsgate.com', 'largeFont': False, 'displaySubNavigationHorizontally': False}, {'_type': 'NavigationItem', 'current': False, 'text': 'Contact', 'type': 'Section', 'uid': '00000166-9cca-d7ef-a977-fecfba930000', 'uri': 'https://www.lionsgate.com/contact', 'largeFont': False, 'displaySubNavigationHorizontally': False}, {'_type': 'NavigationItem', 'current': False, 'text': 'Sitemap', 'type': 'Section', 'uid': '00000166-d123-d9b2-ab6e-d32384490000', 'uri': 'https://www.lionsgate.com/sitemap', 'largeFont': False, 'displaySubNavigationHorizontally': False}]}]}]}], 'social': {'_type': 'SocialBar', 'items': [{'_type': 'Link', 'service': 'facebook', 'body': 'lionsgate', 'type': 'social', 'href': 'https://www.facebook.com/lionsgate'}, {'_type': 'Link', 'service': 'googleplus', 'body': 'LionsgateMovies', 'type': 'social', 'href': 'https://plus.google.com/+LionsgateMovies'}, {'_type': 'Link', 'service': 'instagram', 'body': 'lionsgate/?hl=en', 'type': 'social', 'href': 'https://www.instagram.com/lionsgate/?hl=en/'}, {'_type': 'Link', 'service': 'linkedin', 'body': 'company/lionsgate/', 'type': 'social', 'href': 'https://www.linkedin.com/company/company/lionsgate/'}, {'_type': 'Link', 'service': 'pinterest', 'body': 'lionsgatemovies/', 'type': 'social', 'href': 'https://www.pinterest.com/lionsgatemovies/'}, {'_type': 'Link', 'service': 'twitter', 'body': 'lionsgate?lang=en', 'type': 'social', 'href': 'https://twitter.com/lionsgate?lang=en'}, {'_type': 'Link', 'service': 'youtube', 'body': 'UCJ6nMHaJPZvsJ-HmUmj1SeA', 'type': 'social', 'href': 'https://www.youtube.com/channel/UCJ6nMHaJPZvsJ-HmUmj1SeA'}, {'_type': 'Link', 'service': 'snapchat', 'body': 'lionsgate', 'type': 'social', 'href': 'https://www.snapchat.com/add/lionsgate'}]}}, {'_type': 'Header', 'navigation': {'_type': 'Navigation', 'items': [{'_type': 'NavigationItem', 'current': True, 'items': [{'_type': 'List', 'items': [{'_type': 'Promo', 'canonicalUri': 'https://www.lionsgate.com/movies/john-wick-chapter-3-parabellum', 'category': 'Movies', 'categoryUri': 'https://www.lionsgate.com/movies', 'media': {'_type': 'Image', 'alt': 'john-wick-chapter-3-parabellum_movies_poster_01.jpg', 'original': {'_type': 'ImageSize', 'uri': 'https://lionsgate.brightspotcdn.com/13/bd/27c57a86432ca6b5dedf165fe997/john-wick-chapter-3-parabellum-movies-poster-01.jpg'}, 'styleImage': {'_type': 'ImageSize', 'height': 226, 'uri': 'https://lionsgate.brightspotcdn.com/dims4/default/7c2614e/2147483647/strip/true/crop/350x517+0+1/resize/153x226!/quality/90/?url=https%3A%2F%2Flionsgate.brightspotcdn.com%2F13%2Fbd%2F27c57a86432ca6b5dedf165fe997%2Fjohn-wick-chapter-3-parabellum-movies-poster-01.jpg', 'width': 153}, 'seo': {'_type': 'Seo'}}, 'promoType': 'oneOffPage', 'publishDate': 'January 15, 2019 10:00 AM', 'title': 'JOHN WICK: CHAPTER 3 - PARABELLUM', 'uid': '00000168-4f09-dc52-a77c-cf2b25030000'}, {'_type': 'Promo', 'canonicalUri': 'https://www.lionsgate.com/movies/hellboy', 'category': 'Movies', 'categoryUri': 'https://www.lionsgate.com/movies', 'description': 'Coming Soon', 'media': {'_type': 'Image', 'alt': 'hellboy_movies_poster_01.jpg', 'original': {'_type': 'ImageSize', 'uri': 'https://lionsgate.brightspotcdn.com/cc/0b/5ea2f20b4a0a9a0c250d6f22f51c/hellboy-movies-poster-01.jpg'}, 'styleImage': {'_type': 'ImageSize', 'height': 226, 'uri': 'https://lionsgate.brightspotcdn.com/dims4/default/83ac939/2147483647/strip/true/crop/350x517+0+1/resize/153x226!/quality/90/?url=https%3A%2F%2Flionsgate.brightspotcdn.com%2Fcc%2F0b%2F5ea2f20b4a0a9a0c250d6f22f51c%2Fhellboy-movies-poster-01.jpg', 'width': 153}, 'seo': {'_type': 'Seo'}}, 'promoType': 'oneOffPage', 'publishDate': 'September 20, 2018 07:59 PM', 'title': 'HELLBOY', 'uid': '00000165-f96b-d325-af7d-fb7fb3ea0000'}, {'_type': 'Promo', 'canonicalUri': 'https://www.lionsgate.com/movies/long-shot', 'category': 'Movies', 'categoryUri': 'https://www.lionsgate.com/movies', 'media': {'_type': 'Image', 'alt': 'longshot_movies_poster_01.jpg', 'original': {'_type': 'ImageSize', 'uri': 'https://lionsgate.brightspotcdn.com/18/ad/9445b6e5414ebcd0aae8a97ecee1/longshot-movies-poster-01.jpg'}, 'styleImage': {'_type': 'ImageSize', 'height': 226, 'uri': 'https://lionsgate.brightspotcdn.com/dims4/default/9943eb3/2147483647/strip/true/crop/350x517+0+1/resize/153x226!/quality/90/?url=https%3A%2F%2Flionsgate.brightspotcdn.com%2F18%2Fad%2F9445b6e5414ebcd0aae8a97ecee1%2Flongshot-movies-poster-01.jpg', 'width': 153}, 'seo': {'_type': 'Seo'}}, 'promoType': 'oneOffPage', 'publishDate': 'February 15, 2019 05:38 PM', 'title': 'LONG SHOT', 'uid': '00000168-e968-d538-a1e8-fd78eab90000'}, {'_type': 'Promo', 'canonicalUri': 'https://www.lionsgate.com/movies/cold-pursuit', 'category': 'Movies', 'categoryUri': 'https://www.lionsgate.com/movies', 'media': {'_type': 'Image', 'alt': 'Cold-Pursuit home ent_movie_poster_01.jpg', 'original': {'_type': 'ImageSize', 'uri': 'https://lionsgate.brightspotcdn.com/0d/e5/5e6fd2834b56b5465ff625f04325/cold-pursuit-home-ent-movie-poster-01.jpg'}, 'styleImage': {'_type': 'ImageSize', 'height': 226, 'uri': 'https://lionsgate.brightspotcdn.com/dims4/default/f04fba0/2147483647/strip/true/crop/350x517+0+4/resize/153x226!/quality/90/?url=https%3A%2F%2Flionsgate.brightspotcdn.com%2F0d%2Fe5%2F5e6fd2834b56b5465ff625f04325%2Fcold-pursuit-home-ent-movie-poster-01.jpg', 'width': 153}, 'seo': {'_type': 'Seo'}}, 'promoType': 'oneOffPage', 'publishDate': 'March 18, 2019 11:57 AM', 'title': 'COLD PURSUIT', 'uid': '00000169-7347-dde6-a1e9-7fc752d60000'}, {'_type': 'Promo', 'canonicalUri': 'https://www.lionsgate.com/movies/robin-hood', 'category': 'Movies', 'categoryUri': 'https://www.lionsgate.com/movies', 'media': {'_type': 'Image', 'alt': 'RobinHood_Ocard_poster_01.jpg', 'original': {'_type': 'ImageSize', 'uri': 'https://lionsgate.brightspotcdn.com/0c/12/b6efd07a4e6e8558adcb1d5fa338/robinhood-ocard-poster-01.jpg'}, 'styleImage': {'_type': 'ImageSize', 'height': 226, 'uri': 'https://lionsgate.brightspotcdn.com/dims4/default/ef7a96b/2147483647/strip/true/crop/350x517+0+2/resize/153x226!/quality/90/?url=https%3A%2F%2Flionsgate.brightspotcdn.com%2F0c%2F12%2Fb6efd07a4e6e8558adcb1d5fa338%2Frobinhood-ocard-poster-01.jpg', 'width': 153}, 'seo': {'_type': 'Seo'}}, 'promoType': 'oneOffPage', 'publishDate': 'August 16, 2018 02:12 AM', 'title': 'ROBIN HOOD', 'uid': '00000165-415c-d038-abed-e9dda4460000'}, {'_type': 'Promo', 'canonicalUri': 'https://www.lionsgate.com/movies/hunter-killer', 'category': 'Movies', 'categoryUri': 'https://www.lionsgate.com/movies', 'media': {'_type': 'Image', 'alt': 'Hunter-Killer_movies-poster-02.jpg', 'original': {'_type': 'ImageSize', 'uri': 'https://lionsgate.brightspotcdn.com/16/bb/b51e3a70457ca6a06c09a7589e7e/hunterkiller-poster-01.jpg'}, 'styleImage': {'_type': 'ImageSize', 'height': 226, 'uri': 'https://lionsgate.brightspotcdn.com/dims4/default/f62778e/2147483647/strip/true/crop/350x517+0+4/resize/153x226!/quality/90/?url=https%3A%2F%2Flionsgate.brightspotcdn.com%2F16%2Fbb%2Fb51e3a70457ca6a06c09a7589e7e%2Fhunterkiller-poster-01.jpg', 'width': 153}, 'seo': {'_type': 'Seo'}}, 'promoType': 'oneOffPage', 'publishDate': 'August 16, 2018 02:04 AM', 'title': 'HUNTER KILLER', 'uid': '00000165-4155-d038-abed-e9d5f1390000'}, {'_type': 'Promo', 'canonicalUri': 'https://www.lionsgate.com/movies/the-spy-who-dumped-me', 'category': 'Movies', 'categoryUri': 'https://www.lionsgate.com/movies', 'description': 'Now Available on Digital, Blu-Ray & DVD', 'media': {'_type': 'Image', 'alt': 'TheSpyWhoDumpedMe_Poster_01.jpg', 'original': {'_type': 'ImageSize', 'uri': 'https://lionsgate.brightspotcdn.com/74/07/68b8219a471f9e8a0e4e04fe5be8/thespywhodumpedme-poster-01.jpg'}, 'styleImage': {'_type': 'ImageSize', 'height': 226, 'uri': 'https://lionsgate.brightspotcdn.com/dims4/default/1b74b42/2147483647/strip/true/crop/350x517+0+4/resize/153x226!/quality/90/?url=https%3A%2F%2Flionsgate.brightspotcdn.com%2F74%2F07%2F68b8219a471f9e8a0e4e04fe5be8%2Fthespywhodumpedme-poster-01.jpg', 'width': 153}, 'seo': {'_type': 'Seo'}}, 'promoType': 'oneOffPage', 'publishDate': 'August 16, 2018 02:19 AM', 'title': 'THE SPY WHO DUMPED ME', 'uid': '00000165-4163-d038-abed-e9f3499a0000'}, {'_type': 'Promo', 'canonicalUri': 'https://www.lionsgate.com/movies/a-simple-favor', 'category': 'Movies', 'categoryUri': 'https://www.lionsgate.com/movies', 'media': {'_type': 'Image', 'alt': 'ASimpleFavor_poster_01.jpg', 'original': {'_type': 'ImageSize', 'uri': 'https://lionsgate.brightspotcdn.com/b4/46/937986004052aa5a2635a3332680/asimplefavor-poster-01.jpg'}, 'styleImage': {'_type': 'ImageSize', 'height': 226, 'uri': 'https://lionsgate.brightspotcdn.com/dims4/default/a0cb8a6/2147483647/strip/true/crop/350x517+0+4/resize/153x226!/quality/90/?url=https%3A%2F%2Flionsgate.brightspotcdn.com%2Fb4%2F46%2F937986004052aa5a2635a3332680%2Fasimplefavor-poster-01.jpg', 'width': 153}, 'seo': {'_type': 'Seo'}}, 'promoType': 'oneOffPage', 'publishDate': 'December 17, 2018 11:59 PM', 'title': 'A SIMPLE FAVOR', 'uid': '00000165-3a6f-d038-abed-fbff959a0000'}], 'style': 'content-tray-with-vertical-posters'}], 'text': 'Movies', 'type': 'Section', 'uid': '00000165-3a3e-d038-abed-fbbf59660000', 'uri': 'https://www.lionsgate.com/movies', 'largeFont': False, 'displaySubNavigationHorizontally': False}, {'_type': 'NavigationItem', 'current': False, 'items': [{'_type': 'List', 'items': [{'_type': 'Promo', 'canonicalUri': 'https://www.lionsgate.com/shows/selling-sunset/selling-sunset-season-1', 'media': {'_type': 'Image', 'alt': 'Selling-Sunset-Season-1_shows_poster_01.jpg', 'original': {'_type': 'ImageSize', 'uri': 'https://lionsgate.brightspotcdn.com/7d/11/be8117fe4067826069986e66d2f0/selling-sunset-season-1-shows-poster-01.jpg'}, 'styleImage': {'_type': 'ImageSize', 'height': 226, 'uri': 'https://lionsgate.brightspotcdn.com/dims4/default/65eb581/2147483647/strip/true/crop/350x517+0+4/resize/153x226!/quality/90/?url=https%3A%2F%2Flionsgate.brightspotcdn.com%2F7d%2F11%2Fbe8117fe4067826069986e66d2f0%2Fselling-sunset-season-1-shows-poster-01.jpg', 'width': 153}, 'seo': {'_type': 'Seo'}}, 'promoType': 'oneOffPage', 'publishDate': 'March 22, 2019 06:22 PM', 'title': 'SELLING SUNSET Season 1', 'uid': '00000169-91a9-dde6-a1e9-9fed005e0000'}, {'_type': 'Promo', 'canonicalUri': 'https://www.lionsgate.com/shows/step-up-high-water/step-up-high-water-season-1', 'category': 'Shows', 'categoryUri': 'https://www.lionsgate.com/shows', 'media': {'_type': 'Image', 'alt': 'StepUpHighWater_poster_01.jpg', 'original': {'_type': 'ImageSize', 'uri': 'https://lionsgate.brightspotcdn.com/06/3b/22b2de444a908230f867b74567e8/stepuphighwater-poster-01.jpg'}, 'styleImage': {'_type': 'ImageSize', 'height': 226, 'uri': 'https://lionsgate.brightspotcdn.com/dims4/default/165e83d/2147483647/strip/true/crop/350x517+0+2/resize/153x226!/quality/90/?url=https%3A%2F%2Flionsgate.brightspotcdn.com%2F06%2F3b%2F22b2de444a908230f867b74567e8%2Fstepuphighwater-poster-01.jpg', 'width': 153}, 'seo': {'_type': 'Seo'}}, 'promoType': 'oneOffPage', 'publishDate': 'October 31, 2018 04:34 PM', 'title': 'STEP UP: HIGH WATER', 'uid': '00000166-cbc6-d8ce-adfe-efff06a10001'}, {'_type': 'Promo', 'canonicalUri': 'https://www.lionsgate.com/shows/orange-is-the-new-black', 'media': {'_type': 'Image', 'alt': 'orange-is-the-new-black-season-6_shows_poster_01.jpg', 'original': {'_type': 'ImageSize', 'uri': 'https://lionsgate.brightspotcdn.com/18/90/0aacd57d4b4d9a969ae4362c9b9b/orange-is-the-new-black-season-6-shows-poster-01.jpg'}, 'styleImage': {'_type': 'ImageSize', 'height': 226, 'uri': 'https://lionsgate.brightspotcdn.com/dims4/default/357cf44/2147483647/strip/true/crop/350x517+0+2/resize/153x226!/quality/90/?url=https%3A%2F%2Flionsgate.brightspotcdn.com%2F18%2F90%2F0aacd57d4b4d9a969ae4362c9b9b%2Forange-is-the-new-black-season-6-shows-poster-01.jpg', 'width': 153}, 'seo': {'_type': 'Seo'}}, 'promoType': 'section', 'publishDate': 'August 27, 2018 04:32 PM', 'title': 'ORANGE IS THE NEW BLACK ', 'uid': '00000165-7d15-d038-abed-fd9574620000'}, {'_type': 'Promo', 'canonicalUri': 'https://www.lionsgate.com/shows/fear-the-walking-dead/fear-the-walking-dead-season-4', 'category': 'Shows', 'categoryUri': 'https://www.lionsgate.com/shows', 'media': {'_type': 'Image', 'alt': 'fear-the-walking-dead-season-4_shows_poster_01.jpg', 'original': {'_type': 'ImageSize', 'uri': 'https://lionsgate.brightspotcdn.com/51/58/7f9d294542be8a876bd63d281f1d/fear-the-walking-dead-season-4-shows-poster-01.jpg'}, 'styleImage': {'_type': 'ImageSize', 'height': 226, 'uri': 'https://lionsgate.brightspotcdn.com/dims4/default/fba09ce/2147483647/strip/true/crop/350x517+0+4/resize/153x226!/quality/90/?url=https%3A%2F%2Flionsgate.brightspotcdn.com%2F51%2F58%2F7f9d294542be8a876bd63d281f1d%2Ffear-the-walking-dead-season-4-shows-poster-01.jpg', 'width': 153}, 'seo': {'_type': 'Seo'}}, 'promoType': 'oneOffPage', 'publishDate': 'January 15, 2019 12:00 AM', 'title': 'FEAR THE WALKING DEAD Season 4', 'uid': '00000167-d2b8-d41e-a567-defa2edc0001'}, {'_type': 'Promo', 'canonicalUri': 'https://www.lionsgate.com/shows/dear-white-people/dear-white-people-season-2', 'category': 'DEAR WHITE PEOPLE', 'categoryUri': 'https://www.lionsgate.com/shows/dear-white-people', 'media': {'_type': 'Image', 'alt': 'DWPS2_poster.jpg', 'original': {'_type': 'ImageSize', 'uri': 'https://lionsgate.brightspotcdn.com/69/62/d221349a488882faa262991c7e2a/dwps2-poster.jpg'}, 'styleImage': {'_type': 'ImageSize', 'height': 226, 'uri': 'https://lionsgate.brightspotcdn.com/dims4/default/263e31b/2147483647/strip/true/crop/350x517+0+2/resize/153x226!/quality/90/?url=https%3A%2F%2Flionsgate.brightspotcdn.com%2F69%2F62%2Fd221349a488882faa262991c7e2a%2Fdwps2-poster.jpg', 'width': 153}, 'seo': {'_type': 'Seo'}}, 'promoType': 'oneOffPage', 'publishDate': 'August 27, 2018 05:48 PM', 'title': 'DEAR WHITE PEOPLE Season 2', 'uid': '00000165-7d5b-d038-abed-fddb4eed0000'}, {'_type': 'Promo', 'canonicalUri': 'https://www.lionsgate.com/shows/greenleaf', 'media': {'_type': 'Image', 'alt': 'greenleaf-season-3_shows_poster_01.jpg', 'original': {'_type': 'ImageSize', 'uri': 'https://lionsgate.brightspotcdn.com/04/50/9ef174a64f09a4438a6bc34fb3a6/greenleaf-season-3-shows-poster-01.jpg'}, 'styleImage': {'_type': 'ImageSize', 'height': 226, 'uri': 'https://lionsgate.brightspotcdn.com/dims4/default/575ecef/2147483647/strip/true/crop/350x517+0+2/resize/153x226!/quality/90/?url=https%3A%2F%2Flionsgate.brightspotcdn.com%2F04%2F50%2F9ef174a64f09a4438a6bc34fb3a6%2Fgreenleaf-season-3-shows-poster-01.jpg', 'width': 153}, 'seo': {'_type': 'Seo'}}, 'promoType': 'section', 'publishDate': 'August 27, 2018 05:52 PM', 'title': 'GREENLEAF', 'uid': '00000165-7d5d-d038-abed-fddd23580000'}], 'style': 'content-tray-with-vertical-posters'}], 'text': 'Shows', 'type': 'Section', 'uid': '00000165-3a3f-d038-abed-fbbf38c70000', 'uri': 'https://www.lionsgate.com/shows', 'largeFont': False, 'displaySubNavigationHorizontally': False}, {'_type': 'NavigationItem', 'current': False, 'text': 'STARZ', 'type': 'Section', 'uid': '00000165-7dde-d038-abed-fddf3f130000', 'uri': 'https://www.lionsgate.com/channels/starz', 'largeFont': False, 'displaySubNavigationHorizontally': False}, {'_type': 'NavigationItem', 'current': False, 'text': 'Games', 'type': 'Section', 'uid': '00000165-3a3f-d038-abed-fbbfe63b0000', 'uri': 'https://www.lionsgate.com/games', 'largeFont': False, 'displaySubNavigationHorizontally': False}, {'_type': 'NavigationItem', 'current': False, 'text': 'Channels', 'type': 'Section', 'uid': '00000165-3a3f-d038-abed-fbbf69400000', 'uri': 'https://www.lionsgate.com/channels', 'largeFont': False, 'displaySubNavigationHorizontally': False}]}, 'menu': {'_type': 'Navigation', 'items': [{'_type': 'NavigationItem', 'current': True, 'items': [{'_type': 'List', 'items': [{'_type': 'Promo', 'canonicalUri': 'https://www.lionsgate.com/movies/john-wick-chapter-3-parabellum', 'category': 'Movies', 'categoryUri': 'https://www.lionsgate.com/movies', 'media': {'_type': 'Image', 'alt': 'john-wick-chapter-3-parabellum_movies_poster_01.jpg', 'original': {'_type': 'ImageSize', 'uri': 'https://lionsgate.brightspotcdn.com/13/bd/27c57a86432ca6b5dedf165fe997/john-wick-chapter-3-parabellum-movies-poster-01.jpg'}, 'styleImage': {'_type': 'ImageSize', 'height': 226, 'uri': 'https://lionsgate.brightspotcdn.com/dims4/default/7c2614e/2147483647/strip/true/crop/350x517+0+1/resize/153x226!/quality/90/?url=https%3A%2F%2Flionsgate.brightspotcdn.com%2F13%2Fbd%2F27c57a86432ca6b5dedf165fe997%2Fjohn-wick-chapter-3-parabellum-movies-poster-01.jpg', 'width': 153}, 'seo': {'_type': 'Seo'}}, 'promoType': 'oneOffPage', 'publishDate': 'January 15, 2019 10:00 AM', 'title': 'JOHN WICK: CHAPTER 3 - PARABELLUM', 'uid': '00000168-4f09-dc52-a77c-cf2b25030000'}, {'_type': 'Promo', 'canonicalUri': 'https://www.lionsgate.com/movies/hellboy', 'category': 'Movies', 'categoryUri': 'https://www.lionsgate.com/movies', 'description': 'Coming Soon', 'media': {'_type': 'Image', 'alt': 'hellboy_movies_poster_01.jpg', 'original': {'_type': 'ImageSize', 'uri': 'https://lionsgate.brightspotcdn.com/cc/0b/5ea2f20b4a0a9a0c250d6f22f51c/hellboy-movies-poster-01.jpg'}, 'styleImage': {'_type': 'ImageSize', 'height': 226, 'uri': 'https://lionsgate.brightspotcdn.com/dims4/default/83ac939/2147483647/strip/true/crop/350x517+0+1/resize/153x226!/quality/90/?url=https%3A%2F%2Flionsgate.brightspotcdn.com%2Fcc%2F0b%2F5ea2f20b4a0a9a0c250d6f22f51c%2Fhellboy-movies-poster-01.jpg', 'width': 153}, 'seo': {'_type': 'Seo'}}, 'promoType': 'oneOffPage', 'publishDate': 'September 20, 2018 07:59 PM', 'title': 'HELLBOY', 'uid': '00000165-f96b-d325-af7d-fb7fb3ea0000'}, {'_type': 'Promo', 'canonicalUri': 'https://www.lionsgate.com/movies/long-shot', 'category': 'Movies', 'categoryUri': 'https://www.lionsgate.com/movies', 'media': {'_type': 'Image', 'alt': 'longshot_movies_poster_01.jpg', 'original': {'_type': 'ImageSize', 'uri': 'https://lionsgate.brightspotcdn.com/18/ad/9445b6e5414ebcd0aae8a97ecee1/longshot-movies-poster-01.jpg'}, 'styleImage': {'_type': 'ImageSize', 'height': 226, 'uri': 'https://lionsgate.brightspotcdn.com/dims4/default/9943eb3/2147483647/strip/true/crop/350x517+0+1/resize/153x226!/quality/90/?url=https%3A%2F%2Flionsgate.brightspotcdn.com%2F18%2Fad%2F9445b6e5414ebcd0aae8a97ecee1%2Flongshot-movies-poster-01.jpg', 'width': 153}, 'seo': {'_type': 'Seo'}}, 'promoType': 'oneOffPage', 'publishDate': 'February 15, 2019 05:38 PM', 'title': 'LONG SHOT', 'uid': '00000168-e968-d538-a1e8-fd78eab90000'}, {'_type': 'Promo', 'canonicalUri': 'https://www.lionsgate.com/movies/cold-pursuit', 'category': 'Movies', 'categoryUri': 'https://www.lionsgate.com/movies', 'media': {'_type': 'Image', 'alt': 'Cold-Pursuit home ent_movie_poster_01.jpg', 'original': {'_type': 'ImageSize', 'uri': 'https://lionsgate.brightspotcdn.com/0d/e5/5e6fd2834b56b5465ff625f04325/cold-pursuit-home-ent-movie-poster-01.jpg'}, 'styleImage': {'_type': 'ImageSize', 'height': 226, 'uri': 'https://lionsgate.brightspotcdn.com/dims4/default/f04fba0/2147483647/strip/true/crop/350x517+0+4/resize/153x226!/quality/90/?url=https%3A%2F%2Flionsgate.brightspotcdn.com%2F0d%2Fe5%2F5e6fd2834b56b5465ff625f04325%2Fcold-pursuit-home-ent-movie-poster-01.jpg', 'width': 153}, 'seo': {'_type': 'Seo'}}, 'promoType': 'oneOffPage', 'publishDate': 'March 18, 2019 11:57 AM', 'title': 'COLD PURSUIT', 'uid': '00000169-7347-dde6-a1e9-7fc752d60000'}, {'_type': 'Promo', 'canonicalUri': 'https://www.lionsgate.com/movies/robin-hood', 'category': 'Movies', 'categoryUri': 'https://www.lionsgate.com/movies', 'media': {'_type': 'Image', 'alt': 'RobinHood_Ocard_poster_01.jpg', 'original': {'_type': 'ImageSize', 'uri': 'https://lionsgate.brightspotcdn.com/0c/12/b6efd07a4e6e8558adcb1d5fa338/robinhood-ocard-poster-01.jpg'}, 'styleImage': {'_type': 'ImageSize', 'height': 226, 'uri': 'https://lionsgate.brightspotcdn.com/dims4/default/ef7a96b/2147483647/strip/true/crop/350x517+0+2/resize/153x226!/quality/90/?url=https%3A%2F%2Flionsgate.brightspotcdn.com%2F0c%2F12%2Fb6efd07a4e6e8558adcb1d5fa338%2Frobinhood-ocard-poster-01.jpg', 'width': 153}, 'seo': {'_type': 'Seo'}}, 'promoType': 'oneOffPage', 'publishDate': 'August 16, 2018 02:12 AM', 'title': 'ROBIN HOOD', 'uid': '00000165-415c-d038-abed-e9dda4460000'}, {'_type': 'Promo', 'canonicalUri': 'https://www.lionsgate.com/movies/hunter-killer', 'category': 'Movies', 'categoryUri': 'https://www.lionsgate.com/movies', 'media': {'_type': 'Image', 'alt': 'Hunter-Killer_movies-poster-02.jpg', 'original': {'_type': 'ImageSize', 'uri': 'https://lionsgate.brightspotcdn.com/16/bb/b51e3a70457ca6a06c09a7589e7e/hunterkiller-poster-01.jpg'}, 'styleImage': {'_type': 'ImageSize', 'height': 226, 'uri': 'https://lionsgate.brightspotcdn.com/dims4/default/f62778e/2147483647/strip/true/crop/350x517+0+4/resize/153x226!/quality/90/?url=https%3A%2F%2Flionsgate.brightspotcdn.com%2F16%2Fbb%2Fb51e3a70457ca6a06c09a7589e7e%2Fhunterkiller-poster-01.jpg', 'width': 153}, 'seo': {'_type': 'Seo'}}, 'promoType': 'oneOffPage', 'publishDate': 'August 16, 2018 02:04 AM', 'title': 'HUNTER KILLER', 'uid': '00000165-4155-d038-abed-e9d5f1390000'}, {'_type': 'Promo', 'canonicalUri': 'https://www.lionsgate.com/movies/the-spy-who-dumped-me', 'category': 'Movies', 'categoryUri': 'https://www.lionsgate.com/movies', 'description': 'Now Available on Digital, Blu-Ray & DVD', 'media': {'_type': 'Image', 'alt': 'TheSpyWhoDumpedMe_Poster_01.jpg', 'original': {'_type': 'ImageSize', 'uri': 'https://lionsgate.brightspotcdn.com/74/07/68b8219a471f9e8a0e4e04fe5be8/thespywhodumpedme-poster-01.jpg'}, 'styleImage': {'_type': 'ImageSize', 'height': 226, 'uri': 'https://lionsgate.brightspotcdn.com/dims4/default/1b74b42/2147483647/strip/true/crop/350x517+0+4/resize/153x226!/quality/90/?url=https%3A%2F%2Flionsgate.brightspotcdn.com%2F74%2F07%2F68b8219a471f9e8a0e4e04fe5be8%2Fthespywhodumpedme-poster-01.jpg', 'width': 153}, 'seo': {'_type': 'Seo'}}, 'promoType': 'oneOffPage', 'publishDate': 'August 16, 2018 02:19 AM', 'title': 'THE SPY WHO DUMPED ME', 'uid': '00000165-4163-d038-abed-e9f3499a0000'}, {'_type': 'Promo', 'canonicalUri': 'https://www.lionsgate.com/movies/a-simple-favor', 'category': 'Movies', 'categoryUri': 'https://www.lionsgate.com/movies', 'media': {'_type': 'Image', 'alt': 'ASimpleFavor_poster_01.jpg', 'original': {'_type': 'ImageSize', 'uri': 'https://lionsgate.brightspotcdn.com/b4/46/937986004052aa5a2635a3332680/asimplefavor-poster-01.jpg'}, 'styleImage': {'_type': 'ImageSize', 'height': 226, 'uri': 'https://lionsgate.brightspotcdn.com/dims4/default/a0cb8a6/2147483647/strip/true/crop/350x517+0+4/resize/153x226!/quality/90/?url=https%3A%2F%2Flionsgate.brightspotcdn.com%2Fb4%2F46%2F937986004052aa5a2635a3332680%2Fasimplefavor-poster-01.jpg', 'width': 153}, 'seo': {'_type': 'Seo'}}, 'promoType': 'oneOffPage', 'publishDate': 'December 17, 2018 11:59 PM', 'title': 'A SIMPLE FAVOR', 'uid': '00000165-3a6f-d038-abed-fbff959a0000'}], 'style': 'content-tray-with-vertical-posters'}], 'text': 'Movies', 'type': 'Section', 'uid': '00000165-3a3e-d038-abed-fbbf59660000', 'uri': 'https://www.lionsgate.com/movies', 'largeFont': False, 'displaySubNavigationHorizontally': False}, {'_type': 'NavigationItem', 'current': False, 'items': [{'_type': 'List', 'items': [{'_type': 'Promo', 'canonicalUri': 'https://www.lionsgate.com/shows/selling-sunset/selling-sunset-season-1', 'media': {'_type': 'Image', 'alt': 'Selling-Sunset-Season-1_shows_poster_01.jpg', 'original': {'_type': 'ImageSize', 'uri': 'https://lionsgate.brightspotcdn.com/7d/11/be8117fe4067826069986e66d2f0/selling-sunset-season-1-shows-poster-01.jpg'}, 'styleImage': {'_type': 'ImageSize', 'height': 226, 'uri': 'https://lionsgate.brightspotcdn.com/dims4/default/65eb581/2147483647/strip/true/crop/350x517+0+4/resize/153x226!/quality/90/?url=https%3A%2F%2Flionsgate.brightspotcdn.com%2F7d%2F11%2Fbe8117fe4067826069986e66d2f0%2Fselling-sunset-season-1-shows-poster-01.jpg', 'width': 153}, 'seo': {'_type': 'Seo'}}, 'promoType': 'oneOffPage', 'publishDate': 'March 22, 2019 06:22 PM', 'title': 'SELLING SUNSET Season 1', 'uid': '00000169-91a9-dde6-a1e9-9fed005e0000'}, {'_type': 'Promo', 'canonicalUri': 'https://www.lionsgate.com/shows/step-up-high-water/step-up-high-water-season-1', 'category': 'Shows', 'categoryUri': 'https://www.lionsgate.com/shows', 'media': {'_type': 'Image', 'alt': 'StepUpHighWater_poster_01.jpg', 'original': {'_type': 'ImageSize', 'uri': 'https://lionsgate.brightspotcdn.com/06/3b/22b2de444a908230f867b74567e8/stepuphighwater-poster-01.jpg'}, 'styleImage': {'_type': 'ImageSize', 'height': 226, 'uri': 'https://lionsgate.brightspotcdn.com/dims4/default/165e83d/2147483647/strip/true/crop/350x517+0+2/resize/153x226!/quality/90/?url=https%3A%2F%2Flionsgate.brightspotcdn.com%2F06%2F3b%2F22b2de444a908230f867b74567e8%2Fstepuphighwater-poster-01.jpg', 'width': 153}, 'seo': {'_type': 'Seo'}}, 'promoType': 'oneOffPage', 'publishDate': 'October 31, 2018 04:34 PM', 'title': 'STEP UP: HIGH WATER', 'uid': '00000166-cbc6-d8ce-adfe-efff06a10001'}, {'_type': 'Promo', 'canonicalUri': 'https://www.lionsgate.com/shows/orange-is-the-new-black', 'media': {'_type': 'Image', 'alt': 'orange-is-the-new-black-season-6_shows_poster_01.jpg', 'original': {'_type': 'ImageSize', 'uri': 'https://lionsgate.brightspotcdn.com/18/90/0aacd57d4b4d9a969ae4362c9b9b/orange-is-the-new-black-season-6-shows-poster-01.jpg'}, 'styleImage': {'_type': 'ImageSize', 'height': 226, 'uri': 'https://lionsgate.brightspotcdn.com/dims4/default/357cf44/2147483647/strip/true/crop/350x517+0+2/resize/153x226!/quality/90/?url=https%3A%2F%2Flionsgate.brightspotcdn.com%2F18%2F90%2F0aacd57d4b4d9a969ae4362c9b9b%2Forange-is-the-new-black-season-6-shows-poster-01.jpg', 'width': 153}, 'seo': {'_type': 'Seo'}}, 'promoType': 'section', 'publishDate': 'August 27, 2018 04:32 PM', 'title': 'ORANGE IS THE NEW BLACK ', 'uid': '00000165-7d15-d038-abed-fd9574620000'}, {'_type': 'Promo', 'canonicalUri': 'https://www.lionsgate.com/shows/fear-the-walking-dead/fear-the-walking-dead-season-4', 'category': 'Shows', 'categoryUri': 'https://www.lionsgate.com/shows', 'media': {'_type': 'Image', 'alt': 'fear-the-walking-dead-season-4_shows_poster_01.jpg', 'original': {'_type': 'ImageSize', 'uri': 'https://lionsgate.brightspotcdn.com/51/58/7f9d294542be8a876bd63d281f1d/fear-the-walking-dead-season-4-shows-poster-01.jpg'}, 'styleImage': {'_type': 'ImageSize', 'height': 226, 'uri': 'https://lionsgate.brightspotcdn.com/dims4/default/fba09ce/2147483647/strip/true/crop/350x517+0+4/resize/153x226!/quality/90/?url=https%3A%2F%2Flionsgate.brightspotcdn.com%2F51%2F58%2F7f9d294542be8a876bd63d281f1d%2Ffear-the-walking-dead-season-4-shows-poster-01.jpg', 'width': 153}, 'seo': {'_type': 'Seo'}}, 'promoType': 'oneOffPage', 'publishDate': 'January 15, 2019 12:00 AM', 'title': 'FEAR THE WALKING DEAD Season 4', 'uid': '00000167-d2b8-d41e-a567-defa2edc0001'}, {'_type': 'Promo', 'canonicalUri': 'https://www.lionsgate.com/shows/dear-white-people/dear-white-people-season-2', 'category': 'DEAR WHITE PEOPLE', 'categoryUri': 'https://www.lionsgate.com/shows/dear-white-people', 'media': {'_type': 'Image', 'alt': 'DWPS2_poster.jpg', 'original': {'_type': 'ImageSize', 'uri': 'https://lionsgate.brightspotcdn.com/69/62/d221349a488882faa262991c7e2a/dwps2-poster.jpg'}, 'styleImage': {'_type': 'ImageSize', 'height': 226, 'uri': 'https://lionsgate.brightspotcdn.com/dims4/default/263e31b/2147483647/strip/true/crop/350x517+0+2/resize/153x226!/quality/90/?url=https%3A%2F%2Flionsgate.brightspotcdn.com%2F69%2F62%2Fd221349a488882faa262991c7e2a%2Fdwps2-poster.jpg', 'width': 153}, 'seo': {'_type': 'Seo'}}, 'promoType': 'oneOffPage', 'publishDate': 'August 27, 2018 05:48 PM', 'title': 'DEAR WHITE PEOPLE Season 2', 'uid': '00000165-7d5b-d038-abed-fddb4eed0000'}, {'_type': 'Promo', 'canonicalUri': 'https://www.lionsgate.com/shows/greenleaf', 'media': {'_type': 'Image', 'alt': 'greenleaf-season-3_shows_poster_01.jpg', 'original': {'_type': 'ImageSize', 'uri': 'https://lionsgate.brightspotcdn.com/04/50/9ef174a64f09a4438a6bc34fb3a6/greenleaf-season-3-shows-poster-01.jpg'}, 'styleImage': {'_type': 'ImageSize', 'height': 226, 'uri': 'https://lionsgate.brightspotcdn.com/dims4/default/575ecef/2147483647/strip/true/crop/350x517+0+2/resize/153x226!/quality/90/?url=https%3A%2F%2Flionsgate.brightspotcdn.com%2F04%2F50%2F9ef174a64f09a4438a6bc34fb3a6%2Fgreenleaf-season-3-shows-poster-01.jpg', 'width': 153}, 'seo': {'_type': 'Seo'}}, 'promoType': 'section', 'publishDate': 'August 27, 2018 05:52 PM', 'title': 'GREENLEAF', 'uid': '00000165-7d5d-d038-abed-fddd23580000'}], 'style': 'content-tray-with-vertical-posters'}], 'text': 'Shows', 'type': 'Section', 'uid': '00000165-3a3f-d038-abed-fbbf38c70000', 'uri': 'https://www.lionsgate.com/shows', 'largeFont': False, 'displaySubNavigationHorizontally': False}, {'_type': 'NavigationItem', 'current': False, 'text': 'STARZ', 'type': 'Section', 'uid': '00000165-7dde-d038-abed-fddf3f130000', 'uri': 'https://www.lionsgate.com/channels/starz', 'largeFont': False, 'displaySubNavigationHorizontally': False}, {'_type': 'NavigationItem', 'current': False, 'text': 'Games', 'type': 'Section', 'uid': '00000165-3a3f-d038-abed-fbbfe63b0000', 'uri': 'https://www.lionsgate.com/games', 'largeFont': False, 'displaySubNavigationHorizontally': False}, {'_type': 'NavigationItem', 'current': False, 'text': 'Channels', 'type': 'Section', 'uid': '00000165-3a3f-d038-abed-fbbf69400000', 'uri': 'https://www.lionsgate.com/channels', 'largeFont': False, 'displaySubNavigationHorizontally': False}]}, 'searchUri': 'https://www.lionsgate.com/search', 'social': {'_type': 'SocialBar', 'items': [{'_type': 'Link', 'service': 'facebook', 'body': 'lionsgate', 'type': 'social', 'href': 'https://www.facebook.com/lionsgate'}, {'_type': 'Link', 'service': 'googleplus', 'body': 'LionsgateMovies', 'type': 'social', 'href': 'https://plus.google.com/+LionsgateMovies'}, {'_type': 'Link', 'service': 'instagram', 'body': 'lionsgate/?hl=en', 'type': 'social', 'href': 'https://www.instagram.com/lionsgate/?hl=en/'}, {'_type': 'Link', 'service': 'linkedin', 'body': 'company/lionsgate/', 'type': 'social', 'href': 'https://www.linkedin.com/company/company/lionsgate/'}, {'_type': 'Link', 'service': 'pinterest', 'body': 'lionsgatemovies/', 'type': 'social', 'href': 'https://www.pinterest.com/lionsgatemovies/'}, {'_type': 'Link', 'service': 'twitter', 'body': 'lionsgate?lang=en', 'type': 'social', 'href': 'https://twitter.com/lionsgate?lang=en'}, {'_type': 'Link', 'service': 'youtube', 'body': 'UCJ6nMHaJPZvsJ-HmUmj1SeA', 'type': 'social', 'href': 'https://www.youtube.com/channel/UCJ6nMHaJPZvsJ-HmUmj1SeA'}, {'_type': 'Link', 'service': 'snapchat', 'body': 'lionsgate', 'type': 'social', 'href': 'https://www.snapchat.com/add/lionsgate'}]}, 'newsletterIcon': {'_type': 'NewsletterIcon', 'icon': {'_type': 'Image', 'original': {'_type': 'ImageSize', 'uri': 'https://lionsgate.brightspotcdn.com/5b/1e/8036fd394a2f84993b353b6e7013/icon-mail.png'}, 'styleImage': {'_type': 'ImageSize', 'uri': 'https://lionsgate.brightspotcdn.com/5b/1e/8036fd394a2f84993b353b6e7013/icon-mail.png'}, 'seo': {'_type': 'Seo'}}}, 'shopIcon': {'_type': 'ShopIcon', 'icon': {'_type': 'Image', 'original': {'_type': 'ImageSize', 'uri': 'https://lionsgate.brightspotcdn.com/3e/b5/c3b4dce3475b906141eb8921216c/icon-shop.png'}, 'styleImage': {'_type': 'ImageSize', 'uri': 'https://lionsgate.brightspotcdn.com/3e/b5/c3b4dce3475b906141eb8921216c/icon-shop.png'}, 'seo': {'_type': 'Seo'}}, 'url': {'_type': 'ExternalLink', 'url': 'https://www.shoplionsgate.com/store/'}}}, 'Movies', {'_type': 'Seo', 'description': \"Lionsgate's Motion Picture Group encompasses eight film labels and more than 40 feature film releases a year. In addition to wide releases from its Lionsgate and Summit Entertainment labels, the Company's film business includes: Pantelion Films, Codeblack Films, Roadside Attractions, and the Lionsgate UK film & television production and distribution company.\", 'keywords': 'box office,motion picture,movie,international ,VOD,cinema,film,movies ,film label,SVOD', 'title': 'Movies | Lionsgate'}, {'_type': 'OpenGraphMeta', 'og:title': 'Movies', 'og:url': 'https://www.lionsgate.com/movies', 'og:images': [{'_type': 'OpenGraphImageMeta', 'og:image:type': 'image'}]}, 200, '00000165-3a3e-d038-abed-fbbf59660000', 'UA-127522833-1', 'lionsgate.com/movies', 'GTM-T9Q8QNQ'])\n"
     ]
    }
   ],
   "source": [
    "import pandas as pd\n",
    "import requests\n",
    "from bs4 import BeautifulSoup\n",
    "\n",
    "URL = 'https://www.lionsgate.com/movies?_api=true'\n",
    "response = requests.get(URL)\n",
    "print(response.json().values())"
   ]
  },
  {
   "cell_type": "code",
   "execution_count": 65,
   "metadata": {},
   "outputs": [
    {
     "name": "stdout",
     "output_type": "stream",
     "text": [
      "<class 'list'>\n",
      "<class 'dict'>\n"
     ]
    }
   ],
   "source": [
    "# Type -> list\n",
    "content_lg = response.json()['content']\n",
    "print(type(content_lg))\n",
    "\n",
    "# Type -> dict\n",
    "header_lg =  response.json()['header']\n",
    "print(type(header_lg))"
   ]
  },
  {
   "cell_type": "code",
   "execution_count": 66,
   "metadata": {},
   "outputs": [
    {
     "name": "stdout",
     "output_type": "stream",
     "text": [
      "15\n"
     ]
    }
   ],
   "source": [
    "# Strip content list of movie details... Net = list of dicts w/len of 15\n",
    "movies_list = []\n",
    "for l in content_lg:\n",
    "    movies_list.append(l['items'])\n",
    "\n",
    "print(len(movies_list))"
   ]
  },
  {
   "cell_type": "code",
   "execution_count": 67,
   "metadata": {},
   "outputs": [
    {
     "name": "stdout",
     "output_type": "stream",
     "text": [
      "[{'_type': 'Promo', 'canonicalUri': 'https://www.lionsgate.com/movies/hellboy', 'category': 'Movies', 'categoryUri': 'https://www.lionsgate.com/movies', 'description': 'Get Tickets Now!', 'media': {'_type': 'Image', 'alt': 'hellboy_movies_promo_grid_widefeature_01.jpg', 'original': {'_type': 'ImageSize', 'uri': 'https://lionsgate.brightspotcdn.com/3e/c2/3f65e9ca433e931b5c98ddeb697c/hellboy-movies-promo-grid-widefeature-01.jpg'}, 'overlayVideo': {'_type': 'VideoPlayer', 'metadata': {'_type': 'VideoMetadata', 'sources': [{'_type': 'VideoSource', 'uri': 'https://lionsgate.brightspotcdn.com/09/7a/d45433b244d9a6e2ba91f0534ffa/hellboy-trailer-home-promo-widefeature-video-01.mp4', 'type': 'video/mp4'}]}, 'options': {'_type': 'VideoPlayerOptions'}, 'playerId': 'fe3044184054b4521b4e4534c6b4c4a2a', 'provider': 'html5', 'videoId': 's3:09/7a/d45433b244d9a6e2ba91f0534ffa/hellboy-trailer-home-promo-widefeature-video-01.mp4', 'videoTitle': 'hellboy_trailer_home_promo_widefeature_video_01.mp4'}, 'styleImage': {'_type': 'ImageSize', 'height': 466, 'uri': 'https://lionsgate.brightspotcdn.com/dims4/default/e7c8216/2147483647/strip/true/crop/713x480+0+0/resize/692x466!/quality/90/?url=https%3A%2F%2Flionsgate.brightspotcdn.com%2F3e%2Fc2%2F3f65e9ca433e931b5c98ddeb697c%2Fhellboy-movies-promo-grid-widefeature-01.jpg', 'width': 692}, 'seo': {'_type': 'Seo'}}, 'promoType': 'oneOffPage', 'publishDate': 'September 20, 2018 07:59 PM', 'title': 'Hellboy', 'uid': '00000165-f96b-d325-af7d-fb7fb3ea0000'}, {'_type': 'Promo', 'canonicalUri': 'https://www.lionsgate.com/movies/long-shot', 'category': 'Movies', 'categoryUri': 'https://www.lionsgate.com/movies', 'description': 'In Theaters May 3', 'media': {'_type': 'Image', 'alt': 'longshot_movies_promo_grid_widefeature_01.jpg', 'original': {'_type': 'ImageSize', 'uri': 'https://lionsgate.brightspotcdn.com/b9/f2/0dab9ccb403cac33d67194899ab8/longshot-movies-promo-grid-widefeature-01.jpg'}, 'overlayVideo': {'_type': 'VideoPlayer', 'metadata': {'_type': 'VideoMetadata', 'sources': [{'_type': 'VideoSource', 'uri': 'https://lionsgate.brightspotcdn.com/9e/12/fd304603469c80d784b73c9fc54f/long-shot-home-promo-widefeature-video-01.mp4', 'type': 'video/mp4'}]}, 'options': {'_type': 'VideoPlayerOptions'}, 'playerId': 'f953d519ef7c0431289c68fcb97699a9b', 'provider': 'html5', 'videoId': 's3:9e/12/fd304603469c80d784b73c9fc54f/long-shot-home-promo-widefeature-video-01.mp4', 'videoTitle': 'long-shot_home_promo_widefeature_video_01.mp4'}, 'styleImage': {'_type': 'ImageSize', 'height': 466, 'uri': 'https://lionsgate.brightspotcdn.com/dims4/default/1cca261/2147483647/strip/true/crop/713x480+0+0/resize/692x466!/quality/90/?url=https%3A%2F%2Flionsgate.brightspotcdn.com%2Fb9%2Ff2%2F0dab9ccb403cac33d67194899ab8%2Flongshot-movies-promo-grid-widefeature-01.jpg', 'width': 692}, 'seo': {'_type': 'Seo'}}, 'promoType': 'oneOffPage', 'publishDate': 'February 15, 2019 05:38 PM', 'title': 'Long Shot ', 'uid': '00000168-e968-d538-a1e8-fd78eab90000'}]\n"
     ]
    }
   ],
   "source": [
    "print(movies_list[0])"
   ]
  },
  {
   "cell_type": "code",
   "execution_count": 82,
   "metadata": {},
   "outputs": [
    {
     "name": "stdout",
     "output_type": "stream",
     "text": [
      "15\n",
      "19\n"
     ]
    }
   ],
   "source": [
    "# Unpack Header Data to reach Movie Details w/n 'items'\n",
    "# c = 0\n",
    "print(len(movies_list))\n",
    "\n",
    "for k, v in header_lg.items():\n",
    "    if isinstance(v, dict):\n",
    "        for m, d in v.items():\n",
    "            if isinstance(d, list):\n",
    "                for r in d:\n",
    "                    if isinstance(r, dict):\n",
    "                        if isinstance(r.get('items'), list):\n",
    "                            for e in r['items']:\n",
    "                                if isinstance(e, dict):\n",
    "                                    movies_list.append(e.get('items'))\n",
    "    \n",
    "print(len(movies_list))   \n",
    "#     print(c)\n",
    "#     print(type(k))\n",
    "#     print(k)\n",
    "#     print(type(v))\n",
    "#     print(v)\n",
    "#     print('\\n\\n')\n",
    "#     c += 1"
   ]
  },
  {
   "cell_type": "code",
   "execution_count": 94,
   "metadata": {},
   "outputs": [
    {
     "name": "stdout",
     "output_type": "stream",
     "text": [
      "201\n"
     ]
    }
   ],
   "source": [
    "#Create final clean list of movie dictionaries\n",
    "final_movie_list = []\n",
    "c = 0\n",
    "for m in movies_list:\n",
    "    for i in m:\n",
    "        if isinstance(i, dict):\n",
    "            final_movie_list.append(i)\n",
    "            \n",
    "print(len(final_movie_list))"
   ]
  },
  {
   "cell_type": "code",
   "execution_count": 98,
   "metadata": {},
   "outputs": [
    {
     "name": "stdout",
     "output_type": "stream",
     "text": [
      "(201, 13)\n"
     ]
    },
    {
     "data": {
      "text/html": [
       "<div>\n",
       "<style scoped>\n",
       "    .dataframe tbody tr th:only-of-type {\n",
       "        vertical-align: middle;\n",
       "    }\n",
       "\n",
       "    .dataframe tbody tr th {\n",
       "        vertical-align: top;\n",
       "    }\n",
       "\n",
       "    .dataframe thead th {\n",
       "        text-align: right;\n",
       "    }\n",
       "</style>\n",
       "<table border=\"1\" class=\"dataframe\">\n",
       "  <thead>\n",
       "    <tr style=\"text-align: right;\">\n",
       "      <th></th>\n",
       "      <th>_type</th>\n",
       "      <th>canonicalUri</th>\n",
       "      <th>category</th>\n",
       "      <th>categoryUri</th>\n",
       "      <th>description</th>\n",
       "      <th>duration</th>\n",
       "      <th>media</th>\n",
       "      <th>promoType</th>\n",
       "      <th>provider</th>\n",
       "      <th>publishDate</th>\n",
       "      <th>title</th>\n",
       "      <th>uid</th>\n",
       "      <th>videoId</th>\n",
       "    </tr>\n",
       "  </thead>\n",
       "  <tbody>\n",
       "    <tr>\n",
       "      <th>0</th>\n",
       "      <td>Promo</td>\n",
       "      <td>https://www.lionsgate.com/movies/hellboy</td>\n",
       "      <td>Movies</td>\n",
       "      <td>https://www.lionsgate.com/movies</td>\n",
       "      <td>Get Tickets Now!</td>\n",
       "      <td>NaN</td>\n",
       "      <td>{'_type': 'Image', 'alt': 'hellboy_movies_prom...</td>\n",
       "      <td>oneOffPage</td>\n",
       "      <td>NaN</td>\n",
       "      <td>September 20, 2018 07:59 PM</td>\n",
       "      <td>Hellboy</td>\n",
       "      <td>00000165-f96b-d325-af7d-fb7fb3ea0000</td>\n",
       "      <td>NaN</td>\n",
       "    </tr>\n",
       "    <tr>\n",
       "      <th>1</th>\n",
       "      <td>Promo</td>\n",
       "      <td>https://www.lionsgate.com/movies/long-shot</td>\n",
       "      <td>Movies</td>\n",
       "      <td>https://www.lionsgate.com/movies</td>\n",
       "      <td>In Theaters May 3</td>\n",
       "      <td>NaN</td>\n",
       "      <td>{'_type': 'Image', 'alt': 'longshot_movies_pro...</td>\n",
       "      <td>oneOffPage</td>\n",
       "      <td>NaN</td>\n",
       "      <td>February 15, 2019 05:38 PM</td>\n",
       "      <td>Long Shot</td>\n",
       "      <td>00000168-e968-d538-a1e8-fd78eab90000</td>\n",
       "      <td>NaN</td>\n",
       "    </tr>\n",
       "    <tr>\n",
       "      <th>2</th>\n",
       "      <td>Promo</td>\n",
       "      <td>https://www.lionsgate.com/movies/hellboy</td>\n",
       "      <td>Movies</td>\n",
       "      <td>https://www.lionsgate.com/movies</td>\n",
       "      <td>Coming Soon</td>\n",
       "      <td>NaN</td>\n",
       "      <td>{'_type': 'Image', 'alt': 'hellboy_movies_post...</td>\n",
       "      <td>oneOffPage</td>\n",
       "      <td>NaN</td>\n",
       "      <td>September 20, 2018 07:59 PM</td>\n",
       "      <td>HELLBOY</td>\n",
       "      <td>00000165-f96b-d325-af7d-fb7fb3ea0000</td>\n",
       "      <td>NaN</td>\n",
       "    </tr>\n",
       "    <tr>\n",
       "      <th>3</th>\n",
       "      <td>Promo</td>\n",
       "      <td>https://www.lionsgate.com/movies/long-shot</td>\n",
       "      <td>Movies</td>\n",
       "      <td>https://www.lionsgate.com/movies</td>\n",
       "      <td>NaN</td>\n",
       "      <td>NaN</td>\n",
       "      <td>{'_type': 'Image', 'alt': 'longshot_movies_pos...</td>\n",
       "      <td>oneOffPage</td>\n",
       "      <td>NaN</td>\n",
       "      <td>February 15, 2019 05:38 PM</td>\n",
       "      <td>LONG SHOT</td>\n",
       "      <td>00000168-e968-d538-a1e8-fd78eab90000</td>\n",
       "      <td>NaN</td>\n",
       "    </tr>\n",
       "    <tr>\n",
       "      <th>4</th>\n",
       "      <td>Promo</td>\n",
       "      <td>https://www.lionsgate.com/movies/john-wick-cha...</td>\n",
       "      <td>Movies</td>\n",
       "      <td>https://www.lionsgate.com/movies</td>\n",
       "      <td>NaN</td>\n",
       "      <td>NaN</td>\n",
       "      <td>{'_type': 'Image', 'alt': 'john-wick-chapter-3...</td>\n",
       "      <td>oneOffPage</td>\n",
       "      <td>NaN</td>\n",
       "      <td>January 15, 2019 10:00 AM</td>\n",
       "      <td>JOHN WICK: CHAPTER 3 - PARABELLUM</td>\n",
       "      <td>00000168-4f09-dc52-a77c-cf2b25030000</td>\n",
       "      <td>NaN</td>\n",
       "    </tr>\n",
       "  </tbody>\n",
       "</table>\n",
       "</div>"
      ],
      "text/plain": [
       "   _type                                       canonicalUri category  \\\n",
       "0  Promo           https://www.lionsgate.com/movies/hellboy   Movies   \n",
       "1  Promo         https://www.lionsgate.com/movies/long-shot   Movies   \n",
       "2  Promo           https://www.lionsgate.com/movies/hellboy   Movies   \n",
       "3  Promo         https://www.lionsgate.com/movies/long-shot   Movies   \n",
       "4  Promo  https://www.lionsgate.com/movies/john-wick-cha...   Movies   \n",
       "\n",
       "                        categoryUri        description duration  \\\n",
       "0  https://www.lionsgate.com/movies   Get Tickets Now!      NaN   \n",
       "1  https://www.lionsgate.com/movies  In Theaters May 3      NaN   \n",
       "2  https://www.lionsgate.com/movies        Coming Soon      NaN   \n",
       "3  https://www.lionsgate.com/movies                NaN      NaN   \n",
       "4  https://www.lionsgate.com/movies                NaN      NaN   \n",
       "\n",
       "                                               media   promoType provider  \\\n",
       "0  {'_type': 'Image', 'alt': 'hellboy_movies_prom...  oneOffPage      NaN   \n",
       "1  {'_type': 'Image', 'alt': 'longshot_movies_pro...  oneOffPage      NaN   \n",
       "2  {'_type': 'Image', 'alt': 'hellboy_movies_post...  oneOffPage      NaN   \n",
       "3  {'_type': 'Image', 'alt': 'longshot_movies_pos...  oneOffPage      NaN   \n",
       "4  {'_type': 'Image', 'alt': 'john-wick-chapter-3...  oneOffPage      NaN   \n",
       "\n",
       "                   publishDate                              title  \\\n",
       "0  September 20, 2018 07:59 PM                            Hellboy   \n",
       "1   February 15, 2019 05:38 PM                         Long Shot    \n",
       "2  September 20, 2018 07:59 PM                            HELLBOY   \n",
       "3   February 15, 2019 05:38 PM                          LONG SHOT   \n",
       "4    January 15, 2019 10:00 AM  JOHN WICK: CHAPTER 3 - PARABELLUM   \n",
       "\n",
       "                                    uid videoId  \n",
       "0  00000165-f96b-d325-af7d-fb7fb3ea0000     NaN  \n",
       "1  00000168-e968-d538-a1e8-fd78eab90000     NaN  \n",
       "2  00000165-f96b-d325-af7d-fb7fb3ea0000     NaN  \n",
       "3  00000168-e968-d538-a1e8-fd78eab90000     NaN  \n",
       "4  00000168-4f09-dc52-a77c-cf2b25030000     NaN  "
      ]
     },
     "execution_count": 98,
     "metadata": {},
     "output_type": "execute_result"
    }
   ],
   "source": [
    "df = pd.DataFrame.from_records(final_movie_list)\n",
    "print(df.shape)\n",
    "df.head()"
   ]
  },
  {
   "cell_type": "code",
   "execution_count": 100,
   "metadata": {},
   "outputs": [
    {
     "name": "stdout",
     "output_type": "stream",
     "text": [
      "131\n"
     ]
    }
   ],
   "source": [
    "fml = final_movie_list\n",
    "fml_scrubbed = [i for n, i in enumerate(fml) if i not in d[n + 1:]]\n",
    "print(len(fml_scrubbed))"
   ]
  },
  {
   "cell_type": "code",
   "execution_count": 108,
   "metadata": {},
   "outputs": [
    {
     "name": "stdout",
     "output_type": "stream",
     "text": [
      "(131, 13)\n",
      "<class 'pandas.core.frame.DataFrame'>\n",
      "RangeIndex: 131 entries, 0 to 130\n",
      "Data columns (total 13 columns):\n",
      "_type           131 non-null object\n",
      "canonicalUri    131 non-null object\n",
      "category        111 non-null object\n",
      "categoryUri     111 non-null object\n",
      "description     17 non-null object\n",
      "duration        11 non-null object\n",
      "media           131 non-null object\n",
      "promoType       131 non-null object\n",
      "provider        11 non-null object\n",
      "publishDate     131 non-null object\n",
      "title           131 non-null object\n",
      "uid             131 non-null object\n",
      "videoId         11 non-null object\n",
      "dtypes: object(13)\n",
      "memory usage: 13.4+ KB\n"
     ]
    }
   ],
   "source": [
    "df2 = pd.DataFrame.from_records(fml_scrubbed)\n",
    "print(df2.shape)\n",
    "df2.info()"
   ]
  },
  {
   "cell_type": "code",
   "execution_count": 131,
   "metadata": {},
   "outputs": [],
   "source": [
    "# Create deep copies of source Data Frames\n",
    "df_co = df.copy(deep=True)\n",
    "df2_co = df2.copy(deep=True)"
   ]
  },
  {
   "cell_type": "code",
   "execution_count": 193,
   "metadata": {},
   "outputs": [
    {
     "data": {
      "text/html": [
       "<div>\n",
       "<style scoped>\n",
       "    .dataframe tbody tr th:only-of-type {\n",
       "        vertical-align: middle;\n",
       "    }\n",
       "\n",
       "    .dataframe tbody tr th {\n",
       "        vertical-align: top;\n",
       "    }\n",
       "\n",
       "    .dataframe thead th {\n",
       "        text-align: right;\n",
       "    }\n",
       "</style>\n",
       "<table border=\"1\" class=\"dataframe\">\n",
       "  <thead>\n",
       "    <tr style=\"text-align: right;\">\n",
       "      <th></th>\n",
       "      <th>canonicalUri</th>\n",
       "      <th>category</th>\n",
       "      <th>categoryUri</th>\n",
       "      <th>publishDate</th>\n",
       "      <th>title</th>\n",
       "      <th>uid</th>\n",
       "    </tr>\n",
       "  </thead>\n",
       "  <tbody>\n",
       "    <tr>\n",
       "      <th>125</th>\n",
       "      <td>https://www.lionsgate.com/shows/selling-sunset...</td>\n",
       "      <td>NaN</td>\n",
       "      <td>NaN</td>\n",
       "      <td>2019-03-22 18:22:00</td>\n",
       "      <td>Selling Sunset Season 1</td>\n",
       "      <td>00000169-91a9-dde6-a1e9-9fed005e0000</td>\n",
       "    </tr>\n",
       "    <tr>\n",
       "      <th>127</th>\n",
       "      <td>https://www.lionsgate.com/shows/orange-is-the-...</td>\n",
       "      <td>NaN</td>\n",
       "      <td>NaN</td>\n",
       "      <td>2018-08-27 16:32:00</td>\n",
       "      <td>Orange Is The New Black</td>\n",
       "      <td>00000165-7d15-d038-abed-fd9574620000</td>\n",
       "    </tr>\n",
       "    <tr>\n",
       "      <th>129</th>\n",
       "      <td>https://www.lionsgate.com/shows/dear-white-peo...</td>\n",
       "      <td>DEAR WHITE PEOPLE</td>\n",
       "      <td>https://www.lionsgate.com/shows/dear-white-people</td>\n",
       "      <td>2018-08-27 17:48:00</td>\n",
       "      <td>Dear White People Season 2</td>\n",
       "      <td>00000165-7d5b-d038-abed-fddb4eed0000</td>\n",
       "    </tr>\n",
       "    <tr>\n",
       "      <th>130</th>\n",
       "      <td>https://www.lionsgate.com/shows/greenleaf</td>\n",
       "      <td>NaN</td>\n",
       "      <td>NaN</td>\n",
       "      <td>2018-08-27 17:52:00</td>\n",
       "      <td>Greenleaf</td>\n",
       "      <td>00000165-7d5d-d038-abed-fddd23580000</td>\n",
       "    </tr>\n",
       "  </tbody>\n",
       "</table>\n",
       "</div>"
      ],
      "text/plain": [
       "                                          canonicalUri           category  \\\n",
       "125  https://www.lionsgate.com/shows/selling-sunset...                NaN   \n",
       "127  https://www.lionsgate.com/shows/orange-is-the-...                NaN   \n",
       "129  https://www.lionsgate.com/shows/dear-white-peo...  DEAR WHITE PEOPLE   \n",
       "130          https://www.lionsgate.com/shows/greenleaf                NaN   \n",
       "\n",
       "                                           categoryUri         publishDate  \\\n",
       "125                                                NaN 2019-03-22 18:22:00   \n",
       "127                                                NaN 2018-08-27 16:32:00   \n",
       "129  https://www.lionsgate.com/shows/dear-white-people 2018-08-27 17:48:00   \n",
       "130                                                NaN 2018-08-27 17:52:00   \n",
       "\n",
       "                          title                                   uid  \n",
       "125     Selling Sunset Season 1  00000169-91a9-dde6-a1e9-9fed005e0000  \n",
       "127    Orange Is The New Black   00000165-7d15-d038-abed-fd9574620000  \n",
       "129  Dear White People Season 2  00000165-7d5b-d038-abed-fddb4eed0000  \n",
       "130                   Greenleaf  00000165-7d5d-d038-abed-fddd23580000  "
      ]
     },
     "execution_count": 193,
     "metadata": {},
     "output_type": "execute_result"
    }
   ],
   "source": [
    "# df_co = df_co.drop(columns = ['media', 'description', 'duration', 'provider', 'videoId','Promo'])\n",
    "# df2_co = df2_co.drop(columns = ['media', 'description', 'duration', 'provider', 'videoId','Promo'])\n",
    "# df_co = df_co.drop(columns = ['_type','promoType'])\n",
    "# df2_co = df2_co.drop(columns = ['_type', 'promoType'])\n",
    "# df = df.drop(df[(df.score < 50) & (df.score > 20)].index)\n",
    "# df2_co[df2_co[(df2_co.category == 'Show')].index]\n",
    "df2_co.loc[df2_co['category'] == None]\n",
    "# df2_co.loc[df2_co['category'].isnull() & df2_co['category'].str.contains('https://www.lionsgate.com/shows/')]\n",
    "# df2_co.loc[df2_co['canonicalUri'].str.contains('https://www.lionsgate.com/shows/')]\n",
    "\n",
    "# df2_co.drop(df2_co.loc[df2_co['category'] == 'Shows'].index, inplace=True)\n",
    "\n",
    "\n",
    "\n",
    "\n"
   ]
  },
  {
   "cell_type": "code",
   "execution_count": 173,
   "metadata": {},
   "outputs": [
    {
     "data": {
      "text/html": [
       "<div>\n",
       "<style scoped>\n",
       "    .dataframe tbody tr th:only-of-type {\n",
       "        vertical-align: middle;\n",
       "    }\n",
       "\n",
       "    .dataframe tbody tr th {\n",
       "        vertical-align: top;\n",
       "    }\n",
       "\n",
       "    .dataframe thead th {\n",
       "        text-align: right;\n",
       "    }\n",
       "</style>\n",
       "<table border=\"1\" class=\"dataframe\">\n",
       "  <thead>\n",
       "    <tr style=\"text-align: right;\">\n",
       "      <th></th>\n",
       "      <th>canonicalUri</th>\n",
       "      <th>category</th>\n",
       "      <th>categoryUri</th>\n",
       "      <th>publishDate</th>\n",
       "      <th>title</th>\n",
       "      <th>uid</th>\n",
       "    </tr>\n",
       "  </thead>\n",
       "  <tbody>\n",
       "    <tr>\n",
       "      <th>0</th>\n",
       "      <td>https://www.lionsgate.com/movies/hellboy</td>\n",
       "      <td>Movies</td>\n",
       "      <td>https://www.lionsgate.com/movies</td>\n",
       "      <td>2018-09-20 19:59:00</td>\n",
       "      <td>Hellboy</td>\n",
       "      <td>00000165-f96b-d325-af7d-fb7fb3ea0000</td>\n",
       "    </tr>\n",
       "    <tr>\n",
       "      <th>1</th>\n",
       "      <td>https://www.lionsgate.com/movies/long-shot</td>\n",
       "      <td>Movies</td>\n",
       "      <td>https://www.lionsgate.com/movies</td>\n",
       "      <td>2019-02-15 17:38:00</td>\n",
       "      <td>Long Shot</td>\n",
       "      <td>00000168-e968-d538-a1e8-fd78eab90000</td>\n",
       "    </tr>\n",
       "    <tr>\n",
       "      <th>2</th>\n",
       "      <td>https://www.lionsgate.com/videos/the-kid-2019-...</td>\n",
       "      <td>NaN</td>\n",
       "      <td>NaN</td>\n",
       "      <td>2019-02-22 19:31:00</td>\n",
       "      <td>The Kid (2019 Movie) – Ethan Hawke, Dane Dehaa...</td>\n",
       "      <td>00000169-17c2-da3f-a57b-97cfde380001</td>\n",
       "    </tr>\n",
       "    <tr>\n",
       "      <th>3</th>\n",
       "      <td>https://www.lionsgate.com/videos/hellboy-offic...</td>\n",
       "      <td>NaN</td>\n",
       "      <td>NaN</td>\n",
       "      <td>2018-12-19 14:00:00</td>\n",
       "      <td>Hellboy</td>\n",
       "      <td>00000167-c7a0-d352-af6f-fff13a710001</td>\n",
       "    </tr>\n",
       "    <tr>\n",
       "      <th>4</th>\n",
       "      <td>https://www.lionsgate.com/videos/long-shot-off...</td>\n",
       "      <td>NaN</td>\n",
       "      <td>NaN</td>\n",
       "      <td>2019-02-15 13:39:00</td>\n",
       "      <td>Long Shot</td>\n",
       "      <td>00000168-f259-d64f-afe9-fa5df3780001</td>\n",
       "    </tr>\n",
       "  </tbody>\n",
       "</table>\n",
       "</div>"
      ],
      "text/plain": [
       "                                        canonicalUri category  \\\n",
       "0           https://www.lionsgate.com/movies/hellboy   Movies   \n",
       "1         https://www.lionsgate.com/movies/long-shot   Movies   \n",
       "2  https://www.lionsgate.com/videos/the-kid-2019-...      NaN   \n",
       "3  https://www.lionsgate.com/videos/hellboy-offic...      NaN   \n",
       "4  https://www.lionsgate.com/videos/long-shot-off...      NaN   \n",
       "\n",
       "                        categoryUri         publishDate  \\\n",
       "0  https://www.lionsgate.com/movies 2018-09-20 19:59:00   \n",
       "1  https://www.lionsgate.com/movies 2019-02-15 17:38:00   \n",
       "2                               NaN 2019-02-22 19:31:00   \n",
       "3                               NaN 2018-12-19 14:00:00   \n",
       "4                               NaN 2019-02-15 13:39:00   \n",
       "\n",
       "                                               title  \\\n",
       "0                                            Hellboy   \n",
       "1                                         Long Shot    \n",
       "2  The Kid (2019 Movie) – Ethan Hawke, Dane Dehaa...   \n",
       "3                                            Hellboy   \n",
       "4                                          Long Shot   \n",
       "\n",
       "                                    uid  \n",
       "0  00000165-f96b-d325-af7d-fb7fb3ea0000  \n",
       "1  00000168-e968-d538-a1e8-fd78eab90000  \n",
       "2  00000169-17c2-da3f-a57b-97cfde380001  \n",
       "3  00000167-c7a0-d352-af6f-fff13a710001  \n",
       "4  00000168-f259-d64f-afe9-fa5df3780001  "
      ]
     },
     "execution_count": 173,
     "metadata": {},
     "output_type": "execute_result"
    }
   ],
   "source": [
    "# Title Case 'title'\n",
    "# df2_co['title'] = df2_co['title'].str.title()\n",
    "# df2_co['title']\n",
    "\n",
    "# Replace ' Official Trailer' with empty string ''\n",
    "# df2_co['title'] = df2_co['title'].str.replace(' Official Trailer', '')\n",
    "# df2_co['title']\n",
    "\n",
    "# Reformat publishDate to DateTimeFormat\n",
    "# df2_co['publishDate'] = pd.to_datetime(df2_co['publishDate'])\n",
    "df2_co.head()"
   ]
  },
  {
   "cell_type": "code",
   "execution_count": 65,
   "metadata": {},
   "outputs": [],
   "source": [
    "import sqlite3\n",
    "\n",
    "conn = sqlite3.connect('mod1movies.db')\n",
    "\n",
    "c = conn.cursor()\n",
    "# df_co.to_sql('Lionsgate_WS', conn, if_exists='replace')\n",
    "# df2_co.to_sql('Lionsgate_WS_S', conn, if_exists='replace')\n"
   ]
  },
  {
   "cell_type": "code",
   "execution_count": 71,
   "metadata": {},
   "outputs": [
    {
     "data": {
      "text/html": [
       "<div>\n",
       "<style scoped>\n",
       "    .dataframe tbody tr th:only-of-type {\n",
       "        vertical-align: middle;\n",
       "    }\n",
       "\n",
       "    .dataframe tbody tr th {\n",
       "        vertical-align: top;\n",
       "    }\n",
       "\n",
       "    .dataframe thead th {\n",
       "        text-align: right;\n",
       "    }\n",
       "</style>\n",
       "<table border=\"1\" class=\"dataframe\">\n",
       "  <thead>\n",
       "    <tr style=\"text-align: right;\">\n",
       "      <th></th>\n",
       "      <th>index</th>\n",
       "      <th>canonicalUri</th>\n",
       "      <th>category</th>\n",
       "      <th>categoryUri</th>\n",
       "      <th>publishDate</th>\n",
       "      <th>title</th>\n",
       "      <th>uid</th>\n",
       "    </tr>\n",
       "  </thead>\n",
       "  <tbody>\n",
       "    <tr>\n",
       "      <th>0</th>\n",
       "      <td>0</td>\n",
       "      <td>https://www.lionsgate.com/movies/hellboy</td>\n",
       "      <td>Movies</td>\n",
       "      <td>https://www.lionsgate.com/movies</td>\n",
       "      <td>2018-09-20 19:59:00</td>\n",
       "      <td>Hellboy</td>\n",
       "      <td>00000165-f96b-d325-af7d-fb7fb3ea0000</td>\n",
       "    </tr>\n",
       "    <tr>\n",
       "      <th>1</th>\n",
       "      <td>1</td>\n",
       "      <td>https://www.lionsgate.com/movies/long-shot</td>\n",
       "      <td>Movies</td>\n",
       "      <td>https://www.lionsgate.com/movies</td>\n",
       "      <td>2019-02-15 17:38:00</td>\n",
       "      <td>Long Shot</td>\n",
       "      <td>00000168-e968-d538-a1e8-fd78eab90000</td>\n",
       "    </tr>\n",
       "    <tr>\n",
       "      <th>2</th>\n",
       "      <td>2</td>\n",
       "      <td>https://www.lionsgate.com/videos/the-kid-2019-...</td>\n",
       "      <td>None</td>\n",
       "      <td>None</td>\n",
       "      <td>2019-02-22 19:31:00</td>\n",
       "      <td>The Kid (2019 Movie) – Ethan Hawke, Dane Dehaa...</td>\n",
       "      <td>00000169-17c2-da3f-a57b-97cfde380001</td>\n",
       "    </tr>\n",
       "    <tr>\n",
       "      <th>3</th>\n",
       "      <td>3</td>\n",
       "      <td>https://www.lionsgate.com/videos/hellboy-offic...</td>\n",
       "      <td>None</td>\n",
       "      <td>None</td>\n",
       "      <td>2018-12-19 14:00:00</td>\n",
       "      <td>Hellboy</td>\n",
       "      <td>00000167-c7a0-d352-af6f-fff13a710001</td>\n",
       "    </tr>\n",
       "    <tr>\n",
       "      <th>4</th>\n",
       "      <td>4</td>\n",
       "      <td>https://www.lionsgate.com/videos/long-shot-off...</td>\n",
       "      <td>None</td>\n",
       "      <td>None</td>\n",
       "      <td>2019-02-15 13:39:00</td>\n",
       "      <td>Long Shot</td>\n",
       "      <td>00000168-f259-d64f-afe9-fa5df3780001</td>\n",
       "    </tr>\n",
       "  </tbody>\n",
       "</table>\n",
       "</div>"
      ],
      "text/plain": [
       "   index                                       canonicalUri category  \\\n",
       "0      0           https://www.lionsgate.com/movies/hellboy   Movies   \n",
       "1      1         https://www.lionsgate.com/movies/long-shot   Movies   \n",
       "2      2  https://www.lionsgate.com/videos/the-kid-2019-...     None   \n",
       "3      3  https://www.lionsgate.com/videos/hellboy-offic...     None   \n",
       "4      4  https://www.lionsgate.com/videos/long-shot-off...     None   \n",
       "\n",
       "                        categoryUri          publishDate  \\\n",
       "0  https://www.lionsgate.com/movies  2018-09-20 19:59:00   \n",
       "1  https://www.lionsgate.com/movies  2019-02-15 17:38:00   \n",
       "2                              None  2019-02-22 19:31:00   \n",
       "3                              None  2018-12-19 14:00:00   \n",
       "4                              None  2019-02-15 13:39:00   \n",
       "\n",
       "                                               title  \\\n",
       "0                                            Hellboy   \n",
       "1                                         Long Shot    \n",
       "2  The Kid (2019 Movie) – Ethan Hawke, Dane Dehaa...   \n",
       "3                                            Hellboy   \n",
       "4                                          Long Shot   \n",
       "\n",
       "                                    uid  \n",
       "0  00000165-f96b-d325-af7d-fb7fb3ea0000  \n",
       "1  00000168-e968-d538-a1e8-fd78eab90000  \n",
       "2  00000169-17c2-da3f-a57b-97cfde380001  \n",
       "3  00000167-c7a0-d352-af6f-fff13a710001  \n",
       "4  00000168-f259-d64f-afe9-fa5df3780001  "
      ]
     },
     "execution_count": 71,
     "metadata": {},
     "output_type": "execute_result"
    }
   ],
   "source": [
    "import pandas as pd\n",
    "df_lg = pd.read_sql_query('SELECT * FROM Lionsgate_WS_S', conn)\n",
    "df_lg.head()\n"
   ]
  },
  {
   "cell_type": "code",
   "execution_count": 72,
   "metadata": {},
   "outputs": [],
   "source": [
    "# Export DataFrame to csv file\n",
    "# df_lg.to_csv('Lionsgate_WS_sqlData.csv')"
   ]
  },
  {
   "cell_type": "code",
   "execution_count": 67,
   "metadata": {},
   "outputs": [
    {
     "name": "stdout",
     "output_type": "stream",
     "text": [
      "[(0, 'https://www.lionsgate.com/movies/hellboy', 'Movies', 'https://www.lionsgate.com/movies', '2018-09-20 19:59:00', 'Hellboy', '00000165-f96b-d325-af7d-fb7fb3ea0000'), (1, 'https://www.lionsgate.com/movies/long-shot', 'Movies', 'https://www.lionsgate.com/movies', '2019-02-15 17:38:00', 'Long Shot ', '00000168-e968-d538-a1e8-fd78eab90000'), (2, 'https://www.lionsgate.com/videos/the-kid-2019-movie-official-trailer-ethan-hawke-dane-dehaan-jake-schur', None, None, '2019-02-22 19:31:00', 'The Kid (2019 Movie) – Ethan Hawke, Dane Dehaan, Jake Schur', '00000169-17c2-da3f-a57b-97cfde380001'), (3, 'https://www.lionsgate.com/videos/hellboy-official-trailer', None, None, '2018-12-19 14:00:00', 'Hellboy', '00000167-c7a0-d352-af6f-fff13a710001'), (4, 'https://www.lionsgate.com/videos/long-shot-official-trailer', None, None, '2019-02-15 13:39:00', 'Long Shot', '00000168-f259-d64f-afe9-fa5df3780001'), (5, 'https://www.lionsgate.com/videos/tyler-perrys-a-madea-family-funeral-2019-movie-official-trailer-tyler-perry-cassi-davis', None, None, '2018-10-31 17:29:00', 'A Madea Family Funeral', '00000166-cc06-d21f-a176-ffc6bb7c0001'), (6, 'https://www.lionsgate.com/videos/cold-pursuit-2019-movie-official-trailer-liam-neeson-laura-dern-emmy-rossum', None, None, '2018-10-31 17:51:00', 'Cold Pursuit', '00000166-cc1b-de56-a566-cddbd2d40001'), (7, 'https://www.lionsgate.com/videos/the-spy-who-dumped-me-2018-movie-official-trailer-mila-kunis-kate-mckinnon-sam-heughan', None, None, '2018-09-19 02:40:00', 'The Spy Who Dumped Me', '00000165-f08e-d7ff-a97f-f39fcbed0001'), (8, 'https://www.lionsgate.com/videos/blindspotting-2018-movie-official-trailer-daveed-diggs-rafael-casal', None, None, '2018-10-04 18:33:00', 'Blindspotting', '00000166-4136-d654-a97e-5777a9350001'), (9, 'https://www.lionsgate.com/videos/hunter-killer-official-home-entertainment-trailer', None, None, '2018-12-11 11:59:00', 'Hunter Killer - Official Home Entertainment Trailer ', '00000167-9abd-dc16-afe7-9fbd7e390001'), (10, 'https://www.lionsgate.com/videos/a-simple-favor-2018-movie-official-trailer-anna-kendrick-blake-lively-henry-golding', None, None, '2018-09-16 14:37:00', 'A Simple Favor', '00000165-e3a8-dedd-aff7-f3f829e90001'), (11, 'https://www.lionsgate.com/videos/uncle-drew-2018-movie-official-trailer-kyrie-irving-shaq-lil-rel-tiffany-haddish', None, None, '2018-10-05 14:18:00', 'Uncle Drew', '00000166-4573-d654-a97e-577350590001'), (12, 'https://www.lionsgate.com/videos/kin-2018-movie-official-trailer-dennis-quaid-zoe-kravitz', None, None, '2018-10-02 19:26:00', 'Kin', '00000166-371a-d55b-a7fe-bf9aa6540001'), (13, 'https://www.lionsgate.com/movies/hunter-killer', 'Movies', 'https://www.lionsgate.com/movies', '2018-08-16 02:04:00', 'Hunter Killer', '00000165-4155-d038-abed-e9d5f1390000'), (14, 'https://www.lionsgate.com/movies/kin', 'Movies', 'https://www.lionsgate.com/movies', '2018-08-16 02:06:00', 'Kin', '00000165-4157-d038-abed-e9d79fb10000'), (15, 'https://www.lionsgate.com/movies/the-honor-list', 'Movies', 'https://www.lionsgate.com/movies', '2018-08-16 02:18:00', 'The Honor List', '00000165-4162-d038-abed-e9f3ad510000'), (16, 'https://www.lionsgate.com/franchises/john-wick', None, None, '2018-10-29 17:39:00', 'John Wick Franchise', '00000166-c1c3-da17-a5f6-d9ffd3f80001'), (17, 'https://www.lionsgate.com/franchises/the-hunger-games', None, None, '2018-10-28 17:15:00', 'The Hunger Games Franchise', '00000166-bc5b-d9e0-a7fe-fffb944b0001'), (18, 'https://www.lionsgate.com/franchises/saw', None, None, '2018-10-29 17:42:00', 'Saw Franchise', '00000166-c1c6-d8fa-ab6e-ebf747790001'), (19, 'https://www.lionsgate.com/franchises/the-twilight-saga', None, None, '2018-10-29 17:45:00', 'The Twilight Saga', '00000166-c1c7-d8fa-ab6e-ebf742050001'), (20, 'https://www.lionsgate.com/franchises/the-divergent-series', None, None, '2018-10-29 20:41:00', 'The Divergent Series', '00000166-c269-d448-a1f7-e369e9070001'), (21, 'https://www.lionsgate.com/franchises/now-you-see-me', None, None, '2018-10-29 17:40:00', 'Now You See Me Franchise ', '00000166-c1c4-da17-a5f6-d9fcc76c0001'), (22, 'https://www.lionsgate.com/movies/la-la-land', 'Movies', 'https://www.lionsgate.com/movies', '2018-08-16 02:06:00', 'La La Land', '00000165-4157-d038-abed-e9d7ea490000'), (23, 'https://www.lionsgate.com/movies/lady-bird', 'Movies', 'https://www.lionsgate.com/movies', '2018-08-16 02:07:00', 'Lady Bird', '00000165-4158-d038-abed-e9d936600000'), (24, 'https://www.lionsgate.com/movies/ex-machina', 'Movies', 'https://www.lionsgate.com/movies', '2018-08-16 01:59:00', 'Ex Machina', '00000165-4151-d038-abed-e9d144500000'), (25, 'https://www.lionsgate.com/movies/the-expendables', 'Movies', 'https://www.lionsgate.com/movies', '2018-09-10 20:54:00', 'The Expendables', '00000165-c61e-d3cf-a7f5-ffdf8c500000'), (26, 'https://www.lionsgate.com/movies/escape-plan/', 'Movies', 'https://www.lionsgate.com/movies', '2018-08-27 19:49:00', 'Escape Plan', '00000165-7dca-d038-abed-fddb6c810000'), (27, 'https://www.lionsgate.com/movies/escape-plan-2', 'Movies', 'https://www.lionsgate.com/movies', '2018-08-27 19:49:00', 'Escape Plan 2', '00000165-7dca-d038-abed-fddbd9400000'), (28, 'https://www.lionsgate.com/movies/john-wick', 'Movies', 'https://www.lionsgate.com/movies', '2018-08-14 17:00:00', 'John Wick', '00000165-3a3d-d038-abed-fbbd85f20000'), (29, 'https://www.lionsgate.com/movies/john-wick-chapter-2', 'Movies', 'https://www.lionsgate.com/movies', '2018-08-14 17:02:00', 'John Wick: Chapter 2', '00000165-3a3e-d038-abed-fbbfbb7f0000'), (30, 'https://www.lionsgate.com/movies/red', 'Movies', 'https://www.lionsgate.com/movies', '2018-09-10 19:28:00', 'Red', '00000165-c5d0-d3cf-a7f5-fdd7dd6e0000'), (31, 'https://www.lionsgate.com/movies/now-you-see-me', 'Movies', 'https://www.lionsgate.com/movies', '2018-09-10 19:27:00', 'Now You See Me ', '00000165-c5cf-d6eb-a5ed-e7ff87fe0000'), (32, 'https://www.lionsgate.com/movies/now-you-see-me-2', 'Movies', 'https://www.lionsgate.com/movies', '2018-10-02 13:00:00', 'Now You See Me 2', '00000166-35b7-d55b-a7fe-bfb7cd7b0000'), (33, 'https://www.lionsgate.com/movies/red-2', 'Movies', 'https://www.lionsgate.com/movies', '2018-09-10 19:29:00', 'Red 2', '00000165-c5d1-d3cf-a7f5-fdd746d50000'), (34, 'https://www.lionsgate.com/movies/snitch', 'Movies', 'https://www.lionsgate.com/movies', '2018-08-16 02:16:00', 'Snitch', '00000165-4160-d038-abed-e9f1b6840000'), (35, 'https://www.lionsgate.com/movies/47-meters-down', 'Movies', 'https://www.lionsgate.com/movies', '2018-08-14 17:54:00', '47 Meters Down', '00000165-3a6a-d038-abed-fbfb16520000'), (36, 'https://www.lionsgate.com/movies/the-spy-who-dumped-me', 'Movies', 'https://www.lionsgate.com/movies', '2018-08-16 02:19:00', 'The Spy Who Dumped Me', '00000165-4163-d038-abed-e9f3499a0000'), (37, 'https://www.lionsgate.com/movies/terminator-2-judgment-day', 'Movies', 'https://www.lionsgate.com/movies', '2018-09-10 20:50:00', 'Terminator 2: Judgment Day', '00000165-c61b-d3cf-a7f5-ffdf70500000'), (38, 'https://www.lionsgate.com/movies/the-commuter', 'Movies', 'https://www.lionsgate.com/movies', '2018-08-16 02:17:00', 'The Commuter', '00000165-4161-d038-abed-e9f161c80000'), (39, 'https://www.lionsgate.com/movies/the-expendables-2', 'Movies', 'https://www.lionsgate.com/movies', '2018-09-10 20:54:00', 'The Expendables 2', '00000165-c61f-d6eb-a5ed-e73f3f370000'), (40, 'https://www.lionsgate.com/movies/punisher-war-zone', 'Movies', 'https://www.lionsgate.com/movies', '2018-08-16 02:11:00', 'Punisher: War Zone', '00000165-415c-d038-abed-e9dd5b840000'), (41, 'https://www.lionsgate.com/movies/the-expendables-3', 'Movies', 'https://www.lionsgate.com/movies', '2018-09-10 20:55:00', 'The Expendables 3', '00000165-c61f-d6eb-a5ed-e73f89670000'), (42, 'https://www.lionsgate.com/movies/valerian-and-the-city-of-a-thousand-planets', 'Movies', 'https://www.lionsgate.com/movies', '2018-08-16 02:20:00', 'Valerian And The City Of A Thousand Planets', '00000165-4164-d038-abed-e9f508040000'), (43, 'https://www.lionsgate.com/movies/the-hunger-games-catching-fire', 'Movies', 'https://www.lionsgate.com/movies', '2018-09-10 20:57:00', 'The Hunger Games: Catching Fire', '00000165-c622-d3cf-a7f5-ffe731da0000'), (44, 'https://www.lionsgate.com/movies/the-hunger-games-mockingjay-part-1', 'Movies', 'https://www.lionsgate.com/movies', '2018-09-10 20:58:00', 'The Hunger Games: Mockingjay Part 1', '00000165-c622-d3cf-a7f5-ffe7a5790000'), (45, 'https://www.lionsgate.com/movies/the-hunger-games-mockingjay-part-2', 'Movies', 'https://www.lionsgate.com/movies', '2018-09-10 20:58:00', 'The Hunger Games: Mockingjay Part 2', '00000165-c623-d3cf-a7f5-ffe717420000'), (46, 'https://www.lionsgate.com/movies/gods-of-egypt', 'Movies', 'https://www.lionsgate.com/movies', '2018-08-16 02:00:00', 'Gods Of Egypt', '00000165-4151-d038-abed-e9d1e0ba0000'), (47, 'https://www.lionsgate.com/movies/hostiles', 'Movies', 'https://www.lionsgate.com/movies', '2018-08-16 02:03:00', 'Hostiles', '00000165-4154-d038-abed-e9d5b0470000'), (48, 'https://www.lionsgate.com/movies/sicario', 'Movies', 'https://www.lionsgate.com/movies', '2018-08-16 02:15:00', 'Sicario', '00000165-415f-d038-abed-e9dfc7870000'), (49, 'https://www.lionsgate.com/movies/django-unchained', 'Movies', 'https://www.lionsgate.com/movies', '2018-08-16 01:57:00', 'Django Unchained', '00000165-414f-d038-abed-e9df76800000'), (50, 'https://www.lionsgate.com/movies/ex-machina', 'Movies', 'https://www.lionsgate.com/movies', '2018-08-16 01:59:00', 'Ex Machina', '00000165-4151-d038-abed-e9d144500000'), (51, 'https://www.lionsgate.com/movies/hell-or-high-water', 'Movies', 'https://www.lionsgate.com/movies', '2018-08-16 02:03:00', 'Hell Or High Water', '00000165-4154-d038-abed-e9d545bc0000'), (52, 'https://www.lionsgate.com/movies/the-hurricane-heist', 'Movies', 'https://www.lionsgate.com/movies', '2018-08-16 02:05:00', 'The Hurricane Heist', '00000165-4156-d038-abed-e9d747ed0000'), (53, 'https://www.lionsgate.com/movies/dying-of-the-light', 'Movies', 'https://www.lionsgate.com/movies', '2018-08-16 01:58:00', 'Dying Of The Light', '00000165-414f-d038-abed-e9dfd7d10000'), (54, 'https://www.lionsgate.com/movies/no-br-manches-frida-2', 'Movies', 'https://www.lionsgate.com/movies', '2019-02-04 13:21:00', 'No Manches Frida 2', '00000168-a510-d47f-adfd-f7bb20e10000'), (55, 'https://www.lionsgate.com/movies/tyler-perrys-a-madea-family-funeral', 'Movies', 'https://www.lionsgate.com/movies', '2018-10-31 17:22:00', 'A Madea Family Funeral', '00000166-cbf9-d735-a776-cffb457b0001'), (56, 'https://www.lionsgate.com/movies/the-spy-who-dumped-me', 'Movies', 'https://www.lionsgate.com/movies', '2018-08-16 02:19:00', 'The Spy Who Dumped Me', '00000165-4163-d038-abed-e9f3499a0000'), (57, 'https://www.lionsgate.com/movies/the-hitmans-bodyguard', 'Movies', 'https://www.lionsgate.com/movies', '2018-08-16 02:18:00', \"The Hitman'S Bodyguard\", '00000165-4162-d038-abed-e9f347f90000'), (58, 'https://www.lionsgate.com/movies/dirty-grandpa', 'Movies', 'https://www.lionsgate.com/movies', '2018-08-16 01:55:00', 'Dirty Grandpa', '00000165-414d-d038-abed-e9dd7b8a0000'), (59, 'https://www.lionsgate.com/movies/how-to-be-a-latin-lover', 'Movies', 'https://www.lionsgate.com/movies', '2018-08-16 02:04:00', 'How To Be A Latin Lover', '00000165-4155-d038-abed-e9d5961c0000'), (60, 'https://www.lionsgate.com/movies/overboard', 'Movies', 'https://www.lionsgate.com/movies', '2018-08-16 02:10:00', 'Overboard', '00000165-415a-d038-abed-e9dbf1e30000'), (61, 'https://www.lionsgate.com/movies/instructions-not-included', 'Movies', 'https://www.lionsgate.com/movies', '2018-08-16 02:05:00', 'Instructions Not Included', '00000165-4156-d038-abed-e9d7ee900000'), (62, 'https://www.lionsgate.com/movies/no-manches-frida', 'Movies', 'https://www.lionsgate.com/movies', '2018-08-16 02:09:00', 'No Manches Frida', '00000165-415a-d038-abed-e9db30350000'), (63, 'https://www.lionsgate.com/movies/uncle-drew', 'Movies', 'https://www.lionsgate.com/movies', '2018-08-16 02:19:00', 'Uncle Drew', '00000165-4163-d038-abed-e9f3c1c30000'), (64, 'https://www.lionsgate.com/movies/everybody-loves-somebody', 'Movies', 'https://www.lionsgate.com/movies', '2018-08-16 01:59:00', 'Everybody Loves Somebody', '00000165-4150-d038-abed-e9d1dd2f0000'), (65, 'https://www.lionsgate.com/movies/tyler-perrys-boo-a-madea-halloween', 'Movies', 'https://www.lionsgate.com/movies', '2018-09-10 21:03:00', \"Tyler Perry'S Boo! A Madea Halloween\", '00000165-c627-d6eb-a5ed-e73765480000'), (66, 'https://www.lionsgate.com/movies/tyler-perrys-boo-2-a-madea-halloween', 'Movies', 'https://www.lionsgate.com/movies', '2018-09-10 21:03:00', \"Tyler Perry'S Boo! 2 A Madea Halloween\", '00000165-c626-d6eb-a5ed-e737c8e40000'), (67, 'https://www.lionsgate.com/movies/most-likely-to-murder', 'Movies', 'https://www.lionsgate.com/movies', '2018-08-16 02:08:00', 'Most Likely To Murder', '00000165-4159-d038-abed-e9d91fd80000'), (68, 'https://www.lionsgate.com/movies/hell-fest', 'Movies', 'https://www.lionsgate.com/movies', '2018-11-27 02:30:00', 'Hell Fest', '00000167-37dd-dfd2-a967-77df8f810001'), (69, 'https://www.lionsgate.com/movies/saw', 'Movies', 'https://www.lionsgate.com/movies', '2018-09-10 20:46:00', 'Saw', '00000165-c617-d6eb-a5ed-e737e80e0000'), (70, 'https://www.lionsgate.com/movies/jigsaw', 'Movies', 'https://www.lionsgate.com/movies', '2018-09-10 19:23:00', 'Jigsaw', '00000165-c5cb-d3cf-a7f5-fdcfd7300000'), (71, 'https://www.lionsgate.com/movies/house-of-1000-corpses', 'Movies', 'https://www.lionsgate.com/movies', '2018-08-16 02:04:00', 'House Of 1000 Corpses', '00000165-4155-d038-abed-e9d515d00000'), (72, 'https://www.lionsgate.com/movies/halloween', 'Movies', 'https://www.lionsgate.com/movies', '2018-09-10 19:17:00', 'Halloween', '00000165-c5c6-d3cf-a7f5-fdc75d160000'), (73, 'https://www.lionsgate.com/movies/saw-2', 'Movies', 'https://www.lionsgate.com/movies', '2018-09-10 20:48:00', 'Saw Ii', '00000165-c619-d6eb-a5ed-e73956960000'), (74, 'https://www.lionsgate.com/movies/saw-3', 'Movies', 'https://www.lionsgate.com/movies', '2018-09-10 20:48:00', 'Saw Iii', '00000165-c619-d6eb-a5ed-e739aa1c0000'), (75, 'https://www.lionsgate.com/movies/saw-4', 'Movies', 'https://www.lionsgate.com/movies', '2018-09-10 20:48:00', 'Saw Iv', '00000165-c61a-d3cf-a7f5-ffdf142a0000'), (76, 'https://www.lionsgate.com/movies/saw-5', 'Movies', 'https://www.lionsgate.com/movies', '2018-09-10 20:49:00', 'Saw V', '00000165-c61a-d6eb-a5ed-e73b5d150000'), (77, 'https://www.lionsgate.com/movies/saw-6', 'Movies', 'https://www.lionsgate.com/movies', '2018-09-10 20:49:00', 'Saw Vi', '00000165-c61b-d6eb-a5ed-e73b0b250000'), (78, 'https://www.lionsgate.com/movies/saw-the-final-chapter', 'Movies', 'https://www.lionsgate.com/movies', '2018-09-10 20:47:00', 'Saw: The Final Chapter', '00000165-c618-d3cf-a7f5-ffdfe46a0000'), (79, 'https://www.lionsgate.com/movies/halloween-4-the-return-of-michael-myers', 'Movies', 'https://www.lionsgate.com/movies', '2018-09-10 19:21:00', 'Halloween 4: The Return Of Michael Myers', '00000165-c5ca-d3cf-a7f5-fdcf007d0000'), (80, 'https://www.lionsgate.com/movies/halloween-5-the-revenge-of-michael-myers', 'Movies', 'https://www.lionsgate.com/movies', '2018-09-10 19:22:00', 'Halloween 5: The Revenge Of Michael Myers', '00000165-c5cb-d6eb-a5ed-e7fb075e0000'), (81, 'https://www.lionsgate.com/movies/early-man', 'Movies', 'https://www.lionsgate.com/movies', '2018-08-16 01:58:00', 'Early Man', '00000165-4150-d038-abed-e9d123a20000'), (82, 'https://www.lionsgate.com/movies/leap', 'Movies', 'https://www.lionsgate.com/movies', '2018-09-10 19:26:00', 'Leap!', '00000165-c5ce-d6eb-a5ed-e7ffd2030000'), (83, 'https://www.lionsgate.com/movies/my-little-pony-the-movie', 'Movies', 'https://www.lionsgate.com/movies', '2018-08-16 02:08:00', 'My Little Pony: The Movie', '00000165-4159-d038-abed-e9d9799a0000'), (84, 'https://www.lionsgate.com/movies/norm-of-the-north', 'Movies', 'https://www.lionsgate.com/movies', '2018-08-16 02:09:00', 'Norm Of The North', '00000165-415a-d038-abed-e9db97cf0000'), (85, 'https://www.lionsgate.com/movies/power-rangers', 'Movies', 'https://www.lionsgate.com/movies', '2018-08-16 02:11:00', \"Saban'S Power Rangers\", '00000165-415c-d038-abed-e9dd0afe0000'), (86, 'https://www.lionsgate.com/movies/escape-from-planet-earth', 'Movies', 'https://www.lionsgate.com/movies', '2018-08-16 01:58:00', 'Escape From Planet Earth', '00000165-4150-d038-abed-e9d16bd00000'), (87, 'https://www.lionsgate.com/movies/dirty-dancing', 'Movies', 'https://www.lionsgate.com/movies', '2018-08-16 01:55:00', 'Dirty Dancing', '00000165-414d-d038-abed-e9dd2de60000'), (88, 'https://www.lionsgate.com/movies/la-la-land', 'Movies', 'https://www.lionsgate.com/movies', '2018-08-16 02:06:00', 'La La Land', '00000165-4157-d038-abed-e9d7ea490000'), (89, 'https://www.lionsgate.com/movies/rock-dog', 'Movies', 'https://www.lionsgate.com/movies', '2018-08-16 02:13:00', 'Rock Dog', '00000165-415e-d038-abed-e9df0fb40000'), (90, 'https://www.lionsgate.com/movies/blindspotting', 'Movies', 'https://www.lionsgate.com/movies', '2018-08-16 01:53:00', 'Blindspotting', '00000165-414b-d038-abed-e9dbcc4b0000'), (91, 'https://www.lionsgate.com/movies/love-beats-rhymes', 'Movies', 'https://www.lionsgate.com/movies', '2018-08-16 02:07:00', 'Love Beats Rhymes', '00000165-4158-d038-abed-e9d9cc5e0000'), (92, 'https://www.lionsgate.com/movies/a-simple-favor', 'Movies', 'https://www.lionsgate.com/movies', '2018-12-17 23:59:00', 'A Simple Favor', '00000165-3a6f-d038-abed-fbff959a0000'), (93, 'https://www.lionsgate.com/movies/the-hunger-games', 'Movies', 'https://www.lionsgate.com/movies', '2018-09-10 20:56:00', 'The Hunger Games', '00000165-c621-d6eb-a5ed-e73136280000'), (94, 'https://www.lionsgate.com/movies/wonder', 'Movies', 'https://www.lionsgate.com/movies', '2018-08-14 19:57:00', 'Wonder', '00000165-3adb-d038-abed-fbdbae3f0000'), (95, 'https://www.lionsgate.com/movies/divergent', 'Movies', 'https://www.lionsgate.com/movies', '2018-09-21 03:00:00', 'Divergent', '00000165-fae9-d035-a77f-faedd86f0000'), (96, 'https://www.lionsgate.com/movies/twilight', 'Movies', 'https://www.lionsgate.com/movies', '2018-09-10 20:59:00', 'Twilight', '00000165-c623-d6eb-a5ed-e733e6490000'), (97, 'https://www.lionsgate.com/movies/nerve', 'Movies', 'https://www.lionsgate.com/movies', '2018-08-16 02:09:00', 'Nerve', '00000165-4159-d038-abed-e9d9f1d20000'), (98, 'https://www.lionsgate.com/movies/the-shack', 'Movies', 'https://www.lionsgate.com/movies', '2018-08-16 02:19:00', 'The Shack', '00000165-4162-d038-abed-e9f3f31f0000'), (99, 'https://www.lionsgate.com/movies/american-assassin', 'Movies', 'https://www.lionsgate.com/movies', '2018-08-16 01:50:00', 'American Assassin', '00000165-4149-d038-abed-e9d92d820000'), (100, 'https://www.lionsgate.com/movies/american-psycho', 'Movies', 'https://www.lionsgate.com/movies', '2018-08-16 01:51:00', 'American Psycho', '00000165-4149-d038-abed-e9d988890000'), (101, 'https://www.lionsgate.com/movies/the-duff', 'Movies', 'https://www.lionsgate.com/movies', '2018-08-16 02:17:00', 'The Duff', '00000165-4161-d038-abed-e9f1fd860000'), (102, 'https://www.lionsgate.com/movies/you-were-never-really-here', 'Movies', 'https://www.lionsgate.com/movies', '2018-08-16 02:20:00', 'You Were Never Really Here', '00000165-4164-d038-abed-e9f57c790000'), (103, 'https://www.lionsgate.com/movies/the-kid', 'Movies', 'https://www.lionsgate.com/movies', '2019-02-22 21:26:00', 'The Kid', '00000169-17c0-da3f-a57b-97cf671a0000'), (104, 'https://www.lionsgate.com/movies/all-eyez-on-me', 'Movies', 'https://www.lionsgate.com/movies', '2018-08-16 01:50:00', 'All Eyez On Me', '00000165-4148-d038-abed-e9d9a5360000'), (105, 'https://www.lionsgate.com/movies/chappaquiddick', 'Movies', 'https://www.lionsgate.com/movies', '2018-08-16 01:54:00', 'Chappaquiddick', '00000165-414c-d038-abed-e9dd16c80000'), (106, 'https://www.lionsgate.com/movies/deepwater-horizon', 'Movies', 'https://www.lionsgate.com/movies', '2018-08-16 01:54:00', 'Deepwater Horizon', '00000165-414c-d038-abed-e9ddc0800000'), (107, 'https://www.lionsgate.com/movies/hacksaw-ridge', 'Movies', 'https://www.lionsgate.com/movies', '2018-08-16 02:01:00', 'Hacksaw Ridge', '00000165-4153-d038-abed-e9d301de0000'), (108, 'https://www.lionsgate.com/movies/i-can-only-imagine', 'Movies', 'https://www.lionsgate.com/movies', '2018-08-16 02:05:00', 'I Can Only Imagine', '00000165-4156-d038-abed-e9d7a1020000'), (109, 'https://www.lionsgate.com/movies/the-big-sick', 'Movies', 'https://www.lionsgate.com/movies', '2018-08-16 02:17:00', 'The Big Sick', '00000165-4161-d038-abed-e9f120f30000'), (110, 'https://www.lionsgate.com/movies/the-glass-castle', 'Movies', 'https://www.lionsgate.com/movies', '2018-10-02 14:22:00', 'The Glass Castle', '00000166-3601-d4e2-ade6-f7fd278c0000'), (111, 'https://www.lionsgate.com/movies/the-disaster-artist', 'Movies', 'https://www.lionsgate.com/movies', '2018-08-16 02:17:00', 'The Disaster Artist', '00000165-4161-d038-abed-e9f1a9410000'), (112, 'https://www.lionsgate.com/movies/patriots-day', 'Movies', 'https://www.lionsgate.com/movies', '2018-08-16 02:11:00', 'Patriots Day', '00000165-415b-d038-abed-e9db3d830000'), (113, 'https://www.lionsgate.com/movies/uncle-drew', 'Movies', 'https://www.lionsgate.com/movies', '2018-08-16 02:19:00', 'Uncle Drew', '00000165-4163-d038-abed-e9f3c1c30000'), (114, 'https://www.lionsgate.com/movies/kin', 'Movies', 'https://www.lionsgate.com/movies', '2018-08-16 02:06:00', 'Kin', '00000165-4157-d038-abed-e9d79fb10000'), (115, 'https://www.lionsgate.com/movies/blindspotting', 'Movies', 'https://www.lionsgate.com/movies', '2018-08-16 01:53:00', 'Blindspotting', '00000165-414b-d038-abed-e9dbcc4b0000'), (116, 'https://www.lionsgate.com/movies/acrimony', 'Movies', 'https://www.lionsgate.com/movies', '2018-08-16 01:49:00', 'Acrimony', '00000165-4147-d038-abed-e9d7f1690000'), (117, 'https://www.lionsgate.com/movies/john-wick-chapter-3-parabellum', 'Movies', 'https://www.lionsgate.com/movies', '2019-01-15 10:00:00', 'John Wick: Chapter 3 - Parabellum', '00000168-4f09-dc52-a77c-cf2b25030000'), (118, 'https://www.lionsgate.com/movies/hellboy', 'Movies', 'https://www.lionsgate.com/movies', '2018-09-20 19:59:00', 'Hellboy', '00000165-f96b-d325-af7d-fb7fb3ea0000'), (119, 'https://www.lionsgate.com/movies/long-shot', 'Movies', 'https://www.lionsgate.com/movies', '2019-02-15 17:38:00', 'Long Shot', '00000168-e968-d538-a1e8-fd78eab90000'), (120, 'https://www.lionsgate.com/movies/cold-pursuit', 'Movies', 'https://www.lionsgate.com/movies', '2019-03-18 11:57:00', 'Cold Pursuit', '00000169-7347-dde6-a1e9-7fc752d60000'), (121, 'https://www.lionsgate.com/movies/robin-hood', 'Movies', 'https://www.lionsgate.com/movies', '2018-08-16 02:12:00', 'Robin Hood', '00000165-415c-d038-abed-e9dda4460000'), (122, 'https://www.lionsgate.com/movies/hunter-killer', 'Movies', 'https://www.lionsgate.com/movies', '2018-08-16 02:04:00', 'Hunter Killer', '00000165-4155-d038-abed-e9d5f1390000'), (123, 'https://www.lionsgate.com/movies/the-spy-who-dumped-me', 'Movies', 'https://www.lionsgate.com/movies', '2018-08-16 02:19:00', 'The Spy Who Dumped Me', '00000165-4163-d038-abed-e9f3499a0000'), (124, 'https://www.lionsgate.com/movies/a-simple-favor', 'Movies', 'https://www.lionsgate.com/movies', '2018-12-17 23:59:00', 'A Simple Favor', '00000165-3a6f-d038-abed-fbff959a0000'), (125, 'https://www.lionsgate.com/shows/selling-sunset/selling-sunset-season-1', None, None, '2019-03-22 18:22:00', 'Selling Sunset Season 1', '00000169-91a9-dde6-a1e9-9fed005e0000'), (126, 'https://www.lionsgate.com/shows/step-up-high-water/step-up-high-water-season-1', 'Shows', 'https://www.lionsgate.com/shows', '2018-10-31 16:34:00', 'Step Up: High Water', '00000166-cbc6-d8ce-adfe-efff06a10001'), (127, 'https://www.lionsgate.com/shows/orange-is-the-new-black', None, None, '2018-08-27 16:32:00', 'Orange Is The New Black ', '00000165-7d15-d038-abed-fd9574620000'), (128, 'https://www.lionsgate.com/shows/fear-the-walking-dead/fear-the-walking-dead-season-4', 'Shows', 'https://www.lionsgate.com/shows', '2019-01-15 00:00:00', 'Fear The Walking Dead Season 4', '00000167-d2b8-d41e-a567-defa2edc0001'), (129, 'https://www.lionsgate.com/shows/dear-white-people/dear-white-people-season-2', 'DEAR WHITE PEOPLE', 'https://www.lionsgate.com/shows/dear-white-people', '2018-08-27 17:48:00', 'Dear White People Season 2', '00000165-7d5b-d038-abed-fddb4eed0000'), (130, 'https://www.lionsgate.com/shows/greenleaf', None, None, '2018-08-27 17:52:00', 'Greenleaf', '00000165-7d5d-d038-abed-fddd23580000')]\n"
     ]
    }
   ],
   "source": [
    "print(c.execute('''SELECT * from Lionsgate_WS_S''').fetchall())\n",
    "# print(c.execute('''SELECT COUNT(1) FROM Lionsgate_WS''').fetchall())\n",
    "# c.execute('''PRAGMA table_info(Lionsgate_WS_S)''').fetchall()"
   ]
  },
  {
   "cell_type": "code",
   "execution_count": 64,
   "metadata": {},
   "outputs": [
    {
     "ename": "NameError",
     "evalue": "name 'df2_co' is not defined",
     "output_type": "error",
     "traceback": [
      "\u001b[0;31m---------------------------------------------------------------------------\u001b[0m",
      "\u001b[0;31mNameError\u001b[0m                                 Traceback (most recent call last)",
      "\u001b[0;32m<ipython-input-64-9e27cc1fa14b>\u001b[0m in \u001b[0;36m<module>\u001b[0;34m\u001b[0m\n\u001b[0;32m----> 1\u001b[0;31m \u001b[0mdf2_co\u001b[0m\u001b[0;34m(\u001b[0m\u001b[0;34m'df2_co_movies.csv'\u001b[0m\u001b[0;34m)\u001b[0m\u001b[0;34m\u001b[0m\u001b[0;34m\u001b[0m\u001b[0m\n\u001b[0m",
      "\u001b[0;31mNameError\u001b[0m: name 'df2_co' is not defined"
     ]
    }
   ],
   "source": [
    "# df2_co.to_csv('df2_co_movies.csv')"
   ]
  },
  {
   "cell_type": "code",
   "execution_count": 38,
   "metadata": {},
   "outputs": [
    {
     "data": {
      "text/plain": [
       "4"
      ]
     },
     "execution_count": 38,
     "metadata": {},
     "output_type": "execute_result"
    }
   ],
   "source": [
    "# BELOW IS CODE FOR Webscraping Box Office Mojo ('BOM')\n",
    "import pandas as pd\n",
    "import requests\n",
    "import lxml.html as lh\n",
    "import lxml.etree as le\n",
    "\n",
    "Page1 = 'https://www.boxofficemojo.com/studio/chart/?page=1&yr=&view=company&view2=allmovies&studio=lions_gate.htm&p=.htm'\n",
    "Page2 = 'https://www.boxofficemojo.com/studio/chart/?page=2&yr=&view=company&view2=allmovies&studio=lions_gate.htm&p=.htm'\n",
    "Page3 = 'https://www.boxofficemojo.com/studio/chart/?page=3&yr=&view=company&view2=allmovies&studio=lions_gate.htm&p=.htm'\n",
    "Page4 = 'https://www.boxofficemojo.com/studio/chart/?page=4&yr=&view=company&view2=allmovies&studio=lions_gate.htm&p=.htm'\n",
    "BOM_Pages = [Page1, Page2, Page3, Page4]\n",
    "\n",
    "ftr_elements = []\n",
    "for t in BOM_Pages:\n",
    "    \n",
    "    #Create a handle, page, to handle the contents of the website\n",
    "    page = requests.get(t)\n",
    "\n",
    "    #Store the contents of the website under doc\n",
    "    doc = lh.fromstring(page.content)\n",
    "\n",
    "    #Parse data that are stored between <tr>..</tr> of HTML\n",
    "    tr_elements = doc.xpath('//tr')\n",
    "    #tr_elements = doc.xpath('//tr[count(tr/td) = 8]')\n",
    "    tr_elements = [T for T in tr_elements if len(T) == 8]\n",
    "    ftr_elements.append(tr_elements)\n",
    "\n",
    "#Sanity Check length of first 12 rows\n",
    "# [len(T) for T in tr_elements]\n",
    "\n"
   ]
  },
  {
   "cell_type": "code",
   "execution_count": 43,
   "metadata": {},
   "outputs": [
    {
     "name": "stdout",
     "output_type": "stream",
     "text": [
      "[('Rank', []), ('Movie_Title', []), ('Studio', []), ('Total_Gross_Revenue', []), ('Total_Gross_Theaters', []), ('Opening_Revenue', []), ('Opening_Theaters', []), ('Open_Date', [])]\n"
     ]
    }
   ],
   "source": [
    "# Create Column Headers\n",
    "col = [('Rank',[]),('Movie_Title',[]),('Studio',[]),('Total_Gross_Revenue',[]),('Total_Gross_Theaters',[]),('Opening_Revenue', []),('Opening_Theaters', []),('Open_Date',[])]#Studio\tTotal Gross / Theaters\tOpening / Theaters\tOpen\n",
    "\n",
    "print(col)"
   ]
  },
  {
   "cell_type": "code",
   "execution_count": 79,
   "metadata": {},
   "outputs": [],
   "source": [
    "# Unpack list of page elements to just 1 list of tr elements\n",
    "fftr_elements = []\n",
    "for j in ftr_elements:\n",
    "    for r in j:\n",
    "        fftr_elements.append(r)\n"
   ]
  },
  {
   "cell_type": "code",
   "execution_count": 81,
   "metadata": {},
   "outputs": [],
   "source": [
    "#Iterate over tr elements and unpack tr values into corresponding column tuple\n",
    "for j in range(0,len(fftr_elements)):\n",
    "    T=fftr_elements[j]\n",
    "    \n",
    "    #Sanity Check -> If row is not of size 8, the //tr data is not from our table \n",
    "    if len(T)!=8:\n",
    "        break\n",
    "    \n",
    "    #i is the index of our column\n",
    "    i=0\n",
    "    \n",
    "    #Iterate through each element of the row\n",
    "    for t in T.iterchildren():\n",
    "        data=t.text_content() \n",
    "        #Check if row is empty\n",
    "        if i>0:\n",
    "        #Convert any numerical value to integers\n",
    "            try:\n",
    "                data=int(data)\n",
    "            except:\n",
    "                pass\n",
    "        #Append the data to the empty list of the i'th column\n",
    "        col[i][1].append(data)\n",
    "        #Increment i for the next column\n",
    "        i+=1"
   ]
  },
  {
   "cell_type": "code",
   "execution_count": 82,
   "metadata": {},
   "outputs": [
    {
     "data": {
      "text/plain": [
       "[398, 398, 398, 398, 398, 398, 398, 398]"
      ]
     },
     "execution_count": 82,
     "metadata": {},
     "output_type": "execute_result"
    }
   ],
   "source": [
    "# Sanity Check for column data\n",
    "[len(C) for (title,C) in col]\n"
   ]
  },
  {
   "cell_type": "code",
   "execution_count": 83,
   "metadata": {},
   "outputs": [],
   "source": [
    "# Unpack Tuples and Create Dictionaries for Pandas load\n",
    "Dict = {title:column for (title,column) in col}\n",
    "df_BMO = pd.DataFrame(Dict)"
   ]
  },
  {
   "cell_type": "code",
   "execution_count": 84,
   "metadata": {},
   "outputs": [
    {
     "data": {
      "text/html": [
       "<div>\n",
       "<style scoped>\n",
       "    .dataframe tbody tr th:only-of-type {\n",
       "        vertical-align: middle;\n",
       "    }\n",
       "\n",
       "    .dataframe tbody tr th {\n",
       "        vertical-align: top;\n",
       "    }\n",
       "\n",
       "    .dataframe thead th {\n",
       "        text-align: right;\n",
       "    }\n",
       "</style>\n",
       "<table border=\"1\" class=\"dataframe\">\n",
       "  <thead>\n",
       "    <tr style=\"text-align: right;\">\n",
       "      <th></th>\n",
       "      <th>Rank</th>\n",
       "      <th>Movie_Title</th>\n",
       "      <th>Studio</th>\n",
       "      <th>Total_Gross_Revenue</th>\n",
       "      <th>Total_Gross_Theaters</th>\n",
       "      <th>Opening_Revenue</th>\n",
       "      <th>Opening_Theaters</th>\n",
       "      <th>Open_Date</th>\n",
       "    </tr>\n",
       "  </thead>\n",
       "  <tbody>\n",
       "    <tr>\n",
       "      <th>0</th>\n",
       "      <td>100</td>\n",
       "      <td>The Bank Job</td>\n",
       "      <td>LGF</td>\n",
       "      <td>$30,060,660</td>\n",
       "      <td>1,613</td>\n",
       "      <td>$5,935,256</td>\n",
       "      <td>1,603</td>\n",
       "      <td>3/7/08</td>\n",
       "    </tr>\n",
       "    <tr>\n",
       "      <th>1</th>\n",
       "      <td>200</td>\n",
       "      <td>Bug</td>\n",
       "      <td>LGF</td>\n",
       "      <td>$7,025,810</td>\n",
       "      <td>1,661</td>\n",
       "      <td>$3,245,556</td>\n",
       "      <td>1,661</td>\n",
       "      <td>5/25/07</td>\n",
       "    </tr>\n",
       "    <tr>\n",
       "      <th>2</th>\n",
       "      <td>300</td>\n",
       "      <td>The Final Cut</td>\n",
       "      <td>Lions</td>\n",
       "      <td>$551,281</td>\n",
       "      <td>117</td>\n",
       "      <td>$226,296</td>\n",
       "      <td>117</td>\n",
       "      <td>10/15/04</td>\n",
       "    </tr>\n",
       "    <tr>\n",
       "      <th>3</th>\n",
       "      <td>390</td>\n",
       "      <td>I Still See You</td>\n",
       "      <td>LGF</td>\n",
       "      <td>$1,359</td>\n",
       "      <td>10</td>\n",
       "      <td>$815</td>\n",
       "      <td>10</td>\n",
       "      <td>10/12/18</td>\n",
       "    </tr>\n",
       "    <tr>\n",
       "      <th>4</th>\n",
       "      <td>301</td>\n",
       "      <td>American Pastoral</td>\n",
       "      <td>LGF</td>\n",
       "      <td>$544,098</td>\n",
       "      <td>70</td>\n",
       "      <td>$149,038</td>\n",
       "      <td>50</td>\n",
       "      <td>10/21/16</td>\n",
       "    </tr>\n",
       "  </tbody>\n",
       "</table>\n",
       "</div>"
      ],
      "text/plain": [
       "  Rank        Movie_Title Studio Total_Gross_Revenue Total_Gross_Theaters  \\\n",
       "0  100       The Bank Job    LGF         $30,060,660                1,613   \n",
       "1  200                Bug    LGF          $7,025,810                1,661   \n",
       "2  300      The Final Cut  Lions            $551,281                  117   \n",
       "3  390    I Still See You    LGF              $1,359                   10   \n",
       "4  301  American Pastoral    LGF            $544,098                   70   \n",
       "\n",
       "  Opening_Revenue Opening_Theaters Open_Date  \n",
       "0      $5,935,256            1,603    3/7/08  \n",
       "1      $3,245,556            1,661   5/25/07  \n",
       "2        $226,296              117  10/15/04  \n",
       "3            $815               10  10/12/18  \n",
       "4        $149,038               50  10/21/16  "
      ]
     },
     "execution_count": 84,
     "metadata": {},
     "output_type": "execute_result"
    }
   ],
   "source": [
    "df_BMO.head()"
   ]
  },
  {
   "cell_type": "code",
   "execution_count": 85,
   "metadata": {},
   "outputs": [
    {
     "name": "stdout",
     "output_type": "stream",
     "text": [
      "(398, 8)\n",
      "(390, 8)\n"
     ]
    }
   ],
   "source": [
    "# Dedup table but keep Column header\n",
    "print(df_BMO.shape)\n",
    "df_BMO = df_BMO.drop_duplicates(keep='first')\n",
    "print(df_BMO.shape)\n",
    "\n"
   ]
  },
  {
   "cell_type": "code",
   "execution_count": 100,
   "metadata": {},
   "outputs": [
    {
     "data": {
      "text/html": [
       "<div>\n",
       "<style scoped>\n",
       "    .dataframe tbody tr th:only-of-type {\n",
       "        vertical-align: middle;\n",
       "    }\n",
       "\n",
       "    .dataframe tbody tr th {\n",
       "        vertical-align: top;\n",
       "    }\n",
       "\n",
       "    .dataframe thead th {\n",
       "        text-align: right;\n",
       "    }\n",
       "</style>\n",
       "<table border=\"1\" class=\"dataframe\">\n",
       "  <thead>\n",
       "    <tr style=\"text-align: right;\">\n",
       "      <th></th>\n",
       "      <th>Rank</th>\n",
       "      <th>Movie_Title</th>\n",
       "      <th>Studio</th>\n",
       "      <th>Total_Gross_Revenue</th>\n",
       "      <th>Total_Gross_Theaters</th>\n",
       "      <th>Opening_Revenue</th>\n",
       "      <th>Opening_Theaters</th>\n",
       "      <th>Open_Date</th>\n",
       "    </tr>\n",
       "  </thead>\n",
       "  <tbody>\n",
       "    <tr>\n",
       "      <th>0</th>\n",
       "      <td>100</td>\n",
       "      <td>The Bank Job</td>\n",
       "      <td>LGF</td>\n",
       "      <td>$30,060,660</td>\n",
       "      <td>1,613</td>\n",
       "      <td>$5,935,256</td>\n",
       "      <td>1,603</td>\n",
       "      <td>2008-03-07</td>\n",
       "    </tr>\n",
       "    <tr>\n",
       "      <th>1</th>\n",
       "      <td>200</td>\n",
       "      <td>Bug</td>\n",
       "      <td>LGF</td>\n",
       "      <td>$7,025,810</td>\n",
       "      <td>1,661</td>\n",
       "      <td>$3,245,556</td>\n",
       "      <td>1,661</td>\n",
       "      <td>2007-05-25</td>\n",
       "    </tr>\n",
       "    <tr>\n",
       "      <th>2</th>\n",
       "      <td>300</td>\n",
       "      <td>The Final Cut</td>\n",
       "      <td>Lions</td>\n",
       "      <td>$551,281</td>\n",
       "      <td>117</td>\n",
       "      <td>$226,296</td>\n",
       "      <td>117</td>\n",
       "      <td>2004-10-15</td>\n",
       "    </tr>\n",
       "    <tr>\n",
       "      <th>3</th>\n",
       "      <td>390</td>\n",
       "      <td>I Still See You</td>\n",
       "      <td>LGF</td>\n",
       "      <td>$1,359</td>\n",
       "      <td>10</td>\n",
       "      <td>$815</td>\n",
       "      <td>10</td>\n",
       "      <td>2018-10-12</td>\n",
       "    </tr>\n",
       "    <tr>\n",
       "      <th>4</th>\n",
       "      <td>301</td>\n",
       "      <td>American Pastoral</td>\n",
       "      <td>LGF</td>\n",
       "      <td>$544,098</td>\n",
       "      <td>70</td>\n",
       "      <td>$149,038</td>\n",
       "      <td>50</td>\n",
       "      <td>2016-10-21</td>\n",
       "    </tr>\n",
       "  </tbody>\n",
       "</table>\n",
       "</div>"
      ],
      "text/plain": [
       "  Rank        Movie_Title Studio Total_Gross_Revenue Total_Gross_Theaters  \\\n",
       "0  100       The Bank Job    LGF         $30,060,660                1,613   \n",
       "1  200                Bug    LGF          $7,025,810                1,661   \n",
       "2  300      The Final Cut  Lions            $551,281                  117   \n",
       "3  390    I Still See You    LGF              $1,359                   10   \n",
       "4  301  American Pastoral    LGF            $544,098                   70   \n",
       "\n",
       "  Opening_Revenue Opening_Theaters  Open_Date  \n",
       "0      $5,935,256            1,603 2008-03-07  \n",
       "1      $3,245,556            1,661 2007-05-25  \n",
       "2        $226,296              117 2004-10-15  \n",
       "3            $815               10 2018-10-12  \n",
       "4        $149,038               50 2016-10-21  "
      ]
     },
     "execution_count": 100,
     "metadata": {},
     "output_type": "execute_result"
    }
   ],
   "source": [
    "df_BMO.head(5)"
   ]
  },
  {
   "cell_type": "code",
   "execution_count": 87,
   "metadata": {},
   "outputs": [],
   "source": [
    "# Export to csv\n",
    "df_BMO.to_csv('Lionsgate_BOM_DF.csv')"
   ]
  },
  {
   "cell_type": "code",
   "execution_count": 89,
   "metadata": {},
   "outputs": [],
   "source": [
    "df_BMO['Open_Date'] = pd.to_datetime(df_BMO['Open_Date'])"
   ]
  },
  {
   "cell_type": "code",
   "execution_count": 92,
   "metadata": {},
   "outputs": [
    {
     "name": "stdout",
     "output_type": "stream",
     "text": [
      "<class 'pandas.core.frame.DataFrame'>\n",
      "Int64Index: 390 entries, 0 to 396\n",
      "Data columns (total 8 columns):\n",
      "Rank                    390 non-null object\n",
      "Movie_Title             390 non-null object\n",
      "Studio                  390 non-null object\n",
      "Total_Gross_Revenue     390 non-null object\n",
      "Total_Gross_Theaters    390 non-null object\n",
      "Opening_Revenue         390 non-null object\n",
      "Opening_Theaters        390 non-null object\n",
      "Open_Date               390 non-null datetime64[ns]\n",
      "dtypes: datetime64[ns](1), object(7)\n",
      "memory usage: 27.4+ KB\n"
     ]
    }
   ],
   "source": [
    "df_BMO.info()"
   ]
  },
  {
   "cell_type": "code",
   "execution_count": 93,
   "metadata": {},
   "outputs": [],
   "source": [
    "# Copy Dataframe\n",
    "dfco_BMO = df_BMO.copy(deep=True)"
   ]
  },
  {
   "cell_type": "code",
   "execution_count": 109,
   "metadata": {},
   "outputs": [
    {
     "ename": "ValueError",
     "evalue": "could not convert string to float: 'N/A'",
     "output_type": "error",
     "traceback": [
      "\u001b[0;31m---------------------------------------------------------------------------\u001b[0m",
      "\u001b[0;31mValueError\u001b[0m                                Traceback (most recent call last)",
      "\u001b[0;32m<ipython-input-109-f644529fe57c>\u001b[0m in \u001b[0;36m<module>\u001b[0;34m\u001b[0m\n\u001b[1;32m      6\u001b[0m \u001b[0;31m# dfco_BMO['Rank'] = (dfco_BMO['Rank'].astype(int))\u001b[0m\u001b[0;34m\u001b[0m\u001b[0;34m\u001b[0m\u001b[0;34m\u001b[0m\u001b[0m\n\u001b[1;32m      7\u001b[0m \u001b[0;31m# dfco_BMO['Movie_Title'] = (dfco_BMO['Movie_Title'].astype(str))\u001b[0m\u001b[0;34m\u001b[0m\u001b[0;34m\u001b[0m\u001b[0;34m\u001b[0m\u001b[0m\n\u001b[0;32m----> 8\u001b[0;31m \u001b[0mdfco_BMO\u001b[0m\u001b[0;34m[\u001b[0m\u001b[0;34m'Opening_Revenue'\u001b[0m\u001b[0;34m]\u001b[0m \u001b[0;34m=\u001b[0m \u001b[0;34m(\u001b[0m\u001b[0mdfco_BMO\u001b[0m\u001b[0;34m[\u001b[0m\u001b[0;34m'Opening_Revenue'\u001b[0m\u001b[0;34m]\u001b[0m\u001b[0;34m.\u001b[0m\u001b[0mreplace\u001b[0m\u001b[0;34m(\u001b[0m \u001b[0;34m'[\\$,) ]+'\u001b[0m\u001b[0;34m,\u001b[0m\u001b[0;34m''\u001b[0m\u001b[0;34m,\u001b[0m\u001b[0mregex\u001b[0m\u001b[0;34m=\u001b[0m\u001b[0;32mTrue\u001b[0m \u001b[0;34m)\u001b[0m\u001b[0;34m.\u001b[0m\u001b[0mreplace\u001b[0m\u001b[0;34m(\u001b[0m \u001b[0;34m'[(]'\u001b[0m\u001b[0;34m,\u001b[0m\u001b[0;34m'-'\u001b[0m\u001b[0;34m,\u001b[0m \u001b[0mregex\u001b[0m\u001b[0;34m=\u001b[0m\u001b[0;32mTrue\u001b[0m \u001b[0;34m)\u001b[0m\u001b[0;34m.\u001b[0m\u001b[0mreplace\u001b[0m\u001b[0;34m(\u001b[0m \u001b[0;34m''\u001b[0m\u001b[0;34m,\u001b[0m \u001b[0mnp\u001b[0m\u001b[0;34m.\u001b[0m\u001b[0mnan\u001b[0m\u001b[0;34m,\u001b[0m \u001b[0mregex\u001b[0m\u001b[0;34m=\u001b[0m\u001b[0;32mTrue\u001b[0m \u001b[0;34m)\u001b[0m\u001b[0;34m.\u001b[0m\u001b[0mastype\u001b[0m\u001b[0;34m(\u001b[0m\u001b[0mfloat\u001b[0m\u001b[0;34m)\u001b[0m\u001b[0;34m)\u001b[0m\u001b[0;34m\u001b[0m\u001b[0;34m\u001b[0m\u001b[0m\n\u001b[0m",
      "\u001b[0;32m~/anaconda3/lib/python3.7/site-packages/pandas/util/_decorators.py\u001b[0m in \u001b[0;36mwrapper\u001b[0;34m(*args, **kwargs)\u001b[0m\n\u001b[1;32m    176\u001b[0m                 \u001b[0;32melse\u001b[0m\u001b[0;34m:\u001b[0m\u001b[0;34m\u001b[0m\u001b[0;34m\u001b[0m\u001b[0m\n\u001b[1;32m    177\u001b[0m                     \u001b[0mkwargs\u001b[0m\u001b[0;34m[\u001b[0m\u001b[0mnew_arg_name\u001b[0m\u001b[0;34m]\u001b[0m \u001b[0;34m=\u001b[0m \u001b[0mnew_arg_value\u001b[0m\u001b[0;34m\u001b[0m\u001b[0;34m\u001b[0m\u001b[0m\n\u001b[0;32m--> 178\u001b[0;31m             \u001b[0;32mreturn\u001b[0m \u001b[0mfunc\u001b[0m\u001b[0;34m(\u001b[0m\u001b[0;34m*\u001b[0m\u001b[0margs\u001b[0m\u001b[0;34m,\u001b[0m \u001b[0;34m**\u001b[0m\u001b[0mkwargs\u001b[0m\u001b[0;34m)\u001b[0m\u001b[0;34m\u001b[0m\u001b[0;34m\u001b[0m\u001b[0m\n\u001b[0m\u001b[1;32m    179\u001b[0m         \u001b[0;32mreturn\u001b[0m \u001b[0mwrapper\u001b[0m\u001b[0;34m\u001b[0m\u001b[0;34m\u001b[0m\u001b[0m\n\u001b[1;32m    180\u001b[0m     \u001b[0;32mreturn\u001b[0m \u001b[0m_deprecate_kwarg\u001b[0m\u001b[0;34m\u001b[0m\u001b[0;34m\u001b[0m\u001b[0m\n",
      "\u001b[0;32m~/anaconda3/lib/python3.7/site-packages/pandas/core/generic.py\u001b[0m in \u001b[0;36mastype\u001b[0;34m(self, dtype, copy, errors, **kwargs)\u001b[0m\n\u001b[1;32m   4999\u001b[0m             \u001b[0;31m# else, only a single dtype is given\u001b[0m\u001b[0;34m\u001b[0m\u001b[0;34m\u001b[0m\u001b[0;34m\u001b[0m\u001b[0m\n\u001b[1;32m   5000\u001b[0m             new_data = self._data.astype(dtype=dtype, copy=copy, errors=errors,\n\u001b[0;32m-> 5001\u001b[0;31m                                          **kwargs)\n\u001b[0m\u001b[1;32m   5002\u001b[0m             \u001b[0;32mreturn\u001b[0m \u001b[0mself\u001b[0m\u001b[0;34m.\u001b[0m\u001b[0m_constructor\u001b[0m\u001b[0;34m(\u001b[0m\u001b[0mnew_data\u001b[0m\u001b[0;34m)\u001b[0m\u001b[0;34m.\u001b[0m\u001b[0m__finalize__\u001b[0m\u001b[0;34m(\u001b[0m\u001b[0mself\u001b[0m\u001b[0;34m)\u001b[0m\u001b[0;34m\u001b[0m\u001b[0;34m\u001b[0m\u001b[0m\n\u001b[1;32m   5003\u001b[0m \u001b[0;34m\u001b[0m\u001b[0m\n",
      "\u001b[0;32m~/anaconda3/lib/python3.7/site-packages/pandas/core/internals.py\u001b[0m in \u001b[0;36mastype\u001b[0;34m(self, dtype, **kwargs)\u001b[0m\n\u001b[1;32m   3712\u001b[0m \u001b[0;34m\u001b[0m\u001b[0m\n\u001b[1;32m   3713\u001b[0m     \u001b[0;32mdef\u001b[0m \u001b[0mastype\u001b[0m\u001b[0;34m(\u001b[0m\u001b[0mself\u001b[0m\u001b[0;34m,\u001b[0m \u001b[0mdtype\u001b[0m\u001b[0;34m,\u001b[0m \u001b[0;34m**\u001b[0m\u001b[0mkwargs\u001b[0m\u001b[0;34m)\u001b[0m\u001b[0;34m:\u001b[0m\u001b[0;34m\u001b[0m\u001b[0;34m\u001b[0m\u001b[0m\n\u001b[0;32m-> 3714\u001b[0;31m         \u001b[0;32mreturn\u001b[0m \u001b[0mself\u001b[0m\u001b[0;34m.\u001b[0m\u001b[0mapply\u001b[0m\u001b[0;34m(\u001b[0m\u001b[0;34m'astype'\u001b[0m\u001b[0;34m,\u001b[0m \u001b[0mdtype\u001b[0m\u001b[0;34m=\u001b[0m\u001b[0mdtype\u001b[0m\u001b[0;34m,\u001b[0m \u001b[0;34m**\u001b[0m\u001b[0mkwargs\u001b[0m\u001b[0;34m)\u001b[0m\u001b[0;34m\u001b[0m\u001b[0;34m\u001b[0m\u001b[0m\n\u001b[0m\u001b[1;32m   3715\u001b[0m \u001b[0;34m\u001b[0m\u001b[0m\n\u001b[1;32m   3716\u001b[0m     \u001b[0;32mdef\u001b[0m \u001b[0mconvert\u001b[0m\u001b[0;34m(\u001b[0m\u001b[0mself\u001b[0m\u001b[0;34m,\u001b[0m \u001b[0;34m**\u001b[0m\u001b[0mkwargs\u001b[0m\u001b[0;34m)\u001b[0m\u001b[0;34m:\u001b[0m\u001b[0;34m\u001b[0m\u001b[0;34m\u001b[0m\u001b[0m\n",
      "\u001b[0;32m~/anaconda3/lib/python3.7/site-packages/pandas/core/internals.py\u001b[0m in \u001b[0;36mapply\u001b[0;34m(self, f, axes, filter, do_integrity_check, consolidate, **kwargs)\u001b[0m\n\u001b[1;32m   3579\u001b[0m \u001b[0;34m\u001b[0m\u001b[0m\n\u001b[1;32m   3580\u001b[0m             \u001b[0mkwargs\u001b[0m\u001b[0;34m[\u001b[0m\u001b[0;34m'mgr'\u001b[0m\u001b[0;34m]\u001b[0m \u001b[0;34m=\u001b[0m \u001b[0mself\u001b[0m\u001b[0;34m\u001b[0m\u001b[0;34m\u001b[0m\u001b[0m\n\u001b[0;32m-> 3581\u001b[0;31m             \u001b[0mapplied\u001b[0m \u001b[0;34m=\u001b[0m \u001b[0mgetattr\u001b[0m\u001b[0;34m(\u001b[0m\u001b[0mb\u001b[0m\u001b[0;34m,\u001b[0m \u001b[0mf\u001b[0m\u001b[0;34m)\u001b[0m\u001b[0;34m(\u001b[0m\u001b[0;34m**\u001b[0m\u001b[0mkwargs\u001b[0m\u001b[0;34m)\u001b[0m\u001b[0;34m\u001b[0m\u001b[0;34m\u001b[0m\u001b[0m\n\u001b[0m\u001b[1;32m   3582\u001b[0m             \u001b[0mresult_blocks\u001b[0m \u001b[0;34m=\u001b[0m \u001b[0m_extend_blocks\u001b[0m\u001b[0;34m(\u001b[0m\u001b[0mapplied\u001b[0m\u001b[0;34m,\u001b[0m \u001b[0mresult_blocks\u001b[0m\u001b[0;34m)\u001b[0m\u001b[0;34m\u001b[0m\u001b[0;34m\u001b[0m\u001b[0m\n\u001b[1;32m   3583\u001b[0m \u001b[0;34m\u001b[0m\u001b[0m\n",
      "\u001b[0;32m~/anaconda3/lib/python3.7/site-packages/pandas/core/internals.py\u001b[0m in \u001b[0;36mastype\u001b[0;34m(self, dtype, copy, errors, values, **kwargs)\u001b[0m\n\u001b[1;32m    573\u001b[0m     \u001b[0;32mdef\u001b[0m \u001b[0mastype\u001b[0m\u001b[0;34m(\u001b[0m\u001b[0mself\u001b[0m\u001b[0;34m,\u001b[0m \u001b[0mdtype\u001b[0m\u001b[0;34m,\u001b[0m \u001b[0mcopy\u001b[0m\u001b[0;34m=\u001b[0m\u001b[0;32mFalse\u001b[0m\u001b[0;34m,\u001b[0m \u001b[0merrors\u001b[0m\u001b[0;34m=\u001b[0m\u001b[0;34m'raise'\u001b[0m\u001b[0;34m,\u001b[0m \u001b[0mvalues\u001b[0m\u001b[0;34m=\u001b[0m\u001b[0;32mNone\u001b[0m\u001b[0;34m,\u001b[0m \u001b[0;34m**\u001b[0m\u001b[0mkwargs\u001b[0m\u001b[0;34m)\u001b[0m\u001b[0;34m:\u001b[0m\u001b[0;34m\u001b[0m\u001b[0;34m\u001b[0m\u001b[0m\n\u001b[1;32m    574\u001b[0m         return self._astype(dtype, copy=copy, errors=errors, values=values,\n\u001b[0;32m--> 575\u001b[0;31m                             **kwargs)\n\u001b[0m\u001b[1;32m    576\u001b[0m \u001b[0;34m\u001b[0m\u001b[0m\n\u001b[1;32m    577\u001b[0m     def _astype(self, dtype, copy=False, errors='raise', values=None,\n",
      "\u001b[0;32m~/anaconda3/lib/python3.7/site-packages/pandas/core/internals.py\u001b[0m in \u001b[0;36m_astype\u001b[0;34m(self, dtype, copy, errors, values, klass, mgr, **kwargs)\u001b[0m\n\u001b[1;32m    662\u001b[0m \u001b[0;34m\u001b[0m\u001b[0m\n\u001b[1;32m    663\u001b[0m                 \u001b[0;31m# _astype_nansafe works fine with 1-d only\u001b[0m\u001b[0;34m\u001b[0m\u001b[0;34m\u001b[0m\u001b[0;34m\u001b[0m\u001b[0m\n\u001b[0;32m--> 664\u001b[0;31m                 \u001b[0mvalues\u001b[0m \u001b[0;34m=\u001b[0m \u001b[0mastype_nansafe\u001b[0m\u001b[0;34m(\u001b[0m\u001b[0mvalues\u001b[0m\u001b[0;34m.\u001b[0m\u001b[0mravel\u001b[0m\u001b[0;34m(\u001b[0m\u001b[0;34m)\u001b[0m\u001b[0;34m,\u001b[0m \u001b[0mdtype\u001b[0m\u001b[0;34m,\u001b[0m \u001b[0mcopy\u001b[0m\u001b[0;34m=\u001b[0m\u001b[0;32mTrue\u001b[0m\u001b[0;34m)\u001b[0m\u001b[0;34m\u001b[0m\u001b[0;34m\u001b[0m\u001b[0m\n\u001b[0m\u001b[1;32m    665\u001b[0m                 \u001b[0mvalues\u001b[0m \u001b[0;34m=\u001b[0m \u001b[0mvalues\u001b[0m\u001b[0;34m.\u001b[0m\u001b[0mreshape\u001b[0m\u001b[0;34m(\u001b[0m\u001b[0mself\u001b[0m\u001b[0;34m.\u001b[0m\u001b[0mshape\u001b[0m\u001b[0;34m)\u001b[0m\u001b[0;34m\u001b[0m\u001b[0;34m\u001b[0m\u001b[0m\n\u001b[1;32m    666\u001b[0m \u001b[0;34m\u001b[0m\u001b[0m\n",
      "\u001b[0;32m~/anaconda3/lib/python3.7/site-packages/pandas/core/dtypes/cast.py\u001b[0m in \u001b[0;36mastype_nansafe\u001b[0;34m(arr, dtype, copy)\u001b[0m\n\u001b[1;32m    728\u001b[0m \u001b[0;34m\u001b[0m\u001b[0m\n\u001b[1;32m    729\u001b[0m     \u001b[0;32mif\u001b[0m \u001b[0mcopy\u001b[0m\u001b[0;34m:\u001b[0m\u001b[0;34m\u001b[0m\u001b[0;34m\u001b[0m\u001b[0m\n\u001b[0;32m--> 730\u001b[0;31m         \u001b[0;32mreturn\u001b[0m \u001b[0marr\u001b[0m\u001b[0;34m.\u001b[0m\u001b[0mastype\u001b[0m\u001b[0;34m(\u001b[0m\u001b[0mdtype\u001b[0m\u001b[0;34m,\u001b[0m \u001b[0mcopy\u001b[0m\u001b[0;34m=\u001b[0m\u001b[0;32mTrue\u001b[0m\u001b[0;34m)\u001b[0m\u001b[0;34m\u001b[0m\u001b[0;34m\u001b[0m\u001b[0m\n\u001b[0m\u001b[1;32m    731\u001b[0m     \u001b[0;32mreturn\u001b[0m \u001b[0marr\u001b[0m\u001b[0;34m.\u001b[0m\u001b[0mview\u001b[0m\u001b[0;34m(\u001b[0m\u001b[0mdtype\u001b[0m\u001b[0;34m)\u001b[0m\u001b[0;34m\u001b[0m\u001b[0;34m\u001b[0m\u001b[0m\n\u001b[1;32m    732\u001b[0m \u001b[0;34m\u001b[0m\u001b[0m\n",
      "\u001b[0;31mValueError\u001b[0m: could not convert string to float: 'N/A'"
     ]
    }
   ],
   "source": [
    "# Change dfco_BMO column Datatypes\n",
    "import numpy as np\n",
    "\n",
    "# dfco_BMO['Total_Gross_Revenue'] = (dfco_BMO['Total_Gross_Revenue'].replace( '[\\$,)]','', regex=True ).replace( '[(]','-',   regex=True ).astype(float))\n",
    "# dfco_BMO['Opening_Revenue'] = (dfco_BMO['Opening_Revenue'].replace( '[\\$,)]','', regex=True ).replace( '[(]','-',   regex=True ).astype(float))\n",
    "# dfco_BMO['Rank'] = (dfco_BMO['Rank'].astype(int))\n",
    "# dfco_BMO['Movie_Title'] = (dfco_BMO['Movie_Title'].astype(str))\n",
    "dfco_BMO['Opening_Revenue'] = (dfco_BMO['Opening_Revenue'].replace( '[\\$,) ]+','',regex=True ).replace( '[(]','-', regex=True ).replace( '', np.nan, regex=True ).astype(float))"
   ]
  },
  {
   "cell_type": "code",
   "execution_count": 106,
   "metadata": {},
   "outputs": [
    {
     "name": "stdout",
     "output_type": "stream",
     "text": [
      "<class 'pandas.core.frame.DataFrame'>\n",
      "Int64Index: 390 entries, 0 to 396\n",
      "Data columns (total 8 columns):\n",
      "Rank                    390 non-null int64\n",
      "Movie_Title             390 non-null object\n",
      "Studio                  390 non-null object\n",
      "Total_Gross_Revenue     390 non-null float64\n",
      "Total_Gross_Theaters    390 non-null object\n",
      "Opening_Revenue         390 non-null object\n",
      "Opening_Theaters        390 non-null object\n",
      "Open_Date               390 non-null datetime64[ns]\n",
      "dtypes: datetime64[ns](1), float64(1), int64(1), object(5)\n",
      "memory usage: 27.4+ KB\n"
     ]
    }
   ],
   "source": [
    "dfco_BMO.info()"
   ]
  },
  {
   "cell_type": "code",
   "execution_count": 118,
   "metadata": {
    "collapsed": true
   },
   "outputs": [
    {
     "name": "stdout",
     "output_type": "stream",
     "text": [
      "<class 'pandas.core.frame.DataFrame'>\n",
      "RangeIndex: 1760 entries, 0 to 1759\n",
      "Data columns (total 27 columns):\n",
      "id                      1760 non-null float64\n",
      "imdb_id                 1760 non-null object\n",
      "title                   1760 non-null object\n",
      "original_title          1760 non-null object\n",
      "release_date            1760 non-null object\n",
      "revenue                 1760 non-null float64\n",
      "budget                  1760 non-null float64\n",
      "runtime                 1760 non-null float64\n",
      "tagline                 1706 non-null object\n",
      "overview                1760 non-null object\n",
      "production_countries    1760 non-null object\n",
      "vote_average            1760 non-null float64\n",
      "vote_count              1760 non-null float64\n",
      "all_production_cos      1760 non-null object\n",
      "list_genres             1760 non-null object\n",
      "release_year            1760 non-null int64\n",
      "multiple                1760 non-null float64\n",
      "Lionsgate               1760 non-null bool\n",
      "Warner                  1760 non-null bool\n",
      "fox                     1760 non-null bool\n",
      "marvel                  1760 non-null bool\n",
      "paramount               1760 non-null bool\n",
      "disney                  1760 non-null bool\n",
      "production_companies    1760 non-null object\n",
      "revenue_m               1760 non-null float64\n",
      "budget_m                1760 non-null float64\n",
      "is_us                   1760 non-null bool\n",
      "dtypes: bool(7), float64(9), int64(1), object(10)\n",
      "memory usage: 287.1+ KB\n"
     ]
    }
   ],
   "source": [
    "df = pd.read_csv('dfx_2_movies.csv')\n",
    "df = df.drop(columns = ['Unnamed: 0', 'Unnamed: 0.1'])\n",
    "\n",
    "\n",
    "df.info()"
   ]
  },
  {
   "cell_type": "code",
   "execution_count": 128,
   "metadata": {},
   "outputs": [],
   "source": [
    "# Rename Column\n",
    "df.rename(columns={'Warner': 'warner'}, inplace=True)"
   ]
  },
  {
   "cell_type": "code",
   "execution_count": 126,
   "metadata": {},
   "outputs": [
    {
     "data": {
      "text/plain": [
       "{'name': 'lions',\n",
       " 'count': 36,\n",
       " 'mean': 8.501301664103714,\n",
       " 'median': 3.912646915625,\n",
       " 'min': 0.6750283913043478,\n",
       " 'max': 86.5930575,\n",
       " 'std': 15.121890918564059}"
      ]
     },
     "execution_count": 126,
     "metadata": {},
     "output_type": "execute_result"
    }
   ],
   "source": [
    "# Create Dictionary of Production Companies for various stats on 'multiple' \n",
    "prod_cos = ['lions', 'disney', 'columbia', 'pixar', 'marvel', 'warner', 'paramount', 'fox', 'universal', 'newline', 'dreamworks', 'relativity']\n",
    "list_of_cos = []\n",
    "var = 'multiple'\n",
    "\n",
    "for pco in prod_cos:\n",
    "    pco_dict = {'name': pco, \n",
    "                  'count': df.loc[(df[pco] == True)][var].count(), \n",
    "                  'mean': df.loc[(df[pco] == True)][var].mean(),\n",
    "                  'median': df.loc[(df[pco] == True)][var].median(),\n",
    "                  'min': df.loc[(df[pco] == True)][var].min(),\n",
    "                  'max': df.loc[(df[pco] == True)][var].max(),\n",
    "                  'std': df.loc[(df[pco] == True)][var].std()\n",
    "                 }\n",
    "    list_of_cos.append(pco_dict)\n",
    "    \n",
    "print(len(list_of_cos))"
   ]
  },
  {
   "cell_type": "code",
   "execution_count": 130,
   "metadata": {},
   "outputs": [
    {
     "data": {
      "text/html": [
       "<div>\n",
       "<style scoped>\n",
       "    .dataframe tbody tr th:only-of-type {\n",
       "        vertical-align: middle;\n",
       "    }\n",
       "\n",
       "    .dataframe tbody tr th {\n",
       "        vertical-align: top;\n",
       "    }\n",
       "\n",
       "    .dataframe thead th {\n",
       "        text-align: right;\n",
       "    }\n",
       "</style>\n",
       "<table border=\"1\" class=\"dataframe\">\n",
       "  <thead>\n",
       "    <tr style=\"text-align: right;\">\n",
       "      <th></th>\n",
       "      <th>id</th>\n",
       "      <th>imdb_id</th>\n",
       "      <th>title</th>\n",
       "      <th>original_title</th>\n",
       "      <th>release_date</th>\n",
       "      <th>revenue</th>\n",
       "      <th>budget</th>\n",
       "      <th>runtime</th>\n",
       "      <th>tagline</th>\n",
       "      <th>overview</th>\n",
       "      <th>...</th>\n",
       "      <th>lions</th>\n",
       "      <th>warner</th>\n",
       "      <th>fox</th>\n",
       "      <th>marvel</th>\n",
       "      <th>paramount</th>\n",
       "      <th>disney</th>\n",
       "      <th>production_companies</th>\n",
       "      <th>revenue_m</th>\n",
       "      <th>budget_m</th>\n",
       "      <th>is_us</th>\n",
       "    </tr>\n",
       "  </thead>\n",
       "  <tbody>\n",
       "    <tr>\n",
       "      <th>0</th>\n",
       "      <td>19995.0</td>\n",
       "      <td>tt0499549</td>\n",
       "      <td>Avatar</td>\n",
       "      <td>Avatar</td>\n",
       "      <td>2009-12-10</td>\n",
       "      <td>2.787965e+09</td>\n",
       "      <td>237000000.0</td>\n",
       "      <td>162.0</td>\n",
       "      <td>Enter the World of Pandora.</td>\n",
       "      <td>In the 22nd century, a paraplegic Marine is di...</td>\n",
       "      <td>...</td>\n",
       "      <td>False</td>\n",
       "      <td>False</td>\n",
       "      <td>True</td>\n",
       "      <td>False</td>\n",
       "      <td>False</td>\n",
       "      <td>False</td>\n",
       "      <td>['IngeniousFilmPartners', 'DuneEntertainment',...</td>\n",
       "      <td>2787.965087</td>\n",
       "      <td>237.0</td>\n",
       "      <td>True</td>\n",
       "    </tr>\n",
       "    <tr>\n",
       "      <th>1</th>\n",
       "      <td>140607.0</td>\n",
       "      <td>tt2488496</td>\n",
       "      <td>Star Wars: The Force Awakens</td>\n",
       "      <td>Star Wars: The Force Awakens</td>\n",
       "      <td>2015-12-15</td>\n",
       "      <td>2.068224e+09</td>\n",
       "      <td>245000000.0</td>\n",
       "      <td>136.0</td>\n",
       "      <td>Every generation has a story.</td>\n",
       "      <td>Thirty years after defeating the Galactic Empi...</td>\n",
       "      <td>...</td>\n",
       "      <td>False</td>\n",
       "      <td>False</td>\n",
       "      <td>False</td>\n",
       "      <td>False</td>\n",
       "      <td>False</td>\n",
       "      <td>False</td>\n",
       "      <td>['TruenorthProductions', 'Lucasfilm', 'BadRobot']</td>\n",
       "      <td>2068.223624</td>\n",
       "      <td>245.0</td>\n",
       "      <td>True</td>\n",
       "    </tr>\n",
       "    <tr>\n",
       "      <th>2</th>\n",
       "      <td>299536.0</td>\n",
       "      <td>tt4154756</td>\n",
       "      <td>Avengers: Infinity War</td>\n",
       "      <td>Avengers: Infinity War</td>\n",
       "      <td>2018-04-25</td>\n",
       "      <td>2.046240e+09</td>\n",
       "      <td>300000000.0</td>\n",
       "      <td>149.0</td>\n",
       "      <td>An entire universe. Once and for all.</td>\n",
       "      <td>As the Avengers and their allies have continue...</td>\n",
       "      <td>...</td>\n",
       "      <td>False</td>\n",
       "      <td>False</td>\n",
       "      <td>False</td>\n",
       "      <td>True</td>\n",
       "      <td>False</td>\n",
       "      <td>False</td>\n",
       "      <td>['MarvelStudios']</td>\n",
       "      <td>2046.239637</td>\n",
       "      <td>300.0</td>\n",
       "      <td>True</td>\n",
       "    </tr>\n",
       "    <tr>\n",
       "      <th>3</th>\n",
       "      <td>597.0</td>\n",
       "      <td>tt0120338</td>\n",
       "      <td>Titanic</td>\n",
       "      <td>Titanic</td>\n",
       "      <td>1997-11-18</td>\n",
       "      <td>1.845034e+09</td>\n",
       "      <td>200000000.0</td>\n",
       "      <td>194.0</td>\n",
       "      <td>Nothing on Earth could come between them.</td>\n",
       "      <td>101-year-old Rose DeWitt Bukater tells the sto...</td>\n",
       "      <td>...</td>\n",
       "      <td>False</td>\n",
       "      <td>False</td>\n",
       "      <td>True</td>\n",
       "      <td>False</td>\n",
       "      <td>True</td>\n",
       "      <td>False</td>\n",
       "      <td>['Paramount', 'LightstormEntertainment', '20th...</td>\n",
       "      <td>1845.034188</td>\n",
       "      <td>200.0</td>\n",
       "      <td>True</td>\n",
       "    </tr>\n",
       "    <tr>\n",
       "      <th>4</th>\n",
       "      <td>135397.0</td>\n",
       "      <td>tt0369610</td>\n",
       "      <td>Jurassic World</td>\n",
       "      <td>Jurassic World</td>\n",
       "      <td>2015-06-06</td>\n",
       "      <td>1.671713e+09</td>\n",
       "      <td>150000000.0</td>\n",
       "      <td>124.0</td>\n",
       "      <td>The park is open.</td>\n",
       "      <td>Twenty-two years after the events of Jurassic ...</td>\n",
       "      <td>...</td>\n",
       "      <td>False</td>\n",
       "      <td>False</td>\n",
       "      <td>False</td>\n",
       "      <td>False</td>\n",
       "      <td>False</td>\n",
       "      <td>False</td>\n",
       "      <td>['FujiTelevisionNetwork', 'AmblinEntertainment...</td>\n",
       "      <td>1671.713208</td>\n",
       "      <td>150.0</td>\n",
       "      <td>True</td>\n",
       "    </tr>\n",
       "  </tbody>\n",
       "</table>\n",
       "<p>5 rows × 27 columns</p>\n",
       "</div>"
      ],
      "text/plain": [
       "         id    imdb_id                         title  \\\n",
       "0   19995.0  tt0499549                        Avatar   \n",
       "1  140607.0  tt2488496  Star Wars: The Force Awakens   \n",
       "2  299536.0  tt4154756        Avengers: Infinity War   \n",
       "3     597.0  tt0120338                       Titanic   \n",
       "4  135397.0  tt0369610                Jurassic World   \n",
       "\n",
       "                 original_title release_date       revenue       budget  \\\n",
       "0                        Avatar   2009-12-10  2.787965e+09  237000000.0   \n",
       "1  Star Wars: The Force Awakens   2015-12-15  2.068224e+09  245000000.0   \n",
       "2        Avengers: Infinity War   2018-04-25  2.046240e+09  300000000.0   \n",
       "3                       Titanic   1997-11-18  1.845034e+09  200000000.0   \n",
       "4                Jurassic World   2015-06-06  1.671713e+09  150000000.0   \n",
       "\n",
       "   runtime                                    tagline  \\\n",
       "0    162.0                Enter the World of Pandora.   \n",
       "1    136.0              Every generation has a story.   \n",
       "2    149.0      An entire universe. Once and for all.   \n",
       "3    194.0  Nothing on Earth could come between them.   \n",
       "4    124.0                          The park is open.   \n",
       "\n",
       "                                            overview  ...    lions  warner  \\\n",
       "0  In the 22nd century, a paraplegic Marine is di...  ...    False   False   \n",
       "1  Thirty years after defeating the Galactic Empi...  ...    False   False   \n",
       "2  As the Avengers and their allies have continue...  ...    False   False   \n",
       "3  101-year-old Rose DeWitt Bukater tells the sto...  ...    False   False   \n",
       "4  Twenty-two years after the events of Jurassic ...  ...    False   False   \n",
       "\n",
       "     fox marvel paramount  disney  \\\n",
       "0   True  False     False   False   \n",
       "1  False  False     False   False   \n",
       "2  False   True     False   False   \n",
       "3   True  False      True   False   \n",
       "4  False  False     False   False   \n",
       "\n",
       "                                production_companies    revenue_m  budget_m  \\\n",
       "0  ['IngeniousFilmPartners', 'DuneEntertainment',...  2787.965087     237.0   \n",
       "1  ['TruenorthProductions', 'Lucasfilm', 'BadRobot']  2068.223624     245.0   \n",
       "2                                  ['MarvelStudios']  2046.239637     300.0   \n",
       "3  ['Paramount', 'LightstormEntertainment', '20th...  1845.034188     200.0   \n",
       "4  ['FujiTelevisionNetwork', 'AmblinEntertainment...  1671.713208     150.0   \n",
       "\n",
       "   is_us  \n",
       "0   True  \n",
       "1   True  \n",
       "2   True  \n",
       "3   True  \n",
       "4   True  \n",
       "\n",
       "[5 rows x 27 columns]"
      ]
     },
     "execution_count": 130,
     "metadata": {},
     "output_type": "execute_result"
    }
   ],
   "source": [
    "df.head(5)"
   ]
  },
  {
   "cell_type": "code",
   "execution_count": null,
   "metadata": {},
   "outputs": [],
   "source": []
  }
 ],
 "metadata": {
  "kernelspec": {
   "display_name": "Python 3",
   "language": "python",
   "name": "python3"
  },
  "language_info": {
   "codemirror_mode": {
    "name": "ipython",
    "version": 3
   },
   "file_extension": ".py",
   "mimetype": "text/x-python",
   "name": "python",
   "nbconvert_exporter": "python",
   "pygments_lexer": "ipython3",
   "version": "3.7.1"
  }
 },
 "nbformat": 4,
 "nbformat_minor": 2
}
